{
 "cells": [
  {
   "cell_type": "markdown",
   "metadata": {},
   "source": [
    "### Using cellpose for deep-learning powered segmentation of lattice lightsheet data"
   ]
  },
  {
   "cell_type": "markdown",
   "metadata": {},
   "source": [
    "Custom cellpose module: `cellpose_1.py`"
   ]
  },
  {
   "cell_type": "code",
   "execution_count": 5,
   "metadata": {},
   "outputs": [],
   "source": [
    "#We define a function use cellpose model \"cyto\" and enabled 3D prediction\n",
    "#The function is saved as `cellpose_1.py` and should be in the same folder with the workflow file generated below inorder to function in napari-lattice\n",
    "\n",
    "\n",
    "### cellpose1.py\n",
    "import numpy as np\n",
    "from cellpose import models\n",
    "\n",
    "\n",
    "def predict_cellpose(img,model_type:str=\"cyto\"):\n",
    "    model = models.Cellpose(gpu=True, model_type=model_type)\n",
    "    channels = [0,0]\n",
    "    img =np.array(img)\n",
    "    masks, flows, styles, diams = model.eval(img, flow_threshold=None, channels=channels, diameter=25, do_3D=True)\n",
    "    return masks\n"
   ]
  },
  {
   "cell_type": "markdown",
   "metadata": {},
   "source": [
    "Define the cellpose workflow"
   ]
  },
  {
   "cell_type": "code",
   "execution_count": 6,
   "metadata": {},
   "outputs": [
    {
     "name": "stdout",
     "output_type": "stream",
     "text": [
      "Workflow:\n",
      "cellpose <- (<function predict_cellpose at 0x000001CDB14D41F0>, 'input', 'cyto')\n",
      "\n"
     ]
    }
   ],
   "source": [
    "from napari_workflows import Workflow\n",
    "from cellpose_1 import predict_cellpose\n",
    "\n",
    "#We initialise a workflow\n",
    "cellpose_workflow = Workflow()\n",
    "\n",
    "#define cellpose prediction\n",
    "\n",
    "input_arg = \"input\"\n",
    "task_name = \"cellpose\"\n",
    "cellpose_workflow.set(task_name,predict_cellpose,input_arg,model_type=\"cyto\")\n",
    "#Printing a workflow will show you the arguments\n",
    "print(cellpose_workflow)"
   ]
  },
  {
   "cell_type": "markdown",
   "metadata": {},
   "source": [
    "Lets test the cellpose prediction workflow on deskewed image"
   ]
  },
  {
   "cell_type": "code",
   "execution_count": 7,
   "metadata": {},
   "outputs": [
    {
     "data": {
      "image/png": "[encoded data removed]",
      "text/plain": [
       "<Figure size 640x480 with 1 Axes>"
      ]
     },
     "metadata": {},
     "output_type": "display_data"
    }
   ],
   "source": [
    "from skimage.io import imread,imsave\n",
    "import pyclesperanto_prototype as cle\n",
    "import matplotlib.pyplot as plt\n",
    "\n",
    "\n",
    "img = imread(\"../RBC_lattice.tif\")\n",
    "voxel_size_x_in_microns = 0.145\n",
    "voxel_size_y_in_microns = 0.145\n",
    "voxel_size_z_in_microns = 0.3\n",
    "deskewing_angle_in_degrees = 30\n",
    "\n",
    "deskewed_img = cle.deskew_y(input_image = img,\n",
    "                            angle_in_degrees =deskewing_angle_in_degrees,\n",
    "                            voxel_size_x=voxel_size_x_in_microns,\n",
    "                            voxel_size_y= voxel_size_y_in_microns,\n",
    "                            voxel_size_z=voxel_size_z_in_microns,\n",
    "                            linear_interpolation=True)\n",
    "\n",
    "cellpose_workflow.set(input_arg,deskewed_img)\n",
    "prediction = cellpose_workflow.get(\"cellpose\")\n",
    "cle.imshow(prediction)"
   ]
  },
  {
   "cell_type": "code",
   "execution_count": 9,
   "metadata": {},
   "outputs": [],
   "source": [
    "from napari_workflows import _io_yaml_v1\n",
    "\n",
    "_io_yaml_v1.save_workflow(\"cellpose_1_workflow.yml\",cellpose_workflow)"
   ]
  }
 ],
 "metadata": {
  "kernelspec": {
   "display_name": "Python 3.9.13 ('lattice_cellpose')",
   "language": "python",
   "name": "python3"
  },
  "language_info": {
   "codemirror_mode": {
    "name": "ipython",
    "version": 3
   },
   "file_extension": ".py",
   "mimetype": "text/x-python",
   "name": "python",
   "nbconvert_exporter": "python",
   "pygments_lexer": "ipython3",
   "version": "3.9.13"
  },
  "orig_nbformat": 4,
  "vscode": {
   "interpreter": {
    "hash": "12487bc97148765afe1eb63ae72e19dec3ebb1592ecf43d517e5a7ea72c03dd3"
   }
  }
 },
 "nbformat": 4,
 "nbformat_minor": 2
}
