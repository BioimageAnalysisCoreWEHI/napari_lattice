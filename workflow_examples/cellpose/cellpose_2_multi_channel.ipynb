{
 "cells": [
  {
   "cell_type": "markdown",
   "metadata": {},
   "source": [
    "### Using cellpose for deep-learning powered segmentation of lattice lightsheet data\n",
    "Multichannel data"
   ]
  },
  {
   "cell_type": "markdown",
   "metadata": {},
   "source": [
    "Custom cellpose module: `cellpose_2.py`\n",
    "Within napari-lattice, the `config module` can be used to access the currently active channel (`config.channel`) and time (`config.time`). This is particularly useful when you want to batch process your data. In example below, we will apply a different model based on the active channel"
   ]
  },
  {
   "cell_type": "code",
   "execution_count": 1,
   "metadata": {},
   "outputs": [
    {
     "name": "stderr",
     "output_type": "stream",
     "text": [
      "c:\\Users\\Pradeep\\.conda\\envs\\lattice_cellpose\\lib\\site-packages\\tqdm\\auto.py:22: TqdmWarning: IProgress not found. Please update jupyter and ipywidgets. See https://ipywidgets.readthedocs.io/en/stable/user_install.html\n",
      "  from .autonotebook import tqdm as notebook_tqdm\n"
     ]
    }
   ],
   "source": [
    "#The function is saved as `cellpose_2.py` and should be in the same folder with the workflow file generated below inorder to function in napari-lattice\n",
    "\n",
    "\n",
    "### cellpose_2.py\n",
    "import numpy as np\n",
    "from cellpose import models\n",
    "from napari_lattice import config\n",
    "\n",
    "\n",
    "def predict_cellpose_multich(img,model_channel1:str,model_channel2:str):\n",
    "    #if first channel, use model specified in model_channel1\n",
    "    if config.channel == 0:\n",
    "        model_type = model_channel1\n",
    "    #if second channel, use model specified in model_channel2\n",
    "    elif config.channel == 1:\n",
    "        model_type = model_channel2\n",
    "    model = models.Cellpose(gpu=True, model_type=model_type)\n",
    "    channels = [0,0]\n",
    "    img =np.array(img)\n",
    "    masks, flows, styles, diams = model.eval(img, flow_threshold=None, channels=channels, diameter=25, do_3D=True)\n",
    "    return masks\n"
   ]
  },
  {
   "cell_type": "markdown",
   "metadata": {},
   "source": [
    "Define the cellpose workflow, where we apply the cellpose models `nuclei` to channel1 and `cyto2` to channel2. This is just to demonstrate how we can apply channel-specific operations."
   ]
  },
  {
   "cell_type": "code",
   "execution_count": 2,
   "metadata": {},
   "outputs": [
    {
     "name": "stdout",
     "output_type": "stream",
     "text": [
      "Workflow:\n",
      "cellpose_multich <- (<function predict_cellpose_multich at 0x00000283780A7DC0>, 'input', 'nuclei', 'cyto2')\n",
      "\n"
     ]
    }
   ],
   "source": [
    "from napari_workflows import Workflow\n",
    "from cellpose_2 import predict_cellpose_multich\n",
    "\n",
    "#We initialise a workflow\n",
    "cellpose_multi_ch_workflow = Workflow()\n",
    "\n",
    "#define cellpose prediction\n",
    "\n",
    "input_arg = \"input\"\n",
    "task_name = \"cellpose_multich\"\n",
    "cellpose_multi_ch_workflow.set(task_name,predict_cellpose_multich,input_arg,model_channel1=\"nuclei\",model_channel2=\"cyto2\")\n",
    "#Printing a workflow will show you the arguments\n",
    "print(cellpose_multi_ch_workflow)"
   ]
  },
  {
   "cell_type": "code",
   "execution_count": 3,
   "metadata": {},
   "outputs": [],
   "source": [
    "from napari_workflows import _io_yaml_v1\n",
    "\n",
    "_io_yaml_v1.save_workflow(\"cellpose_2_workflow.yml\",cellpose_multi_ch_workflow)"
   ]
  },
  {
   "cell_type": "markdown",
   "metadata": {},
   "source": [
    "In future versions of `napari-lattice`, we will add support to pass multi-channel images for use in Cellpose"
   ]
  },
  {
   "cell_type": "markdown",
   "metadata": {},
   "source": [
    "#TODO: ADD EXAMPLE"
   ]
  },
  {
   "cell_type": "markdown",
   "metadata": {},
   "source": []
  }
 ],
 "metadata": {
  "kernelspec": {
   "display_name": "Python 3.9.13 ('lattice_cellpose')",
   "language": "python",
   "name": "python3"
  },
  "language_info": {
   "codemirror_mode": {
    "name": "ipython",
    "version": 3
   },
   "file_extension": ".py",
   "mimetype": "text/x-python",
   "name": "python",
   "nbconvert_exporter": "python",
   "pygments_lexer": "ipython3",
   "version": "3.9.13"
  },
  "orig_nbformat": 4,
  "vscode": {
   "interpreter": {
    "hash": "12487bc97148765afe1eb63ae72e19dec3ebb1592ecf43d517e5a7ea72c03dd3"
   }
  }
 },
 "nbformat": 4,
 "nbformat_minor": 2
}
