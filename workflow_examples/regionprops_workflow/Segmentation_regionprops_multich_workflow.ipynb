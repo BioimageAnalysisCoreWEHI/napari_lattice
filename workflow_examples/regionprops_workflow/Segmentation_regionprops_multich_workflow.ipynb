{
 "cells": [
  {
   "cell_type": "markdown",
   "metadata": {},
   "source": [
    "## Designing a segmentation workflow (Multichannel)\n",
    "\n",
    "#### This notebook illustrates how to design a segmentation workflow, so a different threshold or operation is used based on the channel."
   ]
  },
  {
   "cell_type": "markdown",
   "metadata": {},
   "source": [
    "Define code for segmentation based on [Interactive Workflows](https://github.com/BioimageAnalysisCoreWEHI/napari_lattice/wiki/5.-Workflows-(Interactive:-no-coding)#interactive). However, lets use a different operation for each channel.\n",
    "\n",
    "* Median filter (1,1,0) regardless of the channel\n",
    "* Triangle Threshold for channel 1, and \n",
    "* Otsu Threshold for channel 2\n",
    "* Connected components labelling\n",
    "\n",
    "TODO: Add example for multichannel segmentation\n"
   ]
  },
  {
   "cell_type": "code",
   "execution_count": 5,
   "metadata": {},
   "outputs": [],
   "source": [
    "#The custom python function will look like:\n",
    "\n",
    "#measure_regionprops_multich.py\n",
    "\n",
    "from napari_lattice import config\n",
    "from skimage.filters import threshold_triangle, threshold_otsu\n",
    "\n",
    "def segment_multich(img):\n",
    "    #if first channel, use threshold_triangle\n",
    "    if config.channel == 0:\n",
    "        binary_img = threshold_triangle(img)\n",
    "    #if second channel, use Otsu threshold\n",
    "    elif config.channel == 1:\n",
    "        binary_img = threshold_otsu(img)\n",
    "    return binary_img\n",
    "\n",
    "    "
   ]
  },
  {
   "cell_type": "markdown",
   "metadata": {},
   "source": [
    "Above is saved in a file called:  `measure_regionprops_multich.py`"
   ]
  },
  {
   "cell_type": "code",
   "execution_count": 9,
   "metadata": {},
   "outputs": [
    {
     "name": "stdout",
     "output_type": "stream",
     "text": [
      "Workflow:\n",
      "median <- (<function median_sphere at 0x000002BFF4859AF0>, 'input_img', None, 1, 1, 1)\n",
      "binarise_multich <- (<function segment_multich at 0x000002BF985B60D0>, 'gaussian')\n",
      "label <- (<function connected_components_labeling_box at 0x000002BFF4908B80>, 'binarise_multich')\n",
      "\n"
     ]
    }
   ],
   "source": [
    "#import workflow\n",
    "from napari_workflows import Workflow\n",
    "import measure_regionprops_multich\n",
    "import pyclesperanto_prototype as cle\n",
    "\n",
    "#We initialise a workflow\n",
    "segmentation_multich_workflow = Workflow()\n",
    "\n",
    "#For each workflow , we need to define the name of the task, the function name and the function parameters\n",
    "#For the input image, we only need to pass a variable or we pass the name of the previous workflow task_name\n",
    "\n",
    "\n",
    "#Set task for median first \n",
    "#you can use any name for input image\n",
    "input_image = \"input_img\"\n",
    "\n",
    "#To set a task, we use the set method\n",
    "segmentation_multich_workflow.set(\"median\",\n",
    "                          cle.median_sphere,\n",
    "                          source = input_image,\n",
    "                          radius_x = 1, \n",
    "                          radius_y= 1,\n",
    "                          radius_z= 1)\n",
    "\n",
    "#The second task will use input from above. so set the task name 'median' as input \n",
    "segmentation_multich_workflow.set(\"binarise_multich\",\n",
    "                          measure_regionprops_multich.segment_multich,\n",
    "                          img = \"gaussian\")\n",
    "\n",
    "segmentation_multich_workflow.set(\"label\",\n",
    "                          cle.connected_components_labeling_box,\n",
    "                          binary_input = \"binarise_multich\")\n",
    "\n",
    "#Printing a workflow will show you the arguments\n",
    "print(segmentation_multich_workflow)"
   ]
  },
  {
   "cell_type": "code",
   "execution_count": 8,
   "metadata": {},
   "outputs": [],
   "source": [
    "from napari_workflows import _io_yaml_v1\n",
    "\n",
    "_io_yaml_v1.save_workflow(\"regionprops_multich_workflow.yml\", segmentation_multich_workflow)"
   ]
  },
  {
   "cell_type": "markdown",
   "metadata": {},
   "source": [
    "To use this in `napari-lattice`, import it in under the `Workflow` tab.\n",
    "You can try `Preview Workflow` to test it on a region or `Apply Workflow and Save` to apply it across a range of timepoints/channels.\n",
    "\n",
    "Refer to the `napari-lattice Wiki` for more details"
   ]
  }
 ],
 "metadata": {
  "kernelspec": {
   "display_name": "Python 3.9.13 ('lattice_cellpose')",
   "language": "python",
   "name": "python3"
  },
  "language_info": {
   "codemirror_mode": {
    "name": "ipython",
    "version": 3
   },
   "file_extension": ".py",
   "mimetype": "text/x-python",
   "name": "python",
   "nbconvert_exporter": "python",
   "pygments_lexer": "ipython3",
   "version": "3.9.13"
  },
  "orig_nbformat": 4,
  "vscode": {
   "interpreter": {
    "hash": "12487bc97148765afe1eb63ae72e19dec3ebb1592ecf43d517e5a7ea72c03dd3"
   }
  }
 },
 "nbformat": 4,
 "nbformat_minor": 2
}
