{
 "cells": [
  {
   "cell_type": "markdown",
   "metadata": {},
   "source": [
    "## Deskewing\n",
    "\n",
    "We will show how to use napari-lattice API for peforming deskew and deconvolution"
   ]
  },
  {
   "cell_type": "code",
   "execution_count": 1,
   "metadata": {},
   "outputs": [
    {
     "data": {
      "text/plain": [
       "<NVIDIA GeForce RTX 3080 on Platform: NVIDIA CUDA (2 refs)>"
      ]
     },
     "execution_count": 10,
     "metadata": {},
     "output_type": "execute_result"
    }
   ],
   "source": [
    "import os\n",
    "import pyclesperanto_prototype as cle\n",
    "import urllib.request\n",
    "\n",
    "cle.get_device()"
   ]
  },
  {
   "cell_type": "markdown",
   "metadata": {},
   "source": [
    "This is a large dataset, so may take a while to download ~700 MB"
   ]
  },
  {
   "cell_type": "code",
   "execution_count": 11,
   "metadata": {},
   "outputs": [
    {
     "name": "stdout",
     "output_type": "stream",
     "text": [
      "Downloading file\n",
      "Downloaded at : ./sample_data/RBC_tiny.czi\n"
     ]
    }
   ],
   "source": [
    "#download sample data from https://zenodo.org/records/14903188\n",
    "img_path = \"./sample_data/RBC_medium_LLSZ.czi\"\n",
    "\n",
    "#make dir if not exists\n",
    "if not os.path.exists(\"./sample_data\"):\n",
    "    os.makedirs(\"./sample_data\")\n",
    "\n",
    "url = \"https://zenodo.org/records/14903188/files/RBC_medium_LLSZ.czi?download=1\"\n",
    "if not os.path.exists(img_path):\n",
    "    print(\"Downloading file\")\n",
    "    urllib.request.urlretrieve(url, img_path)\n",
    "    print(f\"Downloaded at : {img_path}\")\n",
    "else:\n",
    "    print(f\"File already exists at : {img_path}\")"
   ]
  },
  {
   "cell_type": "markdown",
   "metadata": {},
   "source": [
    "LatticData class contains parameters for entire LLS processing. Construct an instance of this class and then use the methods for processing\n",
    "\n",
    "The API for napari-lattice is here: https://bioimageanalysiscorewehi.github.io/napari_lattice/api/"
   ]
  },
  {
   "cell_type": "code",
   "execution_count": null,
   "metadata": {},
   "outputs": [
    {
     "name": "stderr",
     "output_type": "stream",
     "text": [
      "c:\\Users\\Pradeep\\.conda\\envs\\napari-lattice\\lib\\site-packages\\pydantic\\_migration.py:283: UserWarning: `pydantic.error_wrappers:ValidationError` has been moved to `pydantic:ValidationError`.\n",
      "  warnings.warn(f'`{import_path}` has been moved to `{new_location}`.')\n"
     ]
    },
    {
     "name": "stdout",
     "output_type": "stream",
     "text": [
      "\u001b[1;31mInit signature:\u001b[0m\n",
      "\u001b[0mLatticeData\u001b[0m\u001b[1;33m(\u001b[0m\u001b[1;33m\n",
      "\u001b[0m    \u001b[1;33m*\u001b[0m\u001b[1;33m,\u001b[0m\u001b[1;33m\n",
      "\u001b[0m    \u001b[0minput_image\u001b[0m\u001b[1;33m:\u001b[0m \u001b[0mxarray\u001b[0m\u001b[1;33m.\u001b[0m\u001b[0mcore\u001b[0m\u001b[1;33m.\u001b[0m\u001b[0mdataarray\u001b[0m\u001b[1;33m.\u001b[0m\u001b[0mDataArray\u001b[0m\u001b[1;33m,\u001b[0m\u001b[1;33m\n",
      "\u001b[0m    \u001b[0mskew\u001b[0m\u001b[1;33m:\u001b[0m \u001b[0mpyclesperanto_prototype\u001b[0m\u001b[1;33m.\u001b[0m\u001b[0m_tier8\u001b[0m\u001b[1;33m.\u001b[0m\u001b[0m_affine_transform_deskew_3d\u001b[0m\u001b[1;33m.\u001b[0m\u001b[0mDeskewDirection\u001b[0m \u001b[1;33m=\u001b[0m \u001b[1;33m<\u001b[0m\u001b[0mDeskewDirection\u001b[0m\u001b[1;33m.\u001b[0m\u001b[0mY\u001b[0m\u001b[1;33m:\u001b[0m \u001b[1;36m2\u001b[0m\u001b[1;33m>\u001b[0m\u001b[1;33m,\u001b[0m\u001b[1;33m\n",
      "\u001b[0m    \u001b[0mangle\u001b[0m\u001b[1;33m:\u001b[0m \u001b[0mfloat\u001b[0m \u001b[1;33m=\u001b[0m \u001b[1;36m30.0\u001b[0m\u001b[1;33m,\u001b[0m\u001b[1;33m\n",
      "\u001b[0m    \u001b[0mphysical_pixel_sizes\u001b[0m\u001b[1;33m:\u001b[0m \u001b[0mlls_core\u001b[0m\u001b[1;33m.\u001b[0m\u001b[0mmodels\u001b[0m\u001b[1;33m.\u001b[0m\u001b[0mdeskew\u001b[0m\u001b[1;33m.\u001b[0m\u001b[0mDefinedPixelSizes\u001b[0m \u001b[1;33m=\u001b[0m \u001b[1;32mNone\u001b[0m\u001b[1;33m,\u001b[0m\u001b[1;33m\n",
      "\u001b[0m    \u001b[0mderived\u001b[0m\u001b[1;33m:\u001b[0m \u001b[0mlls_core\u001b[0m\u001b[1;33m.\u001b[0m\u001b[0mmodels\u001b[0m\u001b[1;33m.\u001b[0m\u001b[0mdeskew\u001b[0m\u001b[1;33m.\u001b[0m\u001b[0mDerivedDeskewFields\u001b[0m \u001b[1;33m=\u001b[0m \u001b[1;32mNone\u001b[0m\u001b[1;33m,\u001b[0m\u001b[1;33m\n",
      "\u001b[0m    \u001b[0msave_dir\u001b[0m\u001b[1;33m:\u001b[0m \u001b[0mpydantic\u001b[0m\u001b[1;33m.\u001b[0m\u001b[0mv1\u001b[0m\u001b[1;33m.\u001b[0m\u001b[0mtypes\u001b[0m\u001b[1;33m.\u001b[0m\u001b[0mDirectoryPath\u001b[0m\u001b[1;33m,\u001b[0m\u001b[1;33m\n",
      "\u001b[0m    \u001b[0msave_suffix\u001b[0m\u001b[1;33m:\u001b[0m \u001b[0mstr\u001b[0m \u001b[1;33m=\u001b[0m \u001b[1;34m'_deskewed'\u001b[0m\u001b[1;33m,\u001b[0m\u001b[1;33m\n",
      "\u001b[0m    \u001b[0msave_name\u001b[0m\u001b[1;33m:\u001b[0m \u001b[0mstr\u001b[0m \u001b[1;33m=\u001b[0m \u001b[1;32mNone\u001b[0m\u001b[1;33m,\u001b[0m\u001b[1;33m\n",
      "\u001b[0m    \u001b[0msave_type\u001b[0m\u001b[1;33m:\u001b[0m \u001b[0mlls_core\u001b[0m\u001b[1;33m.\u001b[0m\u001b[0mmodels\u001b[0m\u001b[1;33m.\u001b[0m\u001b[0moutput\u001b[0m\u001b[1;33m.\u001b[0m\u001b[0mSaveFileType\u001b[0m \u001b[1;33m=\u001b[0m \u001b[1;33m<\u001b[0m\u001b[0mSaveFileType\u001b[0m\u001b[1;33m.\u001b[0m\u001b[0mh5\u001b[0m\u001b[1;33m:\u001b[0m \u001b[1;34m'h5'\u001b[0m\u001b[1;33m>\u001b[0m\u001b[1;33m,\u001b[0m\u001b[1;33m\n",
      "\u001b[0m    \u001b[0mtime_range\u001b[0m\u001b[1;33m:\u001b[0m \u001b[0mrange\u001b[0m \u001b[1;33m=\u001b[0m \u001b[1;32mNone\u001b[0m\u001b[1;33m,\u001b[0m\u001b[1;33m\n",
      "\u001b[0m    \u001b[0mchannel_range\u001b[0m\u001b[1;33m:\u001b[0m \u001b[0mrange\u001b[0m \u001b[1;33m=\u001b[0m \u001b[1;32mNone\u001b[0m\u001b[1;33m,\u001b[0m\u001b[1;33m\n",
      "\u001b[0m    \u001b[0mdeconvolution\u001b[0m\u001b[1;33m:\u001b[0m \u001b[0mOptional\u001b[0m\u001b[1;33m[\u001b[0m\u001b[0mlls_core\u001b[0m\u001b[1;33m.\u001b[0m\u001b[0mmodels\u001b[0m\u001b[1;33m.\u001b[0m\u001b[0mdeconvolution\u001b[0m\u001b[1;33m.\u001b[0m\u001b[0mDeconvolutionParams\u001b[0m\u001b[1;33m]\u001b[0m \u001b[1;33m=\u001b[0m \u001b[1;32mNone\u001b[0m\u001b[1;33m,\u001b[0m\u001b[1;33m\n",
      "\u001b[0m    \u001b[0mcrop\u001b[0m\u001b[1;33m:\u001b[0m \u001b[0mOptional\u001b[0m\u001b[1;33m[\u001b[0m\u001b[0mlls_core\u001b[0m\u001b[1;33m.\u001b[0m\u001b[0mmodels\u001b[0m\u001b[1;33m.\u001b[0m\u001b[0mcrop\u001b[0m\u001b[1;33m.\u001b[0m\u001b[0mCropParams\u001b[0m\u001b[1;33m]\u001b[0m \u001b[1;33m=\u001b[0m \u001b[1;32mNone\u001b[0m\u001b[1;33m,\u001b[0m\u001b[1;33m\n",
      "\u001b[0m    \u001b[0mworkflow\u001b[0m\u001b[1;33m:\u001b[0m \u001b[0mOptional\u001b[0m\u001b[1;33m[\u001b[0m\u001b[0mnapari_workflows\u001b[0m\u001b[1;33m.\u001b[0m\u001b[0m_workflow\u001b[0m\u001b[1;33m.\u001b[0m\u001b[0mWorkflow\u001b[0m\u001b[1;33m]\u001b[0m \u001b[1;33m=\u001b[0m \u001b[1;32mNone\u001b[0m\u001b[1;33m,\u001b[0m\u001b[1;33m\n",
      "\u001b[0m    \u001b[0mprogress_bar\u001b[0m\u001b[1;33m:\u001b[0m \u001b[0mbool\u001b[0m \u001b[1;33m=\u001b[0m \u001b[1;32mTrue\u001b[0m\u001b[1;33m,\u001b[0m\u001b[1;33m\n",
      "\u001b[0m\u001b[1;33m)\u001b[0m \u001b[1;33m->\u001b[0m \u001b[1;32mNone\u001b[0m\u001b[1;33m\u001b[0m\u001b[1;33m\u001b[0m\u001b[0m\n",
      "\u001b[1;31mDocstring:\u001b[0m     \n",
      "Parameters for the entire deskewing process, including outputs and optional steps such as deconvolution.\n",
      "This is the recommended entry point for Python users: construct an instance of this class, and then perform the processing using methods.\n",
      "\n",
      "Note that none of this class's methods have any parameters: all parameters are class fields for validation purposes.\n",
      "\u001b[1;31mInit docstring:\u001b[0m\n",
      "Create a new model by parsing and validating input data from keyword arguments.\n",
      "\n",
      "Raises ValidationError if the input data cannot be parsed to form a valid model.\n",
      "\u001b[1;31mFile:\u001b[0m           c:\\users\\pradeep\\.conda\\envs\\napari-lattice\\lib\\site-packages\\lls_core\\models\\lattice_data.py\n",
      "\u001b[1;31mType:\u001b[0m           ModelMetaclass\n",
      "\u001b[1;31mSubclasses:\u001b[0m     "
     ]
    }
   ],
   "source": [
    "from lls_core import LatticeData\n",
    "\n",
    "LatticeData?\n"
   ]
  },
  {
   "cell_type": "code",
   "execution_count": null,
   "metadata": {},
   "outputs": [
    {
     "name": "stderr",
     "output_type": "stream",
     "text": [
      "[INFO:2025-08-27 14:55:18,680] Processing File ./sample_data/RBC_medium_LLSZ.czi\n"
     ]
    },
    {
     "name": "stdout",
     "output_type": "stream",
     "text": [
      "input_image=<xarray.DataArray 'transpose-071347adb4603d05e3cdd48118e374eb' (T: 5, C: 1,\n",
      "                                                                Z: 834, Y: 297,\n",
      "                                                                X: 279)>\n",
      "dask.array<transpose, shape=(5, 1, 834, 297, 279), dtype=uint16, chunksize=(1, 1, 834, 297, 279), chunktype=numpy.ndarray>\n",
      "Coordinates:\n",
      "  * C        (C) <U17 'LatticeLightsheet'\n",
      "  * Z        (Z) float64 0.0 0.3 0.6 0.9 1.2 ... 248.7 249.0 249.3 249.6 249.9\n",
      "  * Y        (Y) float64 0.0 0.145 0.29 0.435 0.58 ... 42.48 42.63 42.77 42.92\n",
      "  * X        (X) float64 0.0 0.145 0.29 0.435 0.58 ... 39.87 40.02 40.16 40.31\n",
      "Dimensions without coordinates: T\n",
      "Attributes:\n",
      "    unprocessed:  <Element 'ImageDocument' at 0x00000245473D2520> skew=<DeskewDirection.Y: 2> angle=30.0 physical_pixel_sizes=DefinedPixelSizes(X=0.14499219272808386, Y=0.14499219272808386, Z=0.3) derived=DerivedDeskewFields(deskew_vol_shape=(149, 1983, 279), deskew_affine_transform=<pyclesperanto_prototype._tier8._AffineTransform3D.AffineTransform3D object at 0x0000024547CDFCD0>, deskew_affine_transform_zyx=array([[ 6.01508636e-17, -5.00000000e-01,  0.00000000e+00,\n",
      "         1.48500000e+02],\n",
      "       [ 2.06907692e+00,  8.66025404e-01,  0.00000000e+00,\n",
      "         0.00000000e+00],\n",
      "       [ 0.00000000e+00,  0.00000000e+00,  1.00000000e+00,\n",
      "         0.00000000e+00],\n",
      "       [ 0.00000000e+00,  0.00000000e+00,  0.00000000e+00,\n",
      "         1.00000000e+00]])) save_dir=WindowsPath('C:/Users/Pradeep/nap/napari_lattice/notebooks/sample_data') save_suffix='_deskewed' save_name='RBC_medium_LLSZ_deskewed' save_type=<SaveFileType.h5: 'h5'> time_range=range(0, 5) channel_range=range(0, 1) deconvolution=None crop=None workflow=None progress_bar=True\n"
     ]
    }
   ],
   "source": [
    "save_path = \"C:/Users/Pradeep/nap/napari_lattice/notebooks/sample_data\"\n",
    "#make dir if not exists\n",
    "if not os.path.exists(save_path):\n",
    "    os.makedirs(save_path)\n",
    "\n",
    "params = LatticeData(\n",
    "  input_image=img_path,\n",
    "  save_dir=save_path\n",
    ")\n",
    "#pretty print\n",
    "print(params)"
   ]
  },
  {
   "cell_type": "code",
   "execution_count": 6,
   "metadata": {},
   "outputs": [
    {
     "name": "stdout",
     "output_type": "stream",
     "text": [
      "dict_keys(['input_image', 'skew', 'angle', 'physical_pixel_sizes', 'derived', 'save_dir', 'save_suffix', 'save_name', 'save_type', 'time_range', 'channel_range', 'deconvolution', 'crop', 'workflow', 'progress_bar'])\n"
     ]
    }
   ],
   "source": [
    "#get parameters for params\n",
    "print(params.__dict__.keys())"
   ]
  },
  {
   "cell_type": "code",
   "execution_count": null,
   "metadata": {},
   "outputs": [
    {
     "data": {
      "text/plain": [
       "DefinedPixelSizes(X=0.14499219272808386, Y=0.14499219272808386, Z=0.3)"
      ]
     },
     "execution_count": 32,
     "metadata": {},
     "output_type": "execute_result"
    }
   ],
   "source": [
    "params.physical_pixel_sizes"
   ]
  },
  {
   "cell_type": "markdown",
   "metadata": {},
   "source": [
    "To run the defaults and save the deskewed data in h5 format, use the save method"
   ]
  },
  {
   "cell_type": "code",
   "execution_count": 22,
   "metadata": {},
   "outputs": [
    {
     "name": "stderr",
     "output_type": "stream",
     "text": [
      "Timepoints:   0%|          | 0/5 [00:00<?, ?it/s][INFO:2025-08-27 12:08:12,622] build program: kernel 'affine_transform_deskew_y_3d' was part of a lengthy uncached source build (assuming cached by ICD) (0.23 s)\n"
     ]
    },
    {
     "name": "stdout",
     "output_type": "stream",
     "text": [
      "INFO: blockdim levels (1) < subsamp levels (3): First-level block size (4, 256, 256) will be used for all levels\n"
     ]
    },
    {
     "name": "stderr",
     "output_type": "stream",
     "text": [
      "Timepoints: 100%|██████████| 5/5 [00:34<00:00,  6.87s/it]\n"
     ]
    }
   ],
   "source": [
    "params.save()"
   ]
  },
  {
   "cell_type": "code",
   "execution_count": 24,
   "metadata": {},
   "outputs": [
    {
     "name": "stderr",
     "output_type": "stream",
     "text": [
      "[INFO:2025-08-27 12:10:26,850] Processing File <xarray.DataArray 'transpose-588745d33d72e92aa80c467f7a1d4857' (T: 5, C: 1,\n",
      "                                                                Z: 834, Y: 297,\n",
      "                                                                X: 279)>\n",
      "dask.array<transpose, shape=(5, 1, 834, 297, 279), dtype=uint16, chunksize=(1, 1, 834, 297, 279), chunktype=numpy.ndarray>\n",
      "Coordinates:\n",
      "  * C        (C) <U17 'LatticeLightsheet'\n",
      "  * Z        (Z) float64 0.0 0.3 0.6 0.9 1.2 ... 248.7 249.0 249.3 249.6 249.9\n",
      "  * Y        (Y) float64 0.0 0.145 0.29 0.435 0.58 ... 42.48 42.63 42.77 42.92\n",
      "  * X        (X) float64 0.0 0.145 0.29 0.435 0.58 ... 39.87 40.02 40.16 40.31\n",
      "Dimensions without coordinates: T\n",
      "Attributes:\n",
      "    unprocessed:  <Element 'ImageDocument' at 0x000001AC41901080>\n",
      "Timepoints:   0%|          | 0/2 [00:00<?, ?it/s]"
     ]
    },
    {
     "name": "stdout",
     "output_type": "stream",
     "text": [
      "INFO: blockdim levels (1) < subsamp levels (3): First-level block size (4, 256, 256) will be used for all levels\n"
     ]
    },
    {
     "name": "stderr",
     "output_type": "stream",
     "text": [
      "Timepoints: 100%|██████████| 2/2 [00:12<00:00,  6.46s/it]\n"
     ]
    }
   ],
   "source": [
    "params.time_range=(0,2)\n",
    "params.save()"
   ]
  },
  {
   "cell_type": "markdown",
   "metadata": {},
   "source": [
    "## Deconvolution\n",
    "\n",
    "By default, deconvolution is disabled"
   ]
  },
  {
   "cell_type": "code",
   "execution_count": 33,
   "metadata": {},
   "outputs": [
    {
     "data": {
      "text/plain": [
       "False"
      ]
     },
     "execution_count": 33,
     "metadata": {},
     "output_type": "execute_result"
    }
   ],
   "source": [
    "params.deconv_enabled"
   ]
  },
  {
   "cell_type": "markdown",
   "metadata": {},
   "source": [
    "For deconvolution, we will need point spread function. Download psfs from here: https://zenodo.org/records/14903188 and unzip into a folder"
   ]
  },
  {
   "cell_type": "code",
   "execution_count": null,
   "metadata": {},
   "outputs": [
    {
     "data": {
      "text/plain": [
       "['488.czi', '561.czi', '640.czi', 'description.txt']"
      ]
     },
     "execution_count": 7,
     "metadata": {},
     "output_type": "execute_result"
    }
   ],
   "source": [
    "#psf files should be downloaded and stored in a directory called ./psf\n",
    "os.listdir(\"./psf\")"
   ]
  },
  {
   "cell_type": "code",
   "execution_count": 8,
   "metadata": {},
   "outputs": [
    {
     "name": "stderr",
     "output_type": "stream",
     "text": [
      "[INFO:2025-08-27 14:55:44,782] Processing File ./sample_data/RBC_medium_LLSZ.czi\n"
     ]
    },
    {
     "data": {
      "text/plain": [
       "LatticeData(input_image=<xarray.DataArray 'transpose-e33ce74fc876a35011db12fc8ba384b3' (T: 5, C: 1,\n",
       "                                                                Z: 834, Y: 297,\n",
       "                                                                X: 279)>\n",
       "dask.array<transpose, shape=(5, 1, 834, 297, 279), dtype=uint16, chunksize=(1, 1, 834, 297, 279), chunktype=numpy.ndarray>\n",
       "Coordinates:\n",
       "  * C        (C) <U17 'LatticeLightsheet'\n",
       "  * Z        (Z) float64 0.0 0.3 0.6 0.9 1.2 ... 248.7 249.0 249.3 249.6 249.9\n",
       "  * Y        (Y) float64 0.0 0.145 0.29 0.435 0.58 ... 42.48 42.63 42.77 42.92\n",
       "  * X        (X) float64 0.0 0.145 0.29 0.435 0.58 ... 39.87 40.02 40.16 40.31\n",
       "Dimensions without coordinates: T\n",
       "Attributes:\n",
       "    unprocessed:  <Element 'ImageDocument' at 0x0000024547D5C680>, skew=<DeskewDirection.Y: 2>, angle=30.0, physical_pixel_sizes=DefinedPixelSizes(X=0.14499219272808386, Y=0.14499219272808386, Z=0.3), derived=DerivedDeskewFields(deskew_vol_shape=(149, 1983, 279), deskew_affine_transform=<pyclesperanto_prototype._tier8._AffineTransform3D.AffineTransform3D object at 0x0000024547DA5FC0>, deskew_affine_transform_zyx=array([[ 6.01508636e-17, -5.00000000e-01,  0.00000000e+00,\n",
       "         1.48500000e+02],\n",
       "       [ 2.06907692e+00,  8.66025404e-01,  0.00000000e+00,\n",
       "         0.00000000e+00],\n",
       "       [ 0.00000000e+00,  0.00000000e+00,  1.00000000e+00,\n",
       "         0.00000000e+00],\n",
       "       [ 0.00000000e+00,  0.00000000e+00,  0.00000000e+00,\n",
       "         1.00000000e+00]])), save_dir=WindowsPath('C:/Users/Pradeep/nap/napari_lattice/notebooks/sample_data'), save_suffix='_deskewed', save_name='RBC_medium_LLSZ_deskewed', save_type=<SaveFileType.h5: 'h5'>, time_range=range(0, 5), channel_range=range(0, 1), deconvolution=DeconvolutionParams(decon_processing=<DeconvolutionChoice.cuda_gpu: 'cuda_gpu'>, psf=[<xarray.DataArray 'transpose-c99c3cd0a92cc07b04b55ffaed1538d3' (Z: 93, Y: 205,\n",
       "                                                                X: 205)>\n",
       "dask.array<getitem, shape=(93, 205, 205), dtype=float32, chunksize=(93, 205, 205), chunktype=numpy.ndarray>\n",
       "Coordinates:\n",
       "    C        <U9 'Channel:0'\n",
       "  * Z        (Z) float64 0.0 0.3 0.6 0.9 1.2 1.5 ... 26.4 26.7 27.0 27.3 27.6\n",
       "  * Y        (Y) float64 0.0 0.145 0.29 0.435 0.58 ... 29.14 29.29 29.43 29.58\n",
       "  * X        (X) float64 0.0 0.145 0.29 0.435 0.58 ... 29.14 29.29 29.43 29.58\n",
       "Attributes:\n",
       "    unprocessed:  <Element 'ImageDocument' at 0x0000024547D631A0>], decon_num_iter=10, background=0), crop=None, workflow=None, progress_bar=True)"
      ]
     },
     "execution_count": 8,
     "metadata": {},
     "output_type": "execute_result"
    }
   ],
   "source": [
    "from lls_core import models\n",
    "\n",
    "deconv_params = models.deconvolution.DeconvolutionParams(decon_processing='cuda_gpu',\n",
    "                                                         psf=[\"./psf/488.czi\"])\n",
    "\n",
    "params_deconv = LatticeData(\n",
    "  input_image=img_path,\n",
    "  save_dir=save_path,\n",
    "  deconvolution=deconv_params\n",
    ")\n",
    "params_deconv"
   ]
  },
  {
   "cell_type": "code",
   "execution_count": 9,
   "metadata": {},
   "outputs": [
    {
     "name": "stderr",
     "output_type": "stream",
     "text": [
      "Timepoints:   0%|          | 0/5 [00:00<?, ?it/s]c:\\Users\\Pradeep\\.conda\\envs\\napari-lattice\\lib\\site-packages\\pycudadecon\\_libwrap.py:45: UserWarning: Unable to find function: camcor_interface_init in libcudaDecon\n",
      "  def camcor_interface_init(  # type: ignore [empty-body]\n",
      "c:\\Users\\Pradeep\\.conda\\envs\\napari-lattice\\lib\\site-packages\\pycudadecon\\_libwrap.py:52: UserWarning: Unable to find function: camcor_interface in libcudaDecon\n",
      "  def camcor_interface(  # type: ignore [empty-body]\n"
     ]
    },
    {
     "name": "stdout",
     "output_type": "stream",
     "text": [
      "INFO: blockdim levels (1) < subsamp levels (3): First-level block size (4, 256, 256) will be used for all levels\n"
     ]
    },
    {
     "name": "stderr",
     "output_type": "stream",
     "text": [
      "Timepoints: 100%|██████████| 5/5 [00:39<00:00,  7.89s/it]\n"
     ]
    }
   ],
   "source": [
    "params_deconv.save()"
   ]
  }
 ],
 "metadata": {
  "kernelspec": {
   "display_name": "napari-lattice",
   "language": "python",
   "name": "python3"
  },
  "language_info": {
   "codemirror_mode": {
    "name": "ipython",
    "version": 3
   },
   "file_extension": ".py",
   "mimetype": "text/x-python",
   "name": "python",
   "nbconvert_exporter": "python",
   "pygments_lexer": "ipython3",
   "version": "3.10.0"
  },
  "orig_nbformat": 4
 },
 "nbformat": 4,
 "nbformat_minor": 2
}
