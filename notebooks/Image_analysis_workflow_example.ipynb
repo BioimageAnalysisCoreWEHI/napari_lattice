{
 "cells": [
  {
   "cell_type": "markdown",
   "metadata": {},
   "source": [
    "## Passing workflows between functions\n",
    "\n",
    "Demo to use workflows in functions for end to end image analysis"
   ]
  },
  {
   "cell_type": "code",
   "execution_count": 4,
   "metadata": {},
   "outputs": [
    {
     "data": {
      "text/plain": [
       "<NVIDIA GeForce RTX 3080 on Platform: NVIDIA CUDA (1 refs)>"
      ]
     },
     "execution_count": 4,
     "metadata": {},
     "output_type": "execute_result"
    }
   ],
   "source": [
    "import os\n",
    "import pyclesperanto_prototype as cle\n",
    "from napari_workflows import Workflow\n",
    "\n",
    "cle.get_device()\n"
   ]
  },
  {
   "cell_type": "code",
   "execution_count": 5,
   "metadata": {},
   "outputs": [
    {
     "name": "stdout",
     "output_type": "stream",
     "text": [
      "File already exists at : ./sample_data/RBC_tiny.czi\n"
     ]
    }
   ],
   "source": [
    "#download sample data from https://zenodo.org/records/14903188\n",
    "img_path = \"./sample_data/RBC_tiny.czi\"\n",
    "\n",
    "#make dir if not exists\n",
    "if not os.path.exists(\"./sample_data\"):\n",
    "    os.makedirs(\"./sample_data\")\n",
    "\n",
    "import urllib.request\n",
    "\n",
    "url = \"https://zenodo.org/records/14903188/files/RBC_tiny.czi?download=1\"\n",
    "if not os.path.exists(img_path):\n",
    "    print(\"Downloading file\")\n",
    "    urllib.request.urlretrieve(url, img_path)\n",
    "    print(f\"Downloaded at : {img_path}\")\n",
    "else:\n",
    "    print(f\"File already exists at : {img_path}\")"
   ]
  },
  {
   "cell_type": "code",
   "execution_count": 6,
   "metadata": {},
   "outputs": [],
   "source": [
    "#absolute path for saving\n",
    "save_path = \"C:/Users/Pradeep/nap/napari_lattice/notebooks/sample_data\"\n",
    "#make dir if not exists\n",
    "if not os.path.exists(save_path):\n",
    "    os.makedirs(save_path)\n"
   ]
  },
  {
   "cell_type": "markdown",
   "metadata": {},
   "source": [
    "To design end to end image analysis workflows, we can use napari-workflows \n",
    "\n",
    "https://github.com/haesleinhuepf/napari-workflows\n",
    "\n",
    "Lets apply a gaussian blur filter using pyclesperanto library"
   ]
  },
  {
   "cell_type": "code",
   "execution_count": 16,
   "metadata": {},
   "outputs": [
    {
     "name": "stdout",
     "output_type": "stream",
     "text": [
      "Workflow:\n",
      "gaussian <- (<function gaussian_blur at 0x000002367F907BE0>, 'deskewed_image', None, 5, 5, 2)\n",
      "\n"
     ]
    }
   ],
   "source": [
    "#import gaussian filter from pyclesperanto\n",
    "#We initialise a workflow\n",
    "gaussian_workflow = Workflow()\n",
    "\n",
    "#For napari-lattice, the input image should always be of the name \"deskewed_image\"\n",
    "\n",
    "input_arg = \"deskewed_image\"\n",
    "#define a simple gaussian filter\n",
    "task_name = \"gaussian\"\n",
    "gaussian_blur_sigma_x = 5\n",
    "gaussian_blur_sigma_y = 5\n",
    "gaussian_blur_sigma_z = 2\n",
    "\n",
    "gaussian_workflow.set(task_name, cle.gaussian_blur, \n",
    "                      input_arg, sigma_x = gaussian_blur_sigma_x,\n",
    "                      sigma_y = gaussian_blur_sigma_y,\n",
    "                      sigma_z = gaussian_blur_sigma_z)\n",
    "\n",
    "#Printing a workflow will show you the arguments\n",
    "print(gaussian_workflow)"
   ]
  },
  {
   "cell_type": "code",
   "execution_count": 17,
   "metadata": {},
   "outputs": [
    {
     "name": "stderr",
     "output_type": "stream",
     "text": [
      "[INFO:2025-08-27 16:43:03,536] Processing File ./sample_data/RBC_tiny.czi\n"
     ]
    },
    {
     "name": "stdout",
     "output_type": "stream",
     "text": [
      "input_image=<xarray.DataArray 'transpose-04519f8a37cc3af50256674a3d06fa88' (T: 1, C: 1,\n",
      "                                                                Z: 834, Y: 118,\n",
      "                                                                X: 209)>\n",
      "dask.array<transpose, shape=(1, 1, 834, 118, 209), dtype=uint16, chunksize=(1, 1, 834, 118, 209), chunktype=numpy.ndarray>\n",
      "Coordinates:\n",
      "  * C        (C) <U17 'LatticeLightsheet'\n",
      "  * Z        (Z) float64 0.0 0.3 0.6 0.9 1.2 ... 248.7 249.0 249.3 249.6 249.9\n",
      "  * Y        (Y) float64 0.0 0.145 0.29 0.435 0.58 ... 16.53 16.67 16.82 16.96\n",
      "  * X        (X) float64 0.0 0.145 0.29 0.435 0.58 ... 29.72 29.87 30.01 30.16\n",
      "Dimensions without coordinates: T\n",
      "Attributes:\n",
      "    unprocessed:  <Element 'ImageDocument' at 0x0000023640A7FBA0> skew=<DeskewDirection.Y: 2> angle=30.0 physical_pixel_sizes=DefinedPixelSizes(X=0.14499219272808386, Y=0.14499219272808386, Z=0.3) derived=DerivedDeskewFields(deskew_vol_shape=(59, 1828, 209), deskew_affine_transform=<pyclesperanto_prototype._tier8._AffineTransform3D.AffineTransform3D object at 0x00000236413040A0>, deskew_affine_transform_zyx=array([[ 6.01508636e-17, -5.00000000e-01,  0.00000000e+00,\n",
      "         5.90000000e+01],\n",
      "       [ 2.06907692e+00,  8.66025404e-01,  0.00000000e+00,\n",
      "         0.00000000e+00],\n",
      "       [ 0.00000000e+00,  0.00000000e+00,  1.00000000e+00,\n",
      "         0.00000000e+00],\n",
      "       [ 0.00000000e+00,  0.00000000e+00,  0.00000000e+00,\n",
      "         1.00000000e+00]])) save_dir=WindowsPath('C:/Users/Pradeep/nap/napari_lattice/notebooks/sample_data') save_suffix='_deskewed' save_name='RBC_tiny_deskewed' save_type=<SaveFileType.h5: 'h5'> time_range=range(0, 1) channel_range=range(0, 1) deconvolution=None crop=None workflow=<napari_workflows._workflow.Workflow object at 0x00000236412BBA00> progress_bar=True\n"
     ]
    }
   ],
   "source": [
    "from lls_core import LatticeData\n",
    "\n",
    "params = LatticeData(\n",
    "  input_image=img_path,\n",
    "  save_dir=save_path,\n",
    "  workflow=gaussian_workflow,\n",
    ")\n",
    "\n",
    "print(params)"
   ]
  },
  {
   "cell_type": "code",
   "execution_count": 15,
   "metadata": {},
   "outputs": [
    {
     "data": {
      "text/plain": [
       "<napari_workflows._workflow.Workflow at 0x2364129f670>"
      ]
     },
     "execution_count": 15,
     "metadata": {},
     "output_type": "execute_result"
    }
   ],
   "source": [
    "# when running isave, if params.workflow has a workflow, then it will run the analysis workflow\n",
    "params.workflow"
   ]
  },
  {
   "cell_type": "code",
   "execution_count": 9,
   "metadata": {},
   "outputs": [
    {
     "name": "stderr",
     "output_type": "stream",
     "text": [
      "Timepoints:   0%|          | 0/1 [00:00<?, ?it/s]"
     ]
    },
    {
     "name": "stdout",
     "output_type": "stream",
     "text": [
      "INFO: blockdim levels (1) < subsamp levels (3): First-level block size (4, 256, 256) will be used for all levels\n"
     ]
    },
    {
     "name": "stderr",
     "output_type": "stream",
     "text": [
      "Timepoints: 100%|██████████| 1/1 [00:02<00:00,  2.05s/it]\n"
     ]
    }
   ],
   "source": [
    "params.save()"
   ]
  },
  {
   "cell_type": "markdown",
   "metadata": {},
   "source": [
    "This should save a deskewed image with gaussian blur applied"
   ]
  },
  {
   "cell_type": "markdown",
   "metadata": {},
   "source": [
    "Lets apply a workflow, where we perform \n",
    "- median filter\n",
    "- binarise using otsu algorithm with threshold of 1000\n",
    "- label each object using connected components labeling-\n",
    "- measure each object using connected components\n",
    "\n",
    "As we have multiple steps, we can define it in a function and then call this function in a workflow. \n",
    "\n",
    "We would like to save the deskewed image, segmented image and the measurements as a csv file, so we return all 3."
   ]
  },
  {
   "cell_type": "code",
   "execution_count": 7,
   "metadata": {},
   "outputs": [
    {
     "name": "stderr",
     "output_type": "stream",
     "text": [
      "c:\\Users\\Pradeep\\.conda\\envs\\napari-lattice\\lib\\site-packages\\pydantic\\_migration.py:283: UserWarning: `pydantic.error_wrappers:ValidationError` has been moved to `pydantic:ValidationError`.\n",
      "  warnings.warn(f'`{import_path}` has been moved to `{new_location}`.')\n"
     ]
    },
    {
     "name": "stdout",
     "output_type": "stream",
     "text": [
      "Workflow:\n",
      "measurement <- (<function image_seg_measure at 0x000001846AD8B2E0>, 'deskewed_image')\n",
      "\n"
     ]
    }
   ],
   "source": [
    "from lls_core import LatticeData\n",
    "\n",
    "image_seg_workflow = Workflow()\n",
    "\n",
    "#Otsu thresholding\n",
    "input_arg = \"deskewed_image\"\n",
    "#define a simple gaussian filter\n",
    "task_name = \"measurement\"\n",
    "\n",
    "from skimage.measure import regionprops_table\n",
    "import numpy as np\n",
    "import pandas as pd \n",
    "\n",
    "def image_seg_measure(input_image):\n",
    "    # Apply median filter\n",
    "    median_filtered = cle.median_sphere(input_image, radius_x=2, radius_y=2, radius_z=2)\n",
    "\n",
    "    # Apply Otsu thresholding\n",
    "    binary_image = cle.threshold_otsu(median_filtered)\n",
    "\n",
    "    # Apply connected components labeling\n",
    "    labeled_image = cle.connected_components_labeling_box(binary_image)\n",
    "    \n",
    "    #convert labeled_image to np array\n",
    "    labeled_image_np = np.array(labeled_image)\n",
    "    \n",
    "    #measure using regionprops_table\n",
    "    props = regionprops_table(labeled_image_np, input_image,\n",
    "                              properties=['label', 'bbox','area', \n",
    "                                          'intensity_mean','intensity_std'])\n",
    "    #convert to pandas dataframe\n",
    "    import pandas as pd\n",
    "    props_df = pd.DataFrame(props)\n",
    "    return (input_image, labeled_image_np, props_df)\n",
    "\n",
    "#Apply function\n",
    "image_seg_workflow.set(task_name, image_seg_measure,  input_arg )\n",
    "\n",
    "print(image_seg_workflow)"
   ]
  },
  {
   "cell_type": "code",
   "execution_count": 8,
   "metadata": {},
   "outputs": [
    {
     "data": {
      "text/plain": [
       "['RBC_tiny.czi']"
      ]
     },
     "execution_count": 8,
     "metadata": {},
     "output_type": "execute_result"
    }
   ],
   "source": [
    "#Before we run this, lets look at whats in the directory\n",
    "os.listdir(save_path)"
   ]
  },
  {
   "cell_type": "code",
   "execution_count": 9,
   "metadata": {},
   "outputs": [
    {
     "name": "stderr",
     "output_type": "stream",
     "text": [
      "[INFO:2025-08-27 17:49:46,967] Processing File ./sample_data/RBC_tiny.czi\n",
      "Timepoints:   0%|          | 0/1 [00:00<?, ?it/s][INFO:2025-08-27 17:49:47,293] Processing File <xarray.DataArray 'transpose-fb98b245a6efefda1c33584fac697038' (Z: 834, Y: 118,\n",
      "                                                                X: 209)>\n",
      "dask.array<getitem, shape=(834, 118, 209), dtype=uint16, chunksize=(834, 118, 209), chunktype=numpy.ndarray>\n",
      "Coordinates:\n",
      "    C        <U17 'LatticeLightsheet'\n",
      "  * Z        (Z) float64 0.0 0.3 0.6 0.9 1.2 ... 248.7 249.0 249.3 249.6 249.9\n",
      "  * Y        (Y) float64 0.0 0.145 0.29 0.435 0.58 ... 16.53 16.67 16.82 16.96\n",
      "  * X        (X) float64 0.0 0.145 0.29 0.435 0.58 ... 29.72 29.87 30.01 30.16\n",
      "Attributes:\n",
      "    unprocessed:  <Element 'ImageDocument' at 0x000001842549D0D0>\n"
     ]
    },
    {
     "name": "stdout",
     "output_type": "stream",
     "text": [
      "INFO: blockdim levels (1) < subsamp levels (3): First-level block size (4, 256, 256) will be used for all levels\n",
      "INFO: blockdim levels (1) < subsamp levels (3): First-level block size (4, 256, 256) will be used for all levels\n"
     ]
    },
    {
     "name": "stderr",
     "output_type": "stream",
     "text": [
      "Timepoints: 100%|██████████| 1/1 [00:04<00:00,  4.03s/it]\n"
     ]
    }
   ],
   "source": [
    "params_workflow = LatticeData(\n",
    "  input_image=img_path,\n",
    "  save_dir=save_path,\n",
    "  workflow=image_seg_workflow,\n",
    ")\n",
    "\n",
    "params_workflow.save()"
   ]
  },
  {
   "cell_type": "code",
   "execution_count": 10,
   "metadata": {},
   "outputs": [
    {
     "data": {
      "text/plain": [
       "['RBC_tiny.czi',\n",
       " 'RBC_tiny_deskewed.h5',\n",
       " 'RBC_tiny_deskewed.xml',\n",
       " 'RBC_tiny_deskewed_1.h5',\n",
       " 'RBC_tiny_deskewed_1.xml',\n",
       " 'RBC_tiny_deskewed_output_2.csv']"
      ]
     },
     "execution_count": 10,
     "metadata": {},
     "output_type": "execute_result"
    }
   ],
   "source": [
    "#list files in save_path\n",
    "os.listdir(save_path)\n"
   ]
  },
  {
   "cell_type": "markdown",
   "metadata": {},
   "source": [
    "- RBC_tiny_deskewed.h5 is the deskewed image\n",
    "- RBC_tiny_deskewed_1.h5 is the label image\n",
    "- RBC_tiny_deskewed_output_2.csv is the table with measurements\n"
   ]
  },
  {
   "cell_type": "markdown",
   "metadata": {},
   "source": [
    "Test code to inspect the outputs of workflow"
   ]
  },
  {
   "cell_type": "code",
   "execution_count": 145,
   "metadata": {},
   "outputs": [],
   "source": [
    "for slice in params_workflow.process_workflow():\n",
    "    first_slice = slice\n",
    "    break"
   ]
  },
  {
   "cell_type": "code",
   "execution_count": 146,
   "metadata": {},
   "outputs": [
    {
     "data": {
      "text/plain": [
       "('slices',\n",
       " <generator object LatticeData.process_workflow.<locals>._generator at 0x000002363A268350>)"
      ]
     },
     "execution_count": 146,
     "metadata": {},
     "output_type": "execute_result"
    }
   ],
   "source": [
    "slice"
   ]
  },
  {
   "cell_type": "code",
   "execution_count": 147,
   "metadata": {},
   "outputs": [
    {
     "name": "stderr",
     "output_type": "stream",
     "text": [
      "Timepoints:   0%|          | 0/1 [00:00<?, ?it/s][INFO:2025-08-27 17:45:42,814] Processing File <xarray.DataArray 'transpose-81c08323b456b9acae2e371254043f37' (Z: 834, Y: 118,\n",
      "                                                                X: 209)>\n",
      "dask.array<getitem, shape=(834, 118, 209), dtype=uint16, chunksize=(834, 118, 209), chunktype=numpy.ndarray>\n",
      "Coordinates:\n",
      "    C        <U17 'LatticeLightsheet'\n",
      "  * Z        (Z) float64 0.0 0.3 0.6 0.9 1.2 ... 248.7 249.0 249.3 249.6 249.9\n",
      "  * Y        (Y) float64 0.0 0.145 0.29 0.435 0.58 ... 16.53 16.67 16.82 16.96\n",
      "  * X        (X) float64 0.0 0.145 0.29 0.435 0.58 ... 29.72 29.87 30.01 30.16\n",
      "Attributes:\n",
      "    unprocessed:  <Element 'ImageDocument' at 0x000002363A2D3330>\n"
     ]
    },
    {
     "data": {
      "text/plain": [
       "ProcessedSlice(data=(array([[[  0.     ,   0.     ,   0.     , ...,   0.     ,   0.     ,\n",
       "           0.     ],\n",
       "        [  0.     ,   0.     ,   0.     , ...,   0.     ,   0.     ,\n",
       "           0.     ],\n",
       "        [  0.     ,   0.     ,   0.     , ...,   0.     ,   0.     ,\n",
       "           0.     ],\n",
       "        ...,\n",
       "        [  0.     ,   0.     ,   0.     , ...,   0.     ,   0.     ,\n",
       "           0.     ],\n",
       "        [  0.     ,   0.     ,   0.     , ...,   0.     ,   0.     ,\n",
       "           0.     ],\n",
       "        [  0.     ,   0.     ,   0.     , ...,   0.     ,   0.     ,\n",
       "           0.     ]],\n",
       "\n",
       "       [[  0.     ,   0.     ,   0.     , ...,   0.     ,   0.     ,\n",
       "           0.     ],\n",
       "        [  0.     ,   0.     ,   0.     , ...,   0.     ,   0.     ,\n",
       "           0.     ],\n",
       "        [  0.     ,   0.     ,   0.     , ...,   0.     ,   0.     ,\n",
       "           0.     ],\n",
       "        ...,\n",
       "        [  0.     ,   0.     ,   0.     , ...,   0.     ,   0.     ,\n",
       "           0.     ],\n",
       "        [  0.     ,   0.     ,   0.     , ...,   0.     ,   0.     ,\n",
       "           0.     ],\n",
       "        [  0.     ,   0.     ,   0.     , ...,   0.     ,   0.     ,\n",
       "           0.     ]],\n",
       "\n",
       "       [[  0.     ,   0.     ,   0.     , ...,   0.     ,   0.     ,\n",
       "           0.     ],\n",
       "        [  0.     ,   0.     ,   0.     , ...,   0.     ,   0.     ,\n",
       "           0.     ],\n",
       "        [  0.     ,   0.     ,   0.     , ...,   0.     ,   0.     ,\n",
       "           0.     ],\n",
       "        ...,\n",
       "        [  0.     ,   0.     ,   0.     , ...,   0.     ,   0.     ,\n",
       "           0.     ],\n",
       "        [  0.     ,   0.     ,   0.     , ...,   0.     ,   0.     ,\n",
       "           0.     ],\n",
       "        [  0.     ,   0.     ,   0.     , ...,   0.     ,   0.     ,\n",
       "           0.     ]],\n",
       "\n",
       "       ...,\n",
       "\n",
       "       [[  0.     ,   0.     ,   0.     , ...,   0.     ,   0.     ,\n",
       "           0.     ],\n",
       "        [  0.     ,   0.     ,   0.     , ...,   0.     ,   0.     ,\n",
       "           0.     ],\n",
       "        [  0.     ,   0.     ,   0.     , ...,   0.     ,   0.     ,\n",
       "           0.     ],\n",
       "        ...,\n",
       "        [  0.     ,   0.     ,   0.     , ...,   0.     ,   0.     ,\n",
       "           0.     ],\n",
       "        [  0.     ,   0.     ,   0.     , ...,   0.     ,   0.     ,\n",
       "           0.     ],\n",
       "        [  0.     ,   0.     ,   0.     , ...,   0.     ,   0.     ,\n",
       "           0.     ]],\n",
       "\n",
       "       [[  0.     ,   0.     ,   0.     , ...,   0.     ,   0.     ,\n",
       "           0.     ],\n",
       "        [  0.     ,   0.     ,   0.     , ...,   0.     ,   0.     ,\n",
       "           0.     ],\n",
       "        [170.021  , 175.5255 , 170.96855, ..., 124.722  , 110.69399,\n",
       "         111.24305],\n",
       "        ...,\n",
       "        [  0.     ,   0.     ,   0.     , ...,   0.     ,   0.     ,\n",
       "           0.     ],\n",
       "        [  0.     ,   0.     ,   0.     , ...,   0.     ,   0.     ,\n",
       "           0.     ],\n",
       "        [  0.     ,   0.     ,   0.     , ...,   0.     ,   0.     ,\n",
       "           0.     ]],\n",
       "\n",
       "       [[  0.     ,   0.     ,   0.     , ...,   0.     ,   0.     ,\n",
       "           0.     ],\n",
       "        [  0.     ,   0.     ,   0.     , ...,   0.     ,   0.     ,\n",
       "           0.     ],\n",
       "        [  0.     ,   0.     ,   0.     , ...,   0.     ,   0.     ,\n",
       "           0.     ],\n",
       "        ...,\n",
       "        [  0.     ,   0.     ,   0.     , ...,   0.     ,   0.     ,\n",
       "           0.     ],\n",
       "        [  0.     ,   0.     ,   0.     , ...,   0.     ,   0.     ,\n",
       "           0.     ],\n",
       "        [  0.     ,   0.     ,   0.     , ...,   0.     ,   0.     ,\n",
       "           0.     ]]], dtype=float32), array([[[0, 0, 0, ..., 0, 0, 0],\n",
       "        [0, 0, 0, ..., 0, 0, 0],\n",
       "        [0, 0, 0, ..., 0, 0, 0],\n",
       "        ...,\n",
       "        [0, 0, 0, ..., 0, 0, 0],\n",
       "        [0, 0, 0, ..., 0, 0, 0],\n",
       "        [0, 0, 0, ..., 0, 0, 0]],\n",
       "\n",
       "       [[0, 0, 0, ..., 0, 0, 0],\n",
       "        [0, 0, 0, ..., 0, 0, 0],\n",
       "        [0, 0, 0, ..., 0, 0, 0],\n",
       "        ...,\n",
       "        [0, 0, 0, ..., 0, 0, 0],\n",
       "        [0, 0, 0, ..., 0, 0, 0],\n",
       "        [0, 0, 0, ..., 0, 0, 0]],\n",
       "\n",
       "       [[0, 0, 0, ..., 0, 0, 0],\n",
       "        [0, 0, 0, ..., 0, 0, 0],\n",
       "        [0, 0, 0, ..., 0, 0, 0],\n",
       "        ...,\n",
       "        [0, 0, 0, ..., 0, 0, 0],\n",
       "        [0, 0, 0, ..., 0, 0, 0],\n",
       "        [0, 0, 0, ..., 0, 0, 0]],\n",
       "\n",
       "       ...,\n",
       "\n",
       "       [[0, 0, 0, ..., 0, 0, 0],\n",
       "        [0, 0, 0, ..., 0, 0, 0],\n",
       "        [0, 0, 0, ..., 0, 0, 0],\n",
       "        ...,\n",
       "        [0, 0, 0, ..., 0, 0, 0],\n",
       "        [0, 0, 0, ..., 0, 0, 0],\n",
       "        [0, 0, 0, ..., 0, 0, 0]],\n",
       "\n",
       "       [[0, 0, 0, ..., 0, 0, 0],\n",
       "        [0, 0, 0, ..., 0, 0, 0],\n",
       "        [0, 0, 0, ..., 0, 0, 0],\n",
       "        ...,\n",
       "        [0, 0, 0, ..., 0, 0, 0],\n",
       "        [0, 0, 0, ..., 0, 0, 0],\n",
       "        [0, 0, 0, ..., 0, 0, 0]],\n",
       "\n",
       "       [[0, 0, 0, ..., 0, 0, 0],\n",
       "        [0, 0, 0, ..., 0, 0, 0],\n",
       "        [0, 0, 0, ..., 0, 0, 0],\n",
       "        ...,\n",
       "        [0, 0, 0, ..., 0, 0, 0],\n",
       "        [0, 0, 0, ..., 0, 0, 0],\n",
       "        [0, 0, 0, ..., 0, 0, 0]]], dtype=uint32), {'label': array([ 1,  2,  3,  4,  5,  6,  7,  8,  9, 10, 11, 12, 13, 14, 15, 16, 17,\n",
       "       18, 19, 20, 21, 22, 23, 24, 25, 26, 27, 28, 29, 30, 31, 32, 33, 34,\n",
       "       35, 36, 37, 38, 39, 40, 41, 42, 43, 44, 45, 46, 47, 48, 49, 50, 51,\n",
       "       52, 53, 54, 55, 56, 57, 58, 59, 60, 61, 62, 63, 64, 65, 66, 67, 68,\n",
       "       69, 70, 71, 72, 73, 74, 75, 76, 77, 78, 79, 80, 81, 82, 83, 84, 85,\n",
       "       86, 87, 88, 89, 90, 91, 92, 93, 94]), 'bbox-0': array([23,  8,  5,  7,  7, 18,  5,  6, 15,  6,  7,  4,  6,  5, 34, 56, 23,\n",
       "       19,  9,  7,  6,  5,  7,  8, 10,  6, 42,  5, 45,  6,  7,  6, 45,  3,\n",
       "       51,  0,  6,  7,  6, 37,  8, 48, 41, 22,  9,  5,  9,  8,  8, 48,  8,\n",
       "       20,  9,  8,  9,  8, 32,  8, 32, 38, 38,  6, 31,  8, 38, 30, 14,  8,\n",
       "        9,  7, 32, 40, 31, 41,  9, 27, 10, 41, 31, 49,  7,  9,  8,  6,  8,\n",
       "       32,  7,  6,  8,  7, 11,  6, 56,  8]), 'bbox-1': array([  49,  179,   85,  550,  676,  748,  651, 1072, 1289, 1306, 1375,\n",
       "       1435, 1528, 1634, 1238,   25,  581,  582,  315,   55,  555,  928,\n",
       "       1420, 1433,  459, 1324,  198, 1415, 1597, 1406, 1421, 1438, 1591,\n",
       "       1281, 1665, 1183, 1408, 1423, 1430, 1587,  996, 1378,  856, 1393,\n",
       "       1002, 1683,  987,  656,  998,   12,  643,   31,  998, 1144,  617,\n",
       "        715,  510, 1633,  511, 1179, 1177, 1186, 1354, 1566,  963, 1351,\n",
       "         42,  647,  767,  390,   84,   87, 1200,   83,  556, 1659,  957,\n",
       "        226, 1374, 1199,  452, 1730,  622, 1192, 1698, 1372, 1727,  954,\n",
       "        992, 1310,  379, 1700, 1673, 1721]), 'bbox-2': array([  0,   0,   0,   0,   0,   0,   0,   0,   0,   0,   0,   0,   0,\n",
       "         0,   2,  10,  13,  17,  21,  23,  23,  45,  46,  46,  48,  49,\n",
       "        50,  51,  51,  52,  58,  58,  59,  60,  66,  69,  70,  72,  72,\n",
       "        73,  80,  80,  84,  84,  86,  86,  90,  91,  91,  94,  95, 101,\n",
       "       102, 108, 111, 112, 116, 121, 123, 123, 126, 137, 138, 139, 142,\n",
       "       143, 145, 145, 150, 157, 161, 161, 162, 165, 167, 175, 177, 180,\n",
       "       180, 188, 190, 192, 193, 196, 196, 198, 199, 203, 205, 206, 207,\n",
       "       207, 208, 208]), 'bbox-3': array([32, 57, 58, 14, 50, 41, 52, 41, 16, 58, 40, 32, 33, 50, 36, 57, 27,\n",
       "       22, 13, 36, 17, 14, 11, 11, 11, 12, 47, 36, 55, 12, 11, 12, 49, 38,\n",
       "       54, 34, 12, 11, 12, 40, 12, 58, 43, 26, 11, 36, 11, 13, 12, 58, 13,\n",
       "       43, 11, 13, 12, 13, 34,  9, 33, 40, 48, 37, 32, 10, 41, 33, 41, 13,\n",
       "       12, 36, 38, 44, 34, 43, 12, 56, 11, 44, 33, 58, 13, 10, 35, 45, 10,\n",
       "       33, 10, 14, 28, 12, 25, 12, 57,  9]), 'bbox-4': array([  64,  291,  615,  556,  742,  795, 1118, 1295, 1290, 1367, 1427,\n",
       "       1489, 1621, 1813, 1241,   26,  585,  585,  322,  160,  580,  937,\n",
       "       1424, 1437,  460, 1329,  205, 1634, 1606, 1416, 1426, 1444, 1596,\n",
       "       1417, 1667, 1299, 1418, 1427, 1437, 1589, 1000, 1388,  860, 1397,\n",
       "       1007, 1814,  988,  659, 1009,   24,  647,   68, 1000, 1150,  626,\n",
       "        719,  515, 1634,  513, 1182, 1193, 1246, 1355, 1567,  966, 1358,\n",
       "         82,  651,  771,  444,   90,   92, 1203,   86,  559, 1675,  958,\n",
       "        229, 1379, 1208,  457, 1731,  676, 1242, 1700, 1373, 1730,  971,\n",
       "       1020, 1314,  402, 1712, 1674, 1722]), 'bbox-5': array([ 22,  38, 209,   5,  49,   9, 209, 186,   1,  35,  23,  46,  29,\n",
       "        91,   5,  12,  18,  20,  29,  91,  53,  53,  55,  48,  49,  53,\n",
       "        55, 209,  60,  62,  63,  66,  66, 209,  69, 139,  75,  75,  80,\n",
       "        77,  83,  94,  87,  91,  88, 209,  92,  94,  99, 115, 100, 136,\n",
       "       104, 113, 115, 116, 122, 122, 126, 126, 139, 194, 139, 140, 144,\n",
       "       151, 196, 148, 152, 207, 168, 166, 167, 168, 170, 206, 178, 183,\n",
       "       188, 201, 194, 193, 209, 209, 197, 200, 202, 209, 209, 209, 209,\n",
       "       209, 209, 209]), 'area': array([6.69000e+02, 4.75130e+04, 8.89527e+05, 1.28000e+02, 4.83860e+04,\n",
       "       3.05600e+03, 1.04536e+06, 2.89997e+05, 1.00000e+00, 5.58120e+04,\n",
       "       1.43860e+04, 3.33720e+04, 2.49390e+04, 1.78109e+05, 8.00000e+00,\n",
       "       2.00000e+00, 1.40000e+01, 8.00000e+00, 9.20000e+01, 7.23770e+04,\n",
       "       3.59900e+03, 3.09000e+02, 5.90000e+01, 1.50000e+01, 1.00000e+00,\n",
       "       6.60000e+01, 5.90000e+01, 3.05493e+05, 1.75000e+02, 2.28000e+02,\n",
       "       5.50000e+01, 1.20000e+02, 5.60000e+01, 1.83802e+05, 8.00000e+00,\n",
       "       8.07190e+04, 1.21000e+02, 2.30000e+01, 1.44000e+02, 8.00000e+00,\n",
       "       2.20000e+01, 3.77000e+02, 1.30000e+01, 3.90000e+01, 1.60000e+01,\n",
       "       1.58236e+05, 3.00000e+00, 2.40000e+01, 9.80000e+01, 6.31000e+02,\n",
       "       4.30000e+01, 4.99700e+03, 6.00000e+00, 5.70000e+01, 5.00000e+01,\n",
       "       3.90000e+01, 1.70000e+01, 1.00000e+00, 4.00000e+00, 1.00000e+01,\n",
       "       4.45000e+02, 5.29060e+04, 1.00000e+00, 2.00000e+00, 9.00000e+00,\n",
       "       6.40000e+01, 1.60230e+04, 2.60000e+01, 1.80000e+01, 4.00980e+04,\n",
       "       1.00000e+02, 4.40000e+01, 1.80000e+01, 1.10000e+01, 1.00000e+01,\n",
       "       1.39500e+03, 1.00000e+00, 1.20000e+01, 4.50000e+01, 4.09000e+02,\n",
       "       5.50000e+01, 1.00000e+00, 1.16180e+04, 9.14200e+03, 3.00000e+00,\n",
       "       2.00000e+00, 2.00000e+01, 3.64000e+02, 9.86000e+02, 3.20000e+01,\n",
       "       2.98000e+02, 1.01000e+02, 1.00000e+00, 1.00000e+00]), 'intensity_mean': array([ 824.44000244,  815.22802734,  897.43664551,  826.90734863,\n",
       "        927.54815674,  715.90979004,  882.14880371,  893.55303955,\n",
       "        507.86376953,  953.51800537,  813.11102295,  878.25030518,\n",
       "        882.16064453,  882.97283936,  587.64257812,  761.0078125 ,\n",
       "        672.73260498,  913.13238525,  650.95495605,  907.18945312,\n",
       "        997.35333252,  930.35559082,  699.47155762,  709.3369751 ,\n",
       "        662.49304199,  874.21893311,  989.14361572,  893.8817749 ,\n",
       "       1042.01049805,  748.62005615,  724.85894775,  737.92016602,\n",
       "       1091.32250977,  909.79138184,  788.19958496, 1103.34802246,\n",
       "        722.1472168 ,  765.64434814,  747.50366211,  867.94067383,\n",
       "        735.35430908, 1404.96728516,  547.01049805,  765.47375488,\n",
       "        671.72058105,  864.14581299,  719.02142334,  829.05761719,\n",
       "        691.89819336,  967.984375  ,  705.89770508,  899.51953125,\n",
       "        681.39361572,  794.60510254,  693.56719971,  788.46417236,\n",
       "        547.57000732,  717.15216064,  571.09234619,  681.67669678,\n",
       "        940.87121582,  922.46777344,  573.95263672,  534.56640625,\n",
       "        552.05065918,  585.19360352,  924.40423584,  861.67199707,\n",
       "        800.25622559,  919.29553223,  823.79602051,  861.19018555,\n",
       "        557.7947998 ,  692.59185791,  722.04248047, 1550.2956543 ,\n",
       "        625.28936768,  562.4229126 ,  555.0067749 , 1380.77600098,\n",
       "        831.05633545,  644.28527832,  915.66485596,  872.54400635,\n",
       "        705.61248779,  566.88433838,  675.20892334,  832.4006958 ,\n",
       "        726.69799805,  725.35168457,  642.75158691,  755.10247803,\n",
       "       1137.56420898,  734.17675781]), 'intensity_std': array([ 181.18858337,  240.96827698,  297.99365234,  182.28770447,\n",
       "        308.45352173,  141.94044495,  279.43197632,  269.62286377,\n",
       "          0.        ,  408.79272461,  206.30981445,  246.89744568,\n",
       "        278.38916016,  267.78540039,   20.03764343,   12.72085571,\n",
       "        184.44709778,  193.06573486,   93.96647644,  268.72323608,\n",
       "        336.87564087,  411.61505127,   83.39094543,   61.94304276,\n",
       "          0.        ,  199.41368103,  429.93499756,  278.05709839,\n",
       "        394.96740723,  137.43363953,   83.77637482,  143.21734619,\n",
       "        352.18167114,  287.73886108,   59.46379471,  596.7946167 ,\n",
       "        126.25065613,   85.06235504,  123.95524597,  262.52471924,\n",
       "         74.84440613,  917.12207031,   23.94263077,  105.61283112,\n",
       "         52.50662994,  239.26461792,   68.01045227,  110.64355469,\n",
       "         73.15175629,  321.3694458 ,   90.9366684 ,  290.12039185,\n",
       "         52.62923431,  122.52864838,   60.53659058,  135.26971436,\n",
       "         12.73548126,    0.        ,   15.81097889,  164.56573486,\n",
       "        319.66918945,  300.38586426,    0.        ,   28.02073669,\n",
       "         14.42463875,   30.76599503,  304.42324829,  132.74725342,\n",
       "         53.90921021,  301.49249268,  194.56471252,  172.21899414,\n",
       "         25.99218369,   67.96257019,   68.84706879, 1171.31335449,\n",
       "          0.        ,   19.9973011 ,   15.58681965, 1099.93249512,\n",
       "        161.1987915 ,    0.        ,  293.63430786,  319.42837524,\n",
       "         21.11838913,   12.14776611,   68.55503082,  208.5607605 ,\n",
       "        164.33850098,  107.05555725,   93.95502472,  135.59111023,\n",
       "          0.        ,    0.        ])}), time_index=0, time=0, channel_index=0, channel=0, roi_index=None)"
      ]
     },
     "execution_count": 147,
     "metadata": {},
     "output_type": "execute_result"
    }
   ],
   "source": [
    "data_set = next(first_slice[1])\n",
    "data_set"
   ]
  },
  {
   "cell_type": "code",
   "execution_count": 149,
   "metadata": {},
   "outputs": [
    {
     "ename": "AttributeError",
     "evalue": "'dict' object has no attribute 'apply'",
     "output_type": "error",
     "traceback": [
      "\u001b[1;31m---------------------------------------------------------------------------\u001b[0m",
      "\u001b[1;31mAttributeError\u001b[0m                            Traceback (most recent call last)",
      "Cell \u001b[1;32mIn[149], line 1\u001b[0m\n\u001b[1;32m----> 1\u001b[0m \u001b[43mdata_set\u001b[49m\u001b[38;5;241;43m.\u001b[39;49m\u001b[43mdata\u001b[49m\u001b[43m[\u001b[49m\u001b[38;5;241;43m2\u001b[39;49m\u001b[43m]\u001b[49m\u001b[38;5;241;43m.\u001b[39;49m\u001b[43mapply\u001b[49m(Series\u001b[38;5;241m.\u001b[39mexplode)\n",
      "\u001b[1;31mAttributeError\u001b[0m: 'dict' object has no attribute 'apply'"
     ]
    }
   ],
   "source": [
    "data_set.data[2].apply(Series.explode)"
   ]
  },
  {
   "cell_type": "code",
   "execution_count": null,
   "metadata": {},
   "outputs": [],
   "source": [
    "#data_set.data[2]\n",
    "pd.DataFrame(data_set.data[2]).apply(Series.explode)"
   ]
  },
  {
   "cell_type": "code",
   "execution_count": null,
   "metadata": {},
   "outputs": [],
   "source": []
  }
 ],
 "metadata": {
  "kernelspec": {
   "display_name": "napari-lattice",
   "language": "python",
   "name": "python3"
  },
  "language_info": {
   "codemirror_mode": {
    "name": "ipython",
    "version": 3
   },
   "file_extension": ".py",
   "mimetype": "text/x-python",
   "name": "python",
   "nbconvert_exporter": "python",
   "pygments_lexer": "ipython3",
   "version": "3.10.0"
  },
  "orig_nbformat": 4
 },
 "nbformat": 4,
 "nbformat_minor": 2
}
