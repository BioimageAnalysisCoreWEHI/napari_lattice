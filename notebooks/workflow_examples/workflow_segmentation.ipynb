{
 "cells": [
  {
   "cell_type": "code",
   "execution_count": 2,
   "metadata": {},
   "outputs": [],
   "source": [
    "import requests\n",
    "\n",
    "#download dataset from public repository\n",
    "#Zeiss Lattice lightsheet data\n",
    "#Cropped dataset across 5 timepoints; 671 MB\n",
    "\n",
    "czi_file_url =\"https://cloudstor.aarnet.edu.au/plus/s/7k326DxUHVBejk5/download\"\n",
    "\n",
    "r = requests.get(czi_file_url)\n",
    "with open(\"RBC_medium.czi\", \"wb\") as f:\n",
    "    f.write(r.content)"
   ]
  },
  {
   "cell_type": "code",
   "execution_count": 7,
   "metadata": {},
   "outputs": [
    {
     "name": "stdout",
     "output_type": "stream",
     "text": [
      " Image dimensions <Dimensions [T: 5, C: 1, Z: 834, Y: 297, X: 279]>\n",
      "Pixel size in microns (dx,dy,dz): (0.14499219272808386, 0.14499219272808386, 0.3)\n"
     ]
    }
   ],
   "source": [
    "from aicsimageio import AICSImage\n",
    "\n",
    "img = AICSImage(\"RBC_medium.czi\")\n",
    "print(f\" Image dimensions {img.dims}\")\n",
    "\n",
    "deskewing_angle_in_degrees = 30.0\n",
    "\n",
    "voxel_size_x_in_microns = img.physical_pixel_sizes.X\n",
    "voxel_size_y_in_microns = img.physical_pixel_sizes.Y\n",
    "voxel_size_z_in_microns = img.physical_pixel_sizes.Z\n",
    "\n",
    "print(f\"Pixel size in microns (dx,dy,dz): {voxel_size_x_in_microns,voxel_size_y_in_microns,voxel_size_z_in_microns}\")"
   ]
  },
  {
   "cell_type": "markdown",
   "metadata": {},
   "source": [
    "[napari-pyclesperanto assistant](https://clesperanto.github.io/napari_pyclesperanto_assistant/) was used to perform smoothing and segmentation. \n",
    "\n",
    "In this example, following operations were applied \n",
    "\n",
    "* median filter\n",
    "* label image using voronoi otsu labeling\n",
    "* Save the workflow as \"RBC_segmentation_workflow.yaml\""
   ]
  },
  {
   "cell_type": "code",
   "execution_count": 10,
   "metadata": {},
   "outputs": [
    {
     "name": "stdout",
     "output_type": "stream",
     "text": [
      "Workflow:\n",
      "Result of Voronoi-Otsu-labeling (clesperanto) <- (<function voronoi_otsu_labeling at 0x000001EE1F2950D0>, 'Result of median_sphere (clesperanto)', 8.0, 1.0)\n",
      "Result of median_sphere (clesperanto) <- (<function median_sphere at 0x000001EE15DD98B0>, 'crop_roi_vol_desk', None, 1.5, 1.5, 1.5)\n",
      "\n"
     ]
    }
   ],
   "source": [
    "#Load workflow\n",
    "\n",
    "from napari_workflows import _io_yaml_v1\n",
    "\n",
    "seg_workflow = _io_yaml_v1.load_workflow(\"RBC_segmentation_workflow.yaml\")\n",
    "\n",
    "print(seg_workflow)\n",
    "\n"
   ]
  },
  {
   "cell_type": "code",
   "execution_count": null,
   "metadata": {},
   "outputs": [],
   "source": []
  }
 ],
 "metadata": {
  "kernelspec": {
   "display_name": "Python 3.9.12 ('napari_lattice')",
   "language": "python",
   "name": "python3"
  },
  "language_info": {
   "codemirror_mode": {
    "name": "ipython",
    "version": 3
   },
   "file_extension": ".py",
   "mimetype": "text/x-python",
   "name": "python",
   "nbconvert_exporter": "python",
   "pygments_lexer": "ipython3",
   "version": "3.9.12"
  },
  "orig_nbformat": 4,
  "vscode": {
   "interpreter": {
    "hash": "1bca88ceff35d1c24cb5693b49134c52beacd17ba07b354dffd5545cda12a9f0"
   }
  }
 },
 "nbformat": 4,
 "nbformat_minor": 2
}
