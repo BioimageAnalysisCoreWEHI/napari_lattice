{
 "cells": [
  {
   "cell_type": "markdown",
   "metadata": {},
   "source": [
    "## PycudaDecon deconvolution\n",
    "\n",
    "Images require padding before passing them to pycudadecon. Otherwise, the shape of deconvolved image will be different than input image. We use a padding where the final dimensions are a multiple of 64. \n",
    "\n",
    "cropping psf deteriorates decon quality with pycudadecon\n",
    "seems ok with RLFish"
   ]
  },
  {
   "cell_type": "code",
   "execution_count": 7,
   "metadata": {},
   "outputs": [
    {
     "name": "stdout",
     "output_type": "stream",
     "text": [
      "(93, 205, 205)\n",
      "(834, 118, 209)\n"
     ]
    }
   ],
   "source": [
    "import numpy as np\n",
    "import math \n",
    "from pycudadecon import RLContext,TemporaryOTF,rl_decon\n",
    "from aicsimageio import AICSImage\n",
    "from skimage.io import imread\n",
    "\n",
    "#Arbitrary image and psf shapes to ensure images for now\n",
    "#can try different shapes to verify shape of output image\n",
    "\n",
    "psf = imread(\"../sample_data/psfs/zeiss_simulated/488.tif\")\n",
    "print(psf.shape)\n",
    "\n",
    "#from napari_lattice.utils import crop_psf\n",
    "#psf_1 = crop_psf(psf_img,3e-3)\n",
    "\n",
    "image = AICSImage(\"../sample_data/RBC_tiny.czi\")\n",
    "image = np.squeeze(image.data)\n",
    "print(image.shape)\n",
    "dzdata=0.3\n",
    "dxdata=0.1449922\n",
    "dzpsf=0.3\n",
    "dxpsf=0.1449922\n"
   ]
  },
  {
   "cell_type": "markdown",
   "metadata": {},
   "source": [
    "Without padding, if we use pycuda_decon, the deconvolved images get cropped."
   ]
  },
  {
   "cell_type": "code",
   "execution_count": 15,
   "metadata": {},
   "outputs": [
    {
     "name": "stdout",
     "output_type": "stream",
     "text": [
      "Image shape is (834, 118, 209). Decon image shape is (810, 112, 200)\n"
     ]
    }
   ],
   "source": [
    "\n",
    "with TemporaryOTF(psf) as otf:\n",
    "    with RLContext(rawdata_shape=image.shape, otfpath=otf.path, dzdata=dzdata, dxdata=dxdata,dzpsf=dzpsf,dxpsf=dxpsf) as ctx:\n",
    "        decon_res_no_crop = rl_decon(im=image, output_shape = ctx.out_shape,n_iters=10)\n",
    "\n",
    "print(f\"Image shape is {image.shape}. Decon image shape is {decon_res_no_crop.shape}\")\n"
   ]
  },
  {
   "cell_type": "markdown",
   "metadata": {},
   "source": [
    "Crop PSF"
   ]
  },
  {
   "cell_type": "code",
   "execution_count": 22,
   "metadata": {},
   "outputs": [
    {
     "name": "stdout",
     "output_type": "stream",
     "text": [
      "(90, 201, 64)\n"
     ]
    }
   ],
   "source": [
    "from napari_lattice.utils import crop_psf\n",
    "\n",
    "psf_norm = psf/psf.max()\n",
    "threshold = 1e-4\n",
    "psf_crop_norm= crop_psf(psf_norm,threshold)\n",
    "print(psf_crop_norm.shape)"
   ]
  },
  {
   "cell_type": "code",
   "execution_count": 23,
   "metadata": {},
   "outputs": [
    {
     "data": {
      "text/plain": [
       "(58, 112, 34)"
      ]
     },
     "execution_count": 23,
     "metadata": {},
     "output_type": "execute_result"
    }
   ],
   "source": [
    "psf_crop= crop_psf(psf,1e-3)\n",
    "psf_crop.shape"
   ]
  },
  {
   "cell_type": "code",
   "execution_count": 18,
   "metadata": {},
   "outputs": [
    {
     "name": "stdout",
     "output_type": "stream",
     "text": [
      "Image shape is (834, 118, 209). Decon image shape is (810, 112, 200)\n"
     ]
    }
   ],
   "source": [
    "\n",
    "with TemporaryOTF(psf_crop) as otf:\n",
    "    with RLContext(rawdata_shape=image.shape, otfpath=otf.path, dzdata=dzdata, dxdata=dxdata,dzpsf=dzpsf,dxpsf=dxpsf) as ctx:\n",
    "        decon_res = rl_decon(im=image, output_shape = ctx.out_shape,n_iters=10)\n",
    "\n",
    "print(f\"Image shape is {image.shape}. Decon image shape is {decon_res.shape}\")"
   ]
  },
  {
   "cell_type": "code",
   "execution_count": 21,
   "metadata": {},
   "outputs": [
    {
     "name": "stdout",
     "output_type": "stream",
     "text": [
      "Image shape is (834, 118, 209). Decon image shape is (810, 112, 200)\n"
     ]
    }
   ],
   "source": [
    "with TemporaryOTF(psf_crop_norm) as otf:\n",
    "    with RLContext(rawdata_shape=image.shape, otfpath=otf.path, dzdata=dzdata, dxdata=dxdata,dzpsf=dzpsf,dxpsf=dxpsf) as ctx:\n",
    "        decon_res_crop_norm = rl_decon(im=image, output_shape = ctx.out_shape,n_iters=10)\n",
    "\n",
    "print(f\"Image shape is {image.shape}. Decon image shape is {decon_res_crop_norm.shape}\")"
   ]
  },
  {
   "cell_type": "code",
   "execution_count": 25,
   "metadata": {},
   "outputs": [],
   "source": [
    "#no padding\n",
    "import RedLionfishDeconv as rl\n",
    "\n",
    "img_decon_large_crop= rl.doRLDeconvolutionFromNpArrays(data_np = image, \n",
    "                                                    psf_np = psf_crop, \n",
    "                                                    niter= 10, \n",
    "                                                    method = \"gpu\")"
   ]
  },
  {
   "cell_type": "code",
   "execution_count": 26,
   "metadata": {},
   "outputs": [
    {
     "name": "stderr",
     "output_type": "stream",
     "text": [
      "c:\\Users\\Pradeep\\.conda\\envs\\napari_lattice\\lib\\site-packages\\napari_tools_menu\\__init__.py:179: FutureWarning: Public access to Window.qt_viewer is deprecated and will be removed in\n",
      "v0.5.0. It is considered an \"implementation detail\" of the napari\n",
      "application, not part of the napari viewer model. If your use case\n",
      "requires access to qt_viewer, please open an issue to discuss.\n",
      "  self.tools_menu = ToolsMenu(self, self.qt_viewer.viewer)\n"
     ]
    },
    {
     "data": {
      "text/plain": [
       "<Image layer 'img_decon_large_crop' at 0x240382e3fa0>"
      ]
     },
     "execution_count": 26,
     "metadata": {},
     "output_type": "execute_result"
    }
   ],
   "source": [
    "import napari \n",
    "viewer = napari.Viewer()\n",
    "viewer.add_image(image)\n",
    "viewer.add_image(decon_res)\n",
    "viewer.add_image(decon_res_no_crop)\n",
    "viewer.add_image(img_decon_large_crop)"
   ]
  },
  {
   "cell_type": "code",
   "execution_count": 6,
   "metadata": {},
   "outputs": [
    {
     "name": "stdout",
     "output_type": "stream",
     "text": [
      "PSF shape is (30, 105, 105). Padded PSF is (32, 112, 112)\n",
      "(320, 448, 768)\n",
      "(352, 560, 880)\n",
      "(384, 576, 896)\n",
      "Image shape is (320, 448, 768). Padded image is (384, 576, 896)\n"
     ]
    }
   ],
   "source": [
    "def pad_image_nearest_multiple(img:np.ndarray,nearest_multiple:int):\n",
    "    \"\"\"pad an Image to the nearest multiple of provided number\n",
    "\n",
    "    Args:\n",
    "        img (np.ndarray): \n",
    "        nearest_multiple (int): Multiple of number to be padded\n",
    "\n",
    "    Returns:\n",
    "        np.ndarray: Padded image\n",
    "    \"\"\"    \n",
    "    rounded_shape = tuple([math.ceil(dim/nearest_multiple)*nearest_multiple for dim in img.shape])\n",
    "    #get required padding\n",
    "    padding = np.array(rounded_shape) - np.array(img.shape)\n",
    "    padded_img = np.pad(img,((0,padding[0]),(0,padding[1]),(0,padding[2])),mode=\"reflect\")\n",
    "    return padded_img\n",
    "\n",
    "\n",
    "#pad PSF by dimensions that are multiple of 16\n",
    "psf_pad = pad_image_nearest_multiple(psf,16)\n",
    "\n",
    "print(f\"PSF shape is {psf.shape}. Padded PSF is {psf_pad.shape}\")\n",
    "\n",
    "#pad image y dimensions that are multiple of 64 and also pad by half of shape\n",
    "z_psf_pad,y_psf_pad,x_psf_pad = np.array(psf_pad.shape) //2\n",
    "\n",
    "orig_shape = image.shape\n",
    "image = np.pad(image,((z_psf_pad,z_psf_pad),(y_psf_pad,y_psf_pad),(x_psf_pad,x_psf_pad)),mode=\"reflect\")\n",
    "\n",
    "image = pad_image_nearest_multiple(image,64)\n",
    "\n",
    "print(f\"Image shape is {orig_shape}. Padded image is {image.shape}\")"
   ]
  },
  {
   "cell_type": "code",
   "execution_count": 7,
   "metadata": {},
   "outputs": [
    {
     "data": {
      "text/plain": [
       "(16, 56, 56)"
      ]
     },
     "execution_count": 7,
     "metadata": {},
     "output_type": "execute_result"
    }
   ],
   "source": [
    "z_psf_pad,y_psf_pad,x_psf_pad"
   ]
  },
  {
   "cell_type": "code",
   "execution_count": 4,
   "metadata": {},
   "outputs": [
    {
     "name": "stderr",
     "output_type": "stream",
     "text": [
      "c:\\Users\\deepu\\Anaconda3\\envs\\napari_lattice\\lib\\site-packages\\napari_tools_menu\\__init__.py:194: FutureWarning: Public access to Window.qt_viewer is deprecated and will be removed in\n",
      "v0.5.0. It is considered an \"implementation detail\" of the napari\n",
      "application, not part of the napari viewer model. If your use case\n",
      "requires access to qt_viewer, please open an issue to discuss.\n",
      "  self.tools_menu = ToolsMenu(self, self.qt_viewer.viewer)\n"
     ]
    },
    {
     "data": {
      "text/plain": [
       "<Image layer 'orig_image' at 0x2c4568eed90>"
      ]
     },
     "execution_count": 4,
     "metadata": {},
     "output_type": "execute_result"
    }
   ],
   "source": [
    "import napari \n",
    "viewer = napari.Viewer()\n",
    "\n",
    "viewer.add_image(image)\n",
    "viewer.add_image(orig_image)"
   ]
  },
  {
   "cell_type": "markdown",
   "metadata": {},
   "source": [
    "Run pycudadecon on images with padding"
   ]
  },
  {
   "cell_type": "code",
   "execution_count": 3,
   "metadata": {},
   "outputs": [
    {
     "name": "stdout",
     "output_type": "stream",
     "text": [
      "Image shape is (256, 320, 640). Decon image shape is (256, 320, 640)\n"
     ]
    }
   ],
   "source": [
    "with TemporaryOTF(psf_pad) as otf:\n",
    "    with RLContext(rawdata_shape=image.shape, otfpath=otf.path, dzdata=dzdata, dxdata=dxdata,dzpsf=dzpsf,dxpsf=dxpsf) as ctx:\n",
    "        decon_res = rl_decon(im=image, output_shape = ctx.out_shape,n_iters=10)\n",
    "\n",
    "print(f\"Image shape is {image.shape}. Decon image shape is {decon_res.shape}\")"
   ]
  },
  {
   "cell_type": "markdown",
   "metadata": {},
   "source": [
    "What if we use it on original psf without padding?"
   ]
  },
  {
   "cell_type": "code",
   "execution_count": 5,
   "metadata": {},
   "outputs": [
    {
     "name": "stderr",
     "output_type": "stream",
     "text": [
      "c:\\Users\\deepu\\Anaconda3\\envs\\napari_lattice\\lib\\site-packages\\pycudadecon\\otf.py:59: RuntimeWarning: divide by zero encountered in longlong_scalars\n",
      "  outnx = max_otf_size // (outnz * 4) - 2\n"
     ]
    },
    {
     "name": "stdout",
     "output_type": "stream",
     "text": [
      "Image shape is (1152, 128, 256). Decon image shape is (1152, 128, 256)\n"
     ]
    }
   ],
   "source": [
    "with TemporaryOTF(psf) as otf:\n",
    "    with RLContext(rawdata_shape=img_pad.shape, otfpath=otf.path, dzdata=dzdata, dxdata=dxdata,dzpsf=dzpsf,dxpsf=dxpsf) as ctx:\n",
    "        decon_res = rl_decon(im=img_pad, output_shape = ctx.out_shape,n_iters=10)\n",
    "\n",
    "print(f\"Image shape is {img_pad.shape}. Decon image shape is {decon_res.shape}\")"
   ]
  },
  {
   "cell_type": "markdown",
   "metadata": {},
   "source": [
    "It seems to work, however, we'll use psf with some padding as we've noticed some discrepancies occasionally"
   ]
  }
 ],
 "metadata": {
  "kernelspec": {
   "display_name": "napari_lattice",
   "language": "python",
   "name": "python3"
  },
  "language_info": {
   "codemirror_mode": {
    "name": "ipython",
    "version": 3
   },
   "file_extension": ".py",
   "mimetype": "text/x-python",
   "name": "python",
   "nbconvert_exporter": "python",
   "pygments_lexer": "ipython3",
   "version": "3.9.13 | packaged by conda-forge | (main, May 27 2022, 16:50:36) [MSC v.1929 64 bit (AMD64)]"
  },
  "orig_nbformat": 4,
  "vscode": {
   "interpreter": {
    "hash": "932276240abc737164583bff777190af54899b7b9cb5335f141f8143bfeb95c0"
   }
  }
 },
 "nbformat": 4,
 "nbformat_minor": 2
}
