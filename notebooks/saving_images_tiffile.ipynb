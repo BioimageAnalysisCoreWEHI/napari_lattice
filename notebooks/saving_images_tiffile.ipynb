{
 "cells": [
  {
   "cell_type": "code",
   "execution_count": 1,
   "metadata": {},
   "outputs": [
    {
     "name": "stdout",
     "output_type": "stream",
     "text": [
      "Shape of original image (150, 118, 209)\n"
     ]
    }
   ],
   "source": [
    "from tifffile import imread, TiffWriter\n",
    "from tifffile import tifffile\n",
    "import numpy as np \n",
    "\n",
    "\n",
    "test_img = imread(\"../sample_data/RBC_lattice.tif\")\n",
    "voxel_size_x_in_microns = 0.1449922\n",
    "voxel_size_y_in_microns = 0.1449922\n",
    "voxel_size_z_in_microns = 0.3\n",
    "\n",
    "deskewing_angle_in_degrees = 30\n",
    "\n",
    "print(\"Shape of original image\", test_img.shape )"
   ]
  },
  {
   "cell_type": "code",
   "execution_count": 2,
   "metadata": {},
   "outputs": [],
   "source": [
    "final_save_path = 'C:\\\\Users\\\\deepu\\\\Documents\\\\temp_test.tif'\n",
    "\n",
    "tif_writer = TiffWriter(final_save_path,bigtiff=True)\n",
    "metadata={'spacing': 0.145, 'unit': 'um', 'axes': 'ZCYX','PhysicalSizeX': voxel_size_x_in_microns,'PhysicalSizeXUnit': 'µm','PhysicalSizeY': voxel_size_y_in_microns,'PhysicalSizeYUnit': 'um'}\n",
    "\n",
    "tif_writer.write(test_img,\n",
    "                resolution=(1/(voxel_size_x_in_microns),1/(voxel_size_y_in_microns),\"MICROMETER\"),\n",
    "                metadata=metadata) \n",
    "\n",
    "tif_writer.close()"
   ]
  },
  {
   "cell_type": "code",
   "execution_count": 17,
   "metadata": {},
   "outputs": [
    {
     "data": {
      "text/plain": [
       "(2, 150, 118, 209)"
      ]
     },
     "execution_count": 17,
     "metadata": {},
     "output_type": "execute_result"
    }
   ],
   "source": [
    "#Create multichannel image\n",
    "\n",
    "test_img_expand= np.expand_dims(test_img,axis=0)\n",
    "test_img_multich = np.vstack((test_img_expand,test_img_expand*10))\n",
    "test_img_multich.shape"
   ]
  },
  {
   "cell_type": "code",
   "execution_count": 15,
   "metadata": {},
   "outputs": [
    {
     "data": {
      "text/plain": [
       "(1, 150, 2, 118, 209)"
      ]
     },
     "execution_count": 15,
     "metadata": {},
     "output_type": "execute_result"
    }
   ],
   "source": [
    "test = np.swapaxes(test_img_multich,0,1).astype(test_img_multich.dtype)\n",
    "test = test[np.newaxis,...]\n",
    "test.shape"
   ]
  },
  {
   "cell_type": "code",
   "execution_count": 18,
   "metadata": {},
   "outputs": [],
   "source": [
    "final_save_path = 'C:\\\\Users\\\\deepu\\\\Documents\\\\temp_test_ch.tif'\n",
    "\n",
    "tif_writer = TiffWriter(final_save_path,bigtiff=True)\n",
    "#Does this metadata get wrriten?\n",
    "metadata={'spacing': 0.145, 'unit': 'um', 'axes': 'ZCYX','PhysicalSizeX': voxel_size_x_in_microns,'PhysicalSizeXUnit': 'µm','PhysicalSizeY': voxel_size_y_in_microns,'PhysicalSizeYUnit': 'um'}\n",
    "\n",
    "for ch in range(2):\n",
    "    tif_writer.write(test_img_multich,\n",
    "                    resolution=(1/(voxel_size_x_in_microns),1/(voxel_size_y_in_microns),\"MICROMETER\"),\n",
    "                    metadata=metadata) \n",
    "\n",
    "tif_writer.close()"
   ]
  },
  {
   "cell_type": "code",
   "execution_count": 11,
   "metadata": {},
   "outputs": [
    {
     "data": {
      "text/plain": [
       "(1, 150, 1, 118, 209)"
      ]
     },
     "execution_count": 11,
     "metadata": {},
     "output_type": "execute_result"
    }
   ],
   "source": [
    "im_final.shape"
   ]
  },
  {
   "cell_type": "code",
   "execution_count": 26,
   "metadata": {},
   "outputs": [
    {
     "ename": "AttributeError",
     "evalue": "'tuple' object has no attribute 'shape'",
     "output_type": "error",
     "traceback": [
      "\u001b[1;31m---------------------------------------------------------------------------\u001b[0m",
      "\u001b[1;31mAttributeError\u001b[0m                            Traceback (most recent call last)",
      "\u001b[1;32mc:\\Users\\deepu\\OneDrive - wehi.edu.au\\WEHI_projects\\Lightsheet\\napari_lattice_plugin_repo\\napari_lattice\\notebooks\\saving_images_tiffile.ipynb Cell 5\u001b[0m in \u001b[0;36m<cell line: 1>\u001b[1;34m()\u001b[0m\n\u001b[1;32m----> <a href='vscode-notebook-cell:/c%3A/Users/deepu/OneDrive%20-%20wehi.edu.au/WEHI_projects/Lightsheet/napari_lattice_plugin_repo/napari_lattice/notebooks/saving_images_tiffile.ipynb#W5sZmlsZQ%3D%3D?line=0'>1</a>\u001b[0m test_img_expand\u001b[39m.\u001b[39;49mshape\n",
      "\u001b[1;31mAttributeError\u001b[0m: 'tuple' object has no attribute 'shape'"
     ]
    }
   ],
   "source": [
    "test_img_expand.shape"
   ]
  },
  {
   "cell_type": "code",
   "execution_count": null,
   "metadata": {},
   "outputs": [],
   "source": []
  }
 ],
 "metadata": {
  "kernelspec": {
   "display_name": "Python 3.9.12 ('napari_lattice')",
   "language": "python",
   "name": "python3"
  },
  "language_info": {
   "codemirror_mode": {
    "name": "ipython",
    "version": 3
   },
   "file_extension": ".py",
   "mimetype": "text/x-python",
   "name": "python",
   "nbconvert_exporter": "python",
   "pygments_lexer": "ipython3",
   "version": "3.9.13"
  },
  "orig_nbformat": 4,
  "vscode": {
   "interpreter": {
    "hash": "1bca88ceff35d1c24cb5693b49134c52beacd17ba07b354dffd5545cda12a9f0"
   }
  }
 },
 "nbformat": 4,
 "nbformat_minor": 2
}
