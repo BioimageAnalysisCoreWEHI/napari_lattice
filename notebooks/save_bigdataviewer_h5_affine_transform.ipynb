{
 "cells": [
  {
   "cell_type": "markdown",
   "metadata": {},
   "source": [
    "### Saving data in bigdataviewer h5 format using np2bdv library\n",
    "\n",
    "BigStitcher in Fiji can read in affine transformations and apply it to the raw data without need for deskewing the data\n",
    "The idea here is to \n",
    "* convert the raw data to h5 file\n",
    "* generate affine transformations and save it in the bigdataviewer xml file\n"
   ]
  },
  {
   "cell_type": "code",
   "execution_count": 3,
   "metadata": {},
   "outputs": [],
   "source": [
    "from skimage.io import imread\n",
    "import pyclesperanto_prototype as cle\n",
    "from pyclesperanto_prototype._tier8 import AffineTransform3D\n",
    "\n",
    "import numpy as np\n",
    "\n",
    "import npy2bdv\n"
   ]
  },
  {
   "cell_type": "code",
   "execution_count": 4,
   "metadata": {},
   "outputs": [
    {
     "name": "stdout",
     "output_type": "stream",
     "text": [
      "Shape of original image (150, 118, 209)\n"
     ]
    }
   ],
   "source": [
    "#Read lattice file\n",
    "rbc = imread(\"../sample_data/RBC_lattice.tif\")\n",
    "\n",
    "voxel_size_x_in_microns = 0.1449922\n",
    "voxel_size_y_in_microns = 0.1449922\n",
    "voxel_size_z_in_microns = 0.3\n",
    "\n",
    "deskewing_angle_in_degrees = 30.0\n",
    "\n",
    "print(\"Shape of original image\", rbc.shape )"
   ]
  },
  {
   "cell_type": "markdown",
   "metadata": {},
   "source": [
    "The affine matrices in pyclesperanto are defined in the xyz format which is compatible with in Java. \n",
    "However, if you need to use the affine matrix in Python, you will have to swap the first and third rows so its in the zyx format"
   ]
  },
  {
   "cell_type": "code",
   "execution_count": 16,
   "metadata": {},
   "outputs": [
    {
     "data": {
      "text/plain": [
       "array([[ 1.00000000e+00,  0.00000000e+00,  0.00000000e+00,\n",
       "         0.00000000e+00],\n",
       "       [ 0.00000000e+00,  8.66025404e-01,  2.06907682e+00,\n",
       "         0.00000000e+00],\n",
       "       [ 0.00000000e+00, -5.00000000e-01,  1.11022302e-16,\n",
       "         0.00000000e+00],\n",
       "       [ 0.00000000e+00,  0.00000000e+00,  0.00000000e+00,\n",
       "         1.00000000e+00]])"
      ]
     },
     "execution_count": 16,
     "metadata": {},
     "output_type": "execute_result"
    }
   ],
   "source": [
    "\n",
    "deskew_transform = AffineTransform3D()\n",
    "\n",
    "deskew_transform._deskew_y(\n",
    "    angle_in_degrees=deskewing_angle_in_degrees,\n",
    "    voxel_size_x=voxel_size_x_in_microns,\n",
    "    voxel_size_y=voxel_size_y_in_microns,\n",
    "    voxel_size_z=voxel_size_z_in_microns\n",
    ")\n",
    "deskew_transform._matrix"
   ]
  },
  {
   "cell_type": "code",
   "execution_count": 17,
   "metadata": {},
   "outputs": [
    {
     "name": "stdout",
     "output_type": "stream",
     "text": [
      "Deskew affine transformed dataset in C:\\Users\\deepu\\\\Documents\\\\data.h5\n"
     ]
    }
   ],
   "source": [
    "save_dir = \"C:\\\\Users\\\\deepu\\\\\\Documents\\\\\"\n",
    "fname = save_dir +\"\\\\data.h5\"\n",
    "affine_transform = deskew_transform._matrix[:3]  #3x4 matrix\n",
    "bdv_writer = npy2bdv.BdvWriter(fname)\n",
    "bdv_writer.append_view(rbc, \n",
    "                       time=0,\n",
    "                       channel=0,\n",
    "                       m_affine=affine_transform,\n",
    "                       name_affine=\"deskew_transform\",\n",
    "                       voxel_size_xyz = (voxel_size_x_in_microns,voxel_size_y_in_microns,voxel_size_z_in_microns),\n",
    "                       voxel_units= \"um\",\n",
    "                       calibration=(1, 1, voxel_size_y_in_microns/voxel_size_x_in_microns))\n",
    "\n",
    "bdv_writer.write_xml()\n",
    "bdv_writer.close()\n",
    "print(f\"Deskew affine transformed dataset in {fname}\")"
   ]
  },
  {
   "cell_type": "code",
   "execution_count": null,
   "metadata": {},
   "outputs": [],
   "source": []
  },
  {
   "cell_type": "markdown",
   "metadata": {},
   "source": [
    "Example deskewing using pyclesperanto"
   ]
  },
  {
   "cell_type": "code",
   "execution_count": 5,
   "metadata": {},
   "outputs": [
    {
     "name": "stdout",
     "output_type": "stream",
     "text": [
      "Shape of deskewed image (59, 413, 209)\n"
     ]
    }
   ],
   "source": [
    "#Perform deskewing on rbc image  \n",
    "deskewed = cle.deskew_y(rbc, \n",
    "                        angle_in_degrees=deskewing_angle_in_degrees, \n",
    "                        voxel_size_x=voxel_size_x_in_microns, \n",
    "                        voxel_size_y=voxel_size_y_in_microns, \n",
    "                        voxel_size_z=voxel_size_z_in_microns)\n",
    "\n",
    "print(\"Shape of deskewed image\",deskewed.shape)"
   ]
  }
 ],
 "metadata": {
  "kernelspec": {
   "display_name": "Python 3.9.12 ('napari_lattice')",
   "language": "python",
   "name": "python3"
  },
  "language_info": {
   "codemirror_mode": {
    "name": "ipython",
    "version": 3
   },
   "file_extension": ".py",
   "mimetype": "text/x-python",
   "name": "python",
   "nbconvert_exporter": "python",
   "pygments_lexer": "ipython3",
   "version": "3.9.12"
  },
  "vscode": {
   "interpreter": {
    "hash": "1bca88ceff35d1c24cb5693b49134c52beacd17ba07b354dffd5545cda12a9f0"
   }
  }
 },
 "nbformat": 4,
 "nbformat_minor": 4
}
