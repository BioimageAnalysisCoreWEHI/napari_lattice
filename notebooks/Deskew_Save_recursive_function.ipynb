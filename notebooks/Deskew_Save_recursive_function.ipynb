{
 "cells": [
  {
   "cell_type": "markdown",
   "id": "dcf41d21",
   "metadata": {},
   "source": [
    "# Deskewing and saving images\n",
    "\n",
    "Using recursive functions for deskewing and saving the image\n"
   ]
  },
  {
   "cell_type": "code",
   "execution_count": 14,
   "id": "bcf699f9",
   "metadata": {},
   "outputs": [
    {
     "data": {
      "text/plain": [
       "<NVIDIA GeForce RTX 3080 on Platform: NVIDIA CUDA (2 refs)>"
      ]
     },
     "execution_count": 14,
     "metadata": {},
     "output_type": "execute_result"
    }
   ],
   "source": [
    "import dask\n",
    "import dask.array as da\n",
    "from pyclesperanto_prototype import imshow\n",
    "\n",
    "import pyclesperanto_prototype as cle\n",
    "\n",
    "from aicsimageio import AICSImage, writers\n",
    "from aicsimageio.types import PhysicalPixelSizes\n",
    "\n",
    "from functools import partial\n",
    "import numpy as np\n",
    "import os \n",
    "\n",
    "from tqdm import tqdm\n",
    "\n",
    "from skimage.io import imsave\n",
    "\n",
    "cle.get_device()"
   ]
  },
  {
   "cell_type": "code",
   "execution_count": 8,
   "id": "a7e6c7bf",
   "metadata": {},
   "outputs": [],
   "source": [
    "voxel_size_x_in_microns = 0.1449922\n",
    "voxel_size_y_in_microns = 0.1449922\n",
    "voxel_size_z_in_microns = 0.3\n",
    "deskewing_angle_in_degrees = 30"
   ]
  },
  {
   "cell_type": "code",
   "execution_count": 9,
   "id": "16b2cfab",
   "metadata": {},
   "outputs": [],
   "source": [
    "data_path = 'C:\\\\RAPA_treated-01_resaved_c02_t_100.czi'\n",
    "data = AICSImage(data_path)"
   ]
  },
  {
   "cell_type": "code",
   "execution_count": 10,
   "id": "b9709b5a",
   "metadata": {
    "scrolled": true
   },
   "outputs": [
    {
     "data": {
      "text/html": [
       "<table>\n",
       "    <tr>\n",
       "        <td>\n",
       "            <table>\n",
       "                <thead>\n",
       "                    <tr>\n",
       "                        <td> </td>\n",
       "                        <th> Array </th>\n",
       "                        <th> Chunk </th>\n",
       "                    </tr>\n",
       "                </thead>\n",
       "                <tbody>\n",
       "                    \n",
       "                    <tr>\n",
       "                        <th> Bytes </th>\n",
       "                        <td> 19.44 GiB </td>\n",
       "                        <td> 199.07 MiB </td>\n",
       "                    </tr>\n",
       "                    \n",
       "                    <tr>\n",
       "                        <th> Shape </th>\n",
       "                        <td> (100, 1, 501, 140, 1488) </td>\n",
       "                        <td> (1, 1, 501, 140, 1488) </td>\n",
       "                    </tr>\n",
       "                    <tr>\n",
       "                        <th> Count </th>\n",
       "                        <td> 500 Tasks </td>\n",
       "                        <td> 100 Chunks </td>\n",
       "                    </tr>\n",
       "                    <tr>\n",
       "                    <th> Type </th>\n",
       "                    <td> uint16 </td>\n",
       "                    <td> numpy.ndarray </td>\n",
       "                    </tr>\n",
       "                </tbody>\n",
       "            </table>\n",
       "        </td>\n",
       "        <td>\n",
       "        <svg width=\"385\" height=\"114\" style=\"stroke:rgb(0,0,0);stroke-width:1\" >\n",
       "\n",
       "  <!-- Horizontal lines -->\n",
       "  <line x1=\"0\" y1=\"0\" x2=\"25\" y2=\"0\" style=\"stroke-width:2\" />\n",
       "  <line x1=\"0\" y1=\"1\" x2=\"25\" y2=\"1\" />\n",
       "  <line x1=\"0\" y1=\"2\" x2=\"25\" y2=\"2\" />\n",
       "  <line x1=\"0\" y1=\"3\" x2=\"25\" y2=\"3\" />\n",
       "  <line x1=\"0\" y1=\"4\" x2=\"25\" y2=\"4\" />\n",
       "  <line x1=\"0\" y1=\"5\" x2=\"25\" y2=\"5\" />\n",
       "  <line x1=\"0\" y1=\"6\" x2=\"25\" y2=\"6\" />\n",
       "  <line x1=\"0\" y1=\"7\" x2=\"25\" y2=\"7\" />\n",
       "  <line x1=\"0\" y1=\"9\" x2=\"25\" y2=\"9\" />\n",
       "  <line x1=\"0\" y1=\"10\" x2=\"25\" y2=\"10\" />\n",
       "  <line x1=\"0\" y1=\"11\" x2=\"25\" y2=\"11\" />\n",
       "  <line x1=\"0\" y1=\"12\" x2=\"25\" y2=\"12\" />\n",
       "  <line x1=\"0\" y1=\"13\" x2=\"25\" y2=\"13\" />\n",
       "  <line x1=\"0\" y1=\"14\" x2=\"25\" y2=\"14\" />\n",
       "  <line x1=\"0\" y1=\"15\" x2=\"25\" y2=\"15\" />\n",
       "  <line x1=\"0\" y1=\"16\" x2=\"25\" y2=\"16\" />\n",
       "  <line x1=\"0\" y1=\"18\" x2=\"25\" y2=\"18\" />\n",
       "  <line x1=\"0\" y1=\"19\" x2=\"25\" y2=\"19\" />\n",
       "  <line x1=\"0\" y1=\"20\" x2=\"25\" y2=\"20\" />\n",
       "  <line x1=\"0\" y1=\"21\" x2=\"25\" y2=\"21\" />\n",
       "  <line x1=\"0\" y1=\"22\" x2=\"25\" y2=\"22\" />\n",
       "  <line x1=\"0\" y1=\"23\" x2=\"25\" y2=\"23\" />\n",
       "  <line x1=\"0\" y1=\"24\" x2=\"25\" y2=\"24\" />\n",
       "  <line x1=\"0\" y1=\"25\" x2=\"25\" y2=\"25\" />\n",
       "  <line x1=\"0\" y1=\"27\" x2=\"25\" y2=\"27\" />\n",
       "  <line x1=\"0\" y1=\"28\" x2=\"25\" y2=\"28\" />\n",
       "  <line x1=\"0\" y1=\"29\" x2=\"25\" y2=\"29\" />\n",
       "  <line x1=\"0\" y1=\"30\" x2=\"25\" y2=\"30\" />\n",
       "  <line x1=\"0\" y1=\"31\" x2=\"25\" y2=\"31\" />\n",
       "  <line x1=\"0\" y1=\"32\" x2=\"25\" y2=\"32\" />\n",
       "  <line x1=\"0\" y1=\"33\" x2=\"25\" y2=\"33\" />\n",
       "  <line x1=\"0\" y1=\"34\" x2=\"25\" y2=\"34\" />\n",
       "  <line x1=\"0\" y1=\"36\" x2=\"25\" y2=\"36\" style=\"stroke-width:2\" />\n",
       "\n",
       "  <!-- Vertical lines -->\n",
       "  <line x1=\"0\" y1=\"0\" x2=\"0\" y2=\"36\" style=\"stroke-width:2\" />\n",
       "  <line x1=\"25\" y1=\"0\" x2=\"25\" y2=\"36\" style=\"stroke-width:2\" />\n",
       "\n",
       "  <!-- Colored Rectangle -->\n",
       "  <polygon points=\"0.0,0.0 25.412616514582485,0.0 25.412616514582485,36.29595175007633 0.0,36.29595175007633\" style=\"fill:#8B4903A0;stroke-width:0\"/>\n",
       "\n",
       "  <!-- Text -->\n",
       "  <text x=\"12.706308\" y=\"56.295952\" font-size=\"1.0rem\" font-weight=\"100\" text-anchor=\"middle\" >1</text>\n",
       "  <text x=\"45.412617\" y=\"18.147976\" font-size=\"1.0rem\" font-weight=\"100\" text-anchor=\"middle\" transform=\"rotate(-90,45.412617,18.147976)\">100</text>\n",
       "\n",
       "\n",
       "  <!-- Horizontal lines -->\n",
       "  <line x1=\"95\" y1=\"0\" x2=\"120\" y2=\"25\" style=\"stroke-width:2\" />\n",
       "  <line x1=\"95\" y1=\"38\" x2=\"120\" y2=\"64\" style=\"stroke-width:2\" />\n",
       "\n",
       "  <!-- Vertical lines -->\n",
       "  <line x1=\"95\" y1=\"0\" x2=\"95\" y2=\"38\" style=\"stroke-width:2\" />\n",
       "  <line x1=\"120\" y1=\"25\" x2=\"120\" y2=\"64\" style=\"stroke-width:2\" />\n",
       "\n",
       "  <!-- Colored Rectangle -->\n",
       "  <polygon points=\"95.0,0.0 120.83358259200595,25.83358259200595 120.83358259200595,64.08991407897558 95.0,38.256331486969636\" style=\"fill:#ECB172A0;stroke-width:0\"/>\n",
       "\n",
       "  <!-- Horizontal lines -->\n",
       "  <line x1=\"95\" y1=\"0\" x2=\"215\" y2=\"0\" style=\"stroke-width:2\" />\n",
       "  <line x1=\"120\" y1=\"25\" x2=\"240\" y2=\"25\" style=\"stroke-width:2\" />\n",
       "\n",
       "  <!-- Vertical lines -->\n",
       "  <line x1=\"95\" y1=\"0\" x2=\"120\" y2=\"25\" style=\"stroke-width:2\" />\n",
       "  <line x1=\"215\" y1=\"0\" x2=\"240\" y2=\"25\" style=\"stroke-width:2\" />\n",
       "\n",
       "  <!-- Colored Rectangle -->\n",
       "  <polygon points=\"95.0,0.0 215.0,0.0 240.83358259200594,25.83358259200595 120.83358259200595,25.83358259200595\" style=\"fill:#ECB172A0;stroke-width:0\"/>\n",
       "\n",
       "  <!-- Horizontal lines -->\n",
       "  <line x1=\"120\" y1=\"25\" x2=\"240\" y2=\"25\" style=\"stroke-width:2\" />\n",
       "  <line x1=\"120\" y1=\"64\" x2=\"240\" y2=\"64\" style=\"stroke-width:2\" />\n",
       "\n",
       "  <!-- Vertical lines -->\n",
       "  <line x1=\"120\" y1=\"25\" x2=\"120\" y2=\"64\" style=\"stroke-width:2\" />\n",
       "  <line x1=\"240\" y1=\"25\" x2=\"240\" y2=\"64\" style=\"stroke-width:2\" />\n",
       "\n",
       "  <!-- Colored Rectangle -->\n",
       "  <polygon points=\"120.83358259200595,25.83358259200595 240.83358259200594,25.83358259200595 240.83358259200594,64.08991407897558 120.83358259200595,64.08991407897558\" style=\"fill:#ECB172A0;stroke-width:0\"/>\n",
       "\n",
       "  <!-- Text -->\n",
       "  <text x=\"180.833583\" y=\"84.089914\" font-size=\"1.0rem\" font-weight=\"100\" text-anchor=\"middle\" >1488</text>\n",
       "  <text x=\"260.833583\" y=\"44.961748\" font-size=\"1.0rem\" font-weight=\"100\" text-anchor=\"middle\" transform=\"rotate(-90,260.833583,44.961748)\">140</text>\n",
       "  <text x=\"97.916791\" y=\"71.173123\" font-size=\"1.0rem\" font-weight=\"100\" text-anchor=\"middle\" transform=\"rotate(45,97.916791,71.173123)\">501</text>\n",
       "</svg>\n",
       "        </td>\n",
       "    </tr>\n",
       "</table>"
      ],
      "text/plain": [
       "dask.array<transpose, shape=(100, 1, 501, 140, 1488), dtype=uint16, chunksize=(1, 1, 501, 140, 1488), chunktype=numpy.ndarray>"
      ]
     },
     "execution_count": 10,
     "metadata": {},
     "output_type": "execute_result"
    }
   ],
   "source": [
    "image = data.dask_data\n",
    "image"
   ]
  },
  {
   "cell_type": "markdown",
   "id": "8ebf90ad",
   "metadata": {},
   "source": [
    "The recursive function will call itself until it runs the function. As the function is deskewing, it returns an OCLarray. Returning as a dask array shows error and trying to save it throws an error"
   ]
  },
  {
   "cell_type": "code",
   "execution_count": 19,
   "id": "95e0647a",
   "metadata": {},
   "outputs": [],
   "source": [
    "from skimage.io import imsave\n",
    "\n",
    "save_path = \"D:\\\\deskew_save\\\\\"\n",
    "save_name = \"deskewed\"\n",
    "\n",
    "#create aicsimageio physical pixel size variable using PhysicalPixelSizes class to save pixel size\n",
    "aics_image_pixel_sizes = PhysicalPixelSizes(data.physical_pixel_sizes.Z,data.physical_pixel_sizes.Y,data.physical_pixel_sizes.X)\n",
    "\n",
    "def recursive_imageProcess(im,func,*args,**kwargs):\n",
    "    if len(im.shape) > 3:\n",
    "        for idx, sl in enumerate(im[0:3]):\n",
    "            output=recursive_imageProcess(sl,func,*args,**kwargs)\n",
    "            #Check if output is array; if so, save the file\n",
    "            if type(output) is da.core.Array:\n",
    "                print(\"Saving time: \"+str(idx))\n",
    "                final_name=save_path+os.sep+\"C0_T\"+str(idx)+\"_\"+save_name+\".ome.tif\"\n",
    "                #writers.OmeTiffWriter.save(output, final_name, physical_pixel_sizes = aics_image_pixel_sizes)\n",
    "                imsave(final_name, output)\n",
    "                print(\"Saved\")\n",
    "        return da.asarray(output)\n",
    "    return func(im,*args,**kwargs)\n",
    "    "
   ]
  },
  {
   "cell_type": "code",
   "execution_count": 20,
   "id": "cfb4109a",
   "metadata": {},
   "outputs": [],
   "source": [
    "deskew = partial(cle.deskew_y,angle_in_degrees=deskewing_angle_in_degrees, \n",
    "                        voxel_size_x=voxel_size_x_in_microns, \n",
    "                        voxel_size_y=voxel_size_y_in_microns, \n",
    "                        voxel_size_z=voxel_size_z_in_microns)\n"
   ]
  },
  {
   "cell_type": "code",
   "execution_count": 21,
   "id": "60107530",
   "metadata": {},
   "outputs": [
    {
     "name": "stdout",
     "output_type": "stream",
     "text": [
      "Saving time: 0\n"
     ]
    },
    {
     "ename": "AssertionError",
     "evalue": "Array in get() must be contiguous",
     "output_type": "error",
     "traceback": [
      "\u001b[1;31m---------------------------------------------------------------------------\u001b[0m",
      "\u001b[1;31mAssertionError\u001b[0m                            Traceback (most recent call last)",
      "File \u001b[1;32m<timed exec>:1\u001b[0m, in \u001b[0;36m<module>\u001b[1;34m\u001b[0m\n",
      "Input \u001b[1;32mIn [19]\u001b[0m, in \u001b[0;36mrecursive_imageProcess\u001b[1;34m(im, func, *args, **kwargs)\u001b[0m\n\u001b[0;32m     16\u001b[0m         final_name\u001b[39m=\u001b[39msave_path\u001b[39m+\u001b[39mos\u001b[39m.\u001b[39msep\u001b[39m+\u001b[39m\u001b[39m\"\u001b[39m\u001b[39mC0_T\u001b[39m\u001b[39m\"\u001b[39m\u001b[39m+\u001b[39m\u001b[39mstr\u001b[39m(idx)\u001b[39m+\u001b[39m\u001b[39m\"\u001b[39m\u001b[39m_\u001b[39m\u001b[39m\"\u001b[39m\u001b[39m+\u001b[39msave_name\u001b[39m+\u001b[39m\u001b[39m\"\u001b[39m\u001b[39m.ome.tif\u001b[39m\u001b[39m\"\u001b[39m\n\u001b[0;32m     17\u001b[0m         \u001b[39m#writers.OmeTiffWriter.save(output, final_name, physical_pixel_sizes = aics_image_pixel_sizes)\u001b[39;00m\n\u001b[1;32m---> 18\u001b[0m         imsave(final_name, output)\n\u001b[0;32m     19\u001b[0m         \u001b[39mprint\u001b[39m(\u001b[39m\"\u001b[39m\u001b[39mSaved\u001b[39m\u001b[39m\"\u001b[39m)\n\u001b[0;32m     20\u001b[0m \u001b[39mreturn\u001b[39;00m da\u001b[39m.\u001b[39masarray(output)\n",
      "File \u001b[1;32m~\\.conda\\envs\\napari-lattice\\lib\\site-packages\\skimage\\io\\_io.py:141\u001b[0m, in \u001b[0;36mimsave\u001b[1;34m(fname, arr, plugin, check_contrast, **plugin_args)\u001b[0m\n\u001b[0;32m    <a href='file:///~/.conda/envs/napari-lattice/lib/site-packages/skimage/io/_io.py?line=136'>137</a>\u001b[0m     warn(\u001b[39m'\u001b[39m\u001b[39m%s\u001b[39;00m\u001b[39m is a boolean image: setting True to 255 and False to 0. \u001b[39m\u001b[39m'\u001b[39m\n\u001b[0;32m    <a href='file:///~/.conda/envs/napari-lattice/lib/site-packages/skimage/io/_io.py?line=137'>138</a>\u001b[0m          \u001b[39m'\u001b[39m\u001b[39mTo silence this warning, please convert the image using \u001b[39m\u001b[39m'\u001b[39m\n\u001b[0;32m    <a href='file:///~/.conda/envs/napari-lattice/lib/site-packages/skimage/io/_io.py?line=138'>139</a>\u001b[0m          \u001b[39m'\u001b[39m\u001b[39mimg_as_ubyte.\u001b[39m\u001b[39m'\u001b[39m \u001b[39m%\u001b[39m fname, stacklevel\u001b[39m=\u001b[39m\u001b[39m2\u001b[39m)\n\u001b[0;32m    <a href='file:///~/.conda/envs/napari-lattice/lib/site-packages/skimage/io/_io.py?line=139'>140</a>\u001b[0m     arr \u001b[39m=\u001b[39m arr\u001b[39m.\u001b[39mastype(\u001b[39m'\u001b[39m\u001b[39muint8\u001b[39m\u001b[39m'\u001b[39m) \u001b[39m*\u001b[39m \u001b[39m255\u001b[39m\n\u001b[1;32m--> <a href='file:///~/.conda/envs/napari-lattice/lib/site-packages/skimage/io/_io.py?line=140'>141</a>\u001b[0m \u001b[39mif\u001b[39;00m check_contrast \u001b[39mand\u001b[39;00m is_low_contrast(arr):\n\u001b[0;32m    <a href='file:///~/.conda/envs/napari-lattice/lib/site-packages/skimage/io/_io.py?line=141'>142</a>\u001b[0m     warn(\u001b[39m'\u001b[39m\u001b[39m%s\u001b[39;00m\u001b[39m is a low contrast image\u001b[39m\u001b[39m'\u001b[39m \u001b[39m%\u001b[39m fname)\n\u001b[0;32m    <a href='file:///~/.conda/envs/napari-lattice/lib/site-packages/skimage/io/_io.py?line=142'>143</a>\u001b[0m \u001b[39mreturn\u001b[39;00m call_plugin(\u001b[39m'\u001b[39m\u001b[39mimsave\u001b[39m\u001b[39m'\u001b[39m, fname, arr, plugin\u001b[39m=\u001b[39mplugin, \u001b[39m*\u001b[39m\u001b[39m*\u001b[39mplugin_args)\n",
      "File \u001b[1;32m~\\.conda\\envs\\napari-lattice\\lib\\site-packages\\skimage\\exposure\\exposure.py:822\u001b[0m, in \u001b[0;36mis_low_contrast\u001b[1;34m(image, fraction_threshold, lower_percentile, upper_percentile, method)\u001b[0m\n\u001b[0;32m    <a href='file:///~/.conda/envs/napari-lattice/lib/site-packages/skimage/exposure/exposure.py?line=776'>777</a>\u001b[0m \u001b[39mdef\u001b[39;00m \u001b[39mis_low_contrast\u001b[39m(image, fraction_threshold\u001b[39m=\u001b[39m\u001b[39m0.05\u001b[39m, lower_percentile\u001b[39m=\u001b[39m\u001b[39m1\u001b[39m,\n\u001b[0;32m    <a href='file:///~/.conda/envs/napari-lattice/lib/site-packages/skimage/exposure/exposure.py?line=777'>778</a>\u001b[0m                     upper_percentile\u001b[39m=\u001b[39m\u001b[39m99\u001b[39m, method\u001b[39m=\u001b[39m\u001b[39m'\u001b[39m\u001b[39mlinear\u001b[39m\u001b[39m'\u001b[39m):\n\u001b[0;32m    <a href='file:///~/.conda/envs/napari-lattice/lib/site-packages/skimage/exposure/exposure.py?line=778'>779</a>\u001b[0m     \u001b[39m\"\"\"Determine if an image is low contrast.\u001b[39;00m\n\u001b[0;32m    <a href='file:///~/.conda/envs/napari-lattice/lib/site-packages/skimage/exposure/exposure.py?line=779'>780</a>\u001b[0m \n\u001b[0;32m    <a href='file:///~/.conda/envs/napari-lattice/lib/site-packages/skimage/exposure/exposure.py?line=780'>781</a>\u001b[0m \u001b[39m    Parameters\u001b[39;00m\n\u001b[1;32m   (...)\u001b[0m\n\u001b[0;32m    <a href='file:///~/.conda/envs/napari-lattice/lib/site-packages/skimage/exposure/exposure.py?line=819'>820</a>\u001b[0m \u001b[39m    False\u001b[39;00m\n\u001b[0;32m    <a href='file:///~/.conda/envs/napari-lattice/lib/site-packages/skimage/exposure/exposure.py?line=820'>821</a>\u001b[0m \u001b[39m    \"\"\"\u001b[39;00m\n\u001b[1;32m--> <a href='file:///~/.conda/envs/napari-lattice/lib/site-packages/skimage/exposure/exposure.py?line=821'>822</a>\u001b[0m     image \u001b[39m=\u001b[39m np\u001b[39m.\u001b[39;49masanyarray(image)\n\u001b[0;32m    <a href='file:///~/.conda/envs/napari-lattice/lib/site-packages/skimage/exposure/exposure.py?line=823'>824</a>\u001b[0m     \u001b[39mif\u001b[39;00m image\u001b[39m.\u001b[39mdtype \u001b[39m==\u001b[39m \u001b[39mbool\u001b[39m:\n\u001b[0;32m    <a href='file:///~/.conda/envs/napari-lattice/lib/site-packages/skimage/exposure/exposure.py?line=824'>825</a>\u001b[0m         \u001b[39mreturn\u001b[39;00m \u001b[39mnot\u001b[39;00m ((image\u001b[39m.\u001b[39mmax() \u001b[39m==\u001b[39m \u001b[39m1\u001b[39m) \u001b[39mand\u001b[39;00m (image\u001b[39m.\u001b[39mmin() \u001b[39m==\u001b[39m \u001b[39m0\u001b[39m))\n",
      "File \u001b[1;32m~\\.conda\\envs\\napari-lattice\\lib\\site-packages\\dask\\array\\core.py:1581\u001b[0m, in \u001b[0;36mArray.__array__\u001b[1;34m(self, dtype, **kwargs)\u001b[0m\n\u001b[0;32m   <a href='file:///~/.conda/envs/napari-lattice/lib/site-packages/dask/array/core.py?line=1579'>1580</a>\u001b[0m \u001b[39mdef\u001b[39;00m \u001b[39m__array__\u001b[39m(\u001b[39mself\u001b[39m, dtype\u001b[39m=\u001b[39m\u001b[39mNone\u001b[39;00m, \u001b[39m*\u001b[39m\u001b[39m*\u001b[39mkwargs):\n\u001b[1;32m-> <a href='file:///~/.conda/envs/napari-lattice/lib/site-packages/dask/array/core.py?line=1580'>1581</a>\u001b[0m     x \u001b[39m=\u001b[39m \u001b[39mself\u001b[39;49m\u001b[39m.\u001b[39;49mcompute()\n\u001b[0;32m   <a href='file:///~/.conda/envs/napari-lattice/lib/site-packages/dask/array/core.py?line=1581'>1582</a>\u001b[0m     \u001b[39mif\u001b[39;00m dtype \u001b[39mand\u001b[39;00m x\u001b[39m.\u001b[39mdtype \u001b[39m!=\u001b[39m dtype:\n\u001b[0;32m   <a href='file:///~/.conda/envs/napari-lattice/lib/site-packages/dask/array/core.py?line=1582'>1583</a>\u001b[0m         x \u001b[39m=\u001b[39m x\u001b[39m.\u001b[39mastype(dtype)\n",
      "File \u001b[1;32m~\\.conda\\envs\\napari-lattice\\lib\\site-packages\\dask\\base.py:288\u001b[0m, in \u001b[0;36mDaskMethodsMixin.compute\u001b[1;34m(self, **kwargs)\u001b[0m\n\u001b[0;32m    <a href='file:///~/.conda/envs/napari-lattice/lib/site-packages/dask/base.py?line=263'>264</a>\u001b[0m \u001b[39mdef\u001b[39;00m \u001b[39mcompute\u001b[39m(\u001b[39mself\u001b[39m, \u001b[39m*\u001b[39m\u001b[39m*\u001b[39mkwargs):\n\u001b[0;32m    <a href='file:///~/.conda/envs/napari-lattice/lib/site-packages/dask/base.py?line=264'>265</a>\u001b[0m     \u001b[39m\"\"\"Compute this dask collection\u001b[39;00m\n\u001b[0;32m    <a href='file:///~/.conda/envs/napari-lattice/lib/site-packages/dask/base.py?line=265'>266</a>\u001b[0m \n\u001b[0;32m    <a href='file:///~/.conda/envs/napari-lattice/lib/site-packages/dask/base.py?line=266'>267</a>\u001b[0m \u001b[39m    This turns a lazy Dask collection into its in-memory equivalent.\u001b[39;00m\n\u001b[1;32m   (...)\u001b[0m\n\u001b[0;32m    <a href='file:///~/.conda/envs/napari-lattice/lib/site-packages/dask/base.py?line=285'>286</a>\u001b[0m \u001b[39m    dask.base.compute\u001b[39;00m\n\u001b[0;32m    <a href='file:///~/.conda/envs/napari-lattice/lib/site-packages/dask/base.py?line=286'>287</a>\u001b[0m \u001b[39m    \"\"\"\u001b[39;00m\n\u001b[1;32m--> <a href='file:///~/.conda/envs/napari-lattice/lib/site-packages/dask/base.py?line=287'>288</a>\u001b[0m     (result,) \u001b[39m=\u001b[39m compute(\u001b[39mself\u001b[39;49m, traverse\u001b[39m=\u001b[39;49m\u001b[39mFalse\u001b[39;49;00m, \u001b[39m*\u001b[39;49m\u001b[39m*\u001b[39;49mkwargs)\n\u001b[0;32m    <a href='file:///~/.conda/envs/napari-lattice/lib/site-packages/dask/base.py?line=288'>289</a>\u001b[0m     \u001b[39mreturn\u001b[39;00m result\n",
      "File \u001b[1;32m~\\.conda\\envs\\napari-lattice\\lib\\site-packages\\dask\\base.py:572\u001b[0m, in \u001b[0;36mcompute\u001b[1;34m(traverse, optimize_graph, scheduler, get, *args, **kwargs)\u001b[0m\n\u001b[0;32m    <a href='file:///~/.conda/envs/napari-lattice/lib/site-packages/dask/base.py?line=568'>569</a>\u001b[0m     postcomputes\u001b[39m.\u001b[39mappend(x\u001b[39m.\u001b[39m__dask_postcompute__())\n\u001b[0;32m    <a href='file:///~/.conda/envs/napari-lattice/lib/site-packages/dask/base.py?line=570'>571</a>\u001b[0m results \u001b[39m=\u001b[39m schedule(dsk, keys, \u001b[39m*\u001b[39m\u001b[39m*\u001b[39mkwargs)\n\u001b[1;32m--> <a href='file:///~/.conda/envs/napari-lattice/lib/site-packages/dask/base.py?line=571'>572</a>\u001b[0m \u001b[39mreturn\u001b[39;00m repack([f(r, \u001b[39m*\u001b[39ma) \u001b[39mfor\u001b[39;00m r, (f, a) \u001b[39min\u001b[39;00m \u001b[39mzip\u001b[39m(results, postcomputes)])\n",
      "File \u001b[1;32m~\\.conda\\envs\\napari-lattice\\lib\\site-packages\\dask\\base.py:572\u001b[0m, in \u001b[0;36m<listcomp>\u001b[1;34m(.0)\u001b[0m\n\u001b[0;32m    <a href='file:///~/.conda/envs/napari-lattice/lib/site-packages/dask/base.py?line=568'>569</a>\u001b[0m     postcomputes\u001b[39m.\u001b[39mappend(x\u001b[39m.\u001b[39m__dask_postcompute__())\n\u001b[0;32m    <a href='file:///~/.conda/envs/napari-lattice/lib/site-packages/dask/base.py?line=570'>571</a>\u001b[0m results \u001b[39m=\u001b[39m schedule(dsk, keys, \u001b[39m*\u001b[39m\u001b[39m*\u001b[39mkwargs)\n\u001b[1;32m--> <a href='file:///~/.conda/envs/napari-lattice/lib/site-packages/dask/base.py?line=571'>572</a>\u001b[0m \u001b[39mreturn\u001b[39;00m repack([f(r, \u001b[39m*\u001b[39;49ma) \u001b[39mfor\u001b[39;00m r, (f, a) \u001b[39min\u001b[39;00m \u001b[39mzip\u001b[39m(results, postcomputes)])\n",
      "File \u001b[1;32m~\\.conda\\envs\\napari-lattice\\lib\\site-packages\\dask\\array\\core.py:1164\u001b[0m, in \u001b[0;36mfinalize\u001b[1;34m(results)\u001b[0m\n\u001b[0;32m   <a href='file:///~/.conda/envs/napari-lattice/lib/site-packages/dask/array/core.py?line=1161'>1162</a>\u001b[0m \u001b[39mwhile\u001b[39;00m \u001b[39misinstance\u001b[39m(results2, (\u001b[39mtuple\u001b[39m, \u001b[39mlist\u001b[39m)):\n\u001b[0;32m   <a href='file:///~/.conda/envs/napari-lattice/lib/site-packages/dask/array/core.py?line=1162'>1163</a>\u001b[0m     \u001b[39mif\u001b[39;00m \u001b[39mlen\u001b[39m(results2) \u001b[39m>\u001b[39m \u001b[39m1\u001b[39m:\n\u001b[1;32m-> <a href='file:///~/.conda/envs/napari-lattice/lib/site-packages/dask/array/core.py?line=1163'>1164</a>\u001b[0m         \u001b[39mreturn\u001b[39;00m concatenate3(results)\n\u001b[0;32m   <a href='file:///~/.conda/envs/napari-lattice/lib/site-packages/dask/array/core.py?line=1164'>1165</a>\u001b[0m     \u001b[39melse\u001b[39;00m:\n\u001b[0;32m   <a href='file:///~/.conda/envs/napari-lattice/lib/site-packages/dask/array/core.py?line=1165'>1166</a>\u001b[0m         results2 \u001b[39m=\u001b[39m results2[\u001b[39m0\u001b[39m]\n",
      "File \u001b[1;32m~\\.conda\\envs\\napari-lattice\\lib\\site-packages\\dask\\array\\core.py:5011\u001b[0m, in \u001b[0;36mconcatenate3\u001b[1;34m(arrays)\u001b[0m\n\u001b[0;32m   <a href='file:///~/.conda/envs/napari-lattice/lib/site-packages/dask/array/core.py?line=5008'>5009</a>\u001b[0m         \u001b[39mwhile\u001b[39;00m arr\u001b[39m.\u001b[39mndim \u001b[39m<\u001b[39m ndim:\n\u001b[0;32m   <a href='file:///~/.conda/envs/napari-lattice/lib/site-packages/dask/array/core.py?line=5009'>5010</a>\u001b[0m             arr \u001b[39m=\u001b[39m arr[\u001b[39mNone\u001b[39;00m, \u001b[39m.\u001b[39m\u001b[39m.\u001b[39m\u001b[39m.\u001b[39m]\n\u001b[1;32m-> <a href='file:///~/.conda/envs/napari-lattice/lib/site-packages/dask/array/core.py?line=5010'>5011</a>\u001b[0m     result[idx] \u001b[39m=\u001b[39m arr\n\u001b[0;32m   <a href='file:///~/.conda/envs/napari-lattice/lib/site-packages/dask/array/core.py?line=5012'>5013</a>\u001b[0m \u001b[39mreturn\u001b[39;00m result\n",
      "File \u001b[1;32me:\\python_repos\\pyclesperanto_prototype\\pyclesperanto_prototype\\_tier0\\_pycl.py:113\u001b[0m, in \u001b[0;36mOCLArray.__array__\u001b[1;34m(self, dtype)\u001b[0m\n\u001b[0;32m    <a href='file:///e%3A/python_repos/pyclesperanto_prototype/pyclesperanto_prototype/_tier0/_pycl.py?line=110'>111</a>\u001b[0m     \u001b[39mreturn\u001b[39;00m \u001b[39mself\u001b[39m\u001b[39m.\u001b[39mget()\n\u001b[0;32m    <a href='file:///e%3A/python_repos/pyclesperanto_prototype/pyclesperanto_prototype/_tier0/_pycl.py?line=111'>112</a>\u001b[0m \u001b[39melse\u001b[39;00m:\n\u001b[1;32m--> <a href='file:///e%3A/python_repos/pyclesperanto_prototype/pyclesperanto_prototype/_tier0/_pycl.py?line=112'>113</a>\u001b[0m     \u001b[39mreturn\u001b[39;00m \u001b[39mself\u001b[39;49m\u001b[39m.\u001b[39;49mget()\u001b[39m.\u001b[39mastype(dtype)\n",
      "File \u001b[1;32m~\\.conda\\envs\\napari-lattice\\lib\\site-packages\\pyopencl\\array.py:812\u001b[0m, in \u001b[0;36mArray.get\u001b[1;34m(self, queue, ary, async_, **kwargs)\u001b[0m\n\u001b[0;32m    <a href='file:///~/.conda/envs/napari-lattice/lib/site-packages/pyopencl/array.py?line=805'>806</a>\u001b[0m     \u001b[39mfrom\u001b[39;00m \u001b[39mwarnings\u001b[39;00m \u001b[39mimport\u001b[39;00m warn\n\u001b[0;32m    <a href='file:///~/.conda/envs/napari-lattice/lib/site-packages/pyopencl/array.py?line=806'>807</a>\u001b[0m     warn(\u001b[39m\"\u001b[39m\u001b[39mcalling pyopencl.Array.get with `async_=True` is deprecated. \u001b[39m\u001b[39m\"\u001b[39m\n\u001b[0;32m    <a href='file:///~/.conda/envs/napari-lattice/lib/site-packages/pyopencl/array.py?line=807'>808</a>\u001b[0m             \u001b[39m\"\u001b[39m\u001b[39mPlease use pyopencl.Array.get_async for asynchronous \u001b[39m\u001b[39m\"\u001b[39m\n\u001b[0;32m    <a href='file:///~/.conda/envs/napari-lattice/lib/site-packages/pyopencl/array.py?line=808'>809</a>\u001b[0m             \u001b[39m\"\u001b[39m\u001b[39mdevice-to-host transfers\u001b[39m\u001b[39m\"\u001b[39m,\n\u001b[0;32m    <a href='file:///~/.conda/envs/napari-lattice/lib/site-packages/pyopencl/array.py?line=809'>810</a>\u001b[0m             \u001b[39mDeprecationWarning\u001b[39;00m, \u001b[39m2\u001b[39m)\n\u001b[1;32m--> <a href='file:///~/.conda/envs/napari-lattice/lib/site-packages/pyopencl/array.py?line=811'>812</a>\u001b[0m ary, event1 \u001b[39m=\u001b[39m \u001b[39mself\u001b[39;49m\u001b[39m.\u001b[39;49m_get(queue\u001b[39m=\u001b[39;49mqueue, ary\u001b[39m=\u001b[39;49mary, async_\u001b[39m=\u001b[39;49masync_, \u001b[39m*\u001b[39;49m\u001b[39m*\u001b[39;49mkwargs)\n\u001b[0;32m    <a href='file:///~/.conda/envs/napari-lattice/lib/site-packages/pyopencl/array.py?line=813'>814</a>\u001b[0m \u001b[39mreturn\u001b[39;00m ary\n",
      "File \u001b[1;32m~\\.conda\\envs\\napari-lattice\\lib\\site-packages\\pyopencl\\array.py:761\u001b[0m, in \u001b[0;36mArray._get\u001b[1;34m(self, queue, ary, async_, **kwargs)\u001b[0m\n\u001b[0;32m    <a href='file:///~/.conda/envs/napari-lattice/lib/site-packages/pyopencl/array.py?line=755'>756</a>\u001b[0m         \u001b[39mfrom\u001b[39;00m \u001b[39mwarnings\u001b[39;00m \u001b[39mimport\u001b[39;00m warn\n\u001b[0;32m    <a href='file:///~/.conda/envs/napari-lattice/lib/site-packages/pyopencl/array.py?line=756'>757</a>\u001b[0m         warn(\u001b[39m\"\u001b[39m\u001b[39mget() between arrays of different shape is deprecated \u001b[39m\u001b[39m\"\u001b[39m\n\u001b[0;32m    <a href='file:///~/.conda/envs/napari-lattice/lib/site-packages/pyopencl/array.py?line=757'>758</a>\u001b[0m                 \u001b[39m\"\u001b[39m\u001b[39mand will be removed in PyCUDA 2017.x\u001b[39m\u001b[39m\"\u001b[39m,\n\u001b[0;32m    <a href='file:///~/.conda/envs/napari-lattice/lib/site-packages/pyopencl/array.py?line=758'>759</a>\u001b[0m                 \u001b[39mDeprecationWarning\u001b[39;00m, stacklevel\u001b[39m=\u001b[39m\u001b[39m2\u001b[39m)\n\u001b[1;32m--> <a href='file:///~/.conda/envs/napari-lattice/lib/site-packages/pyopencl/array.py?line=760'>761</a>\u001b[0m \u001b[39massert\u001b[39;00m \u001b[39mself\u001b[39m\u001b[39m.\u001b[39mflags\u001b[39m.\u001b[39mforc, \u001b[39m\"\u001b[39m\u001b[39mArray in get() must be contiguous\u001b[39m\u001b[39m\"\u001b[39m\n\u001b[0;32m    <a href='file:///~/.conda/envs/napari-lattice/lib/site-packages/pyopencl/array.py?line=762'>763</a>\u001b[0m queue \u001b[39m=\u001b[39m queue \u001b[39mor\u001b[39;00m \u001b[39mself\u001b[39m\u001b[39m.\u001b[39mqueue\n\u001b[0;32m    <a href='file:///~/.conda/envs/napari-lattice/lib/site-packages/pyopencl/array.py?line=763'>764</a>\u001b[0m \u001b[39mif\u001b[39;00m queue \u001b[39mis\u001b[39;00m \u001b[39mNone\u001b[39;00m:\n",
      "\u001b[1;31mAssertionError\u001b[0m: Array in get() must be contiguous"
     ]
    }
   ],
   "source": [
    "%%time\n",
    "output = recursive_imageProcess(image,deskew)"
   ]
  },
  {
   "cell_type": "markdown",
   "id": "51229052",
   "metadata": {},
   "source": [
    "Instead, returning it as an numpy array seems to work. As clesperanto converts it to 32 bit while processing, the array is converted to 16-bit after calculation.. However, this type conversion should be handled depending on the image. "
   ]
  },
  {
   "cell_type": "code",
   "execution_count": 22,
   "id": "a1941a2d",
   "metadata": {},
   "outputs": [],
   "source": [
    "from skimage.io import imsave\n",
    "\n",
    "save_path = \"D:\\\\deskew_save\\\\\"\n",
    "save_name = \"deskewed\"\n",
    "\n",
    "#create aicsimageio physical pixel size variable using PhysicalPixelSizes class to save pixel size\n",
    "aics_image_pixel_sizes = PhysicalPixelSizes(data.physical_pixel_sizes.Z,data.physical_pixel_sizes.Y,data.physical_pixel_sizes.X)\n",
    "\n",
    "def recursive_imageProcess(im,func,*args,**kwargs):\n",
    "    if len(im.shape) > 3:\n",
    "        for idx, sl in enumerate(im[0:3]):\n",
    "            output=recursive_imageProcess(sl,func,*args,**kwargs)\n",
    "            #Check if output is array; if so, save the file\n",
    "            if type(output) is np.ndarray:\n",
    "                print(\"Saving time: \"+str(idx))\n",
    "                final_name=save_path+os.sep+\"C0_T\"+str(idx)+\"_\"+save_name+\".ome.tif\"\n",
    "                #can also use aicsimageio writer\n",
    "                #writers.OmeTiffWriter.save(output, final_name, physical_pixel_sizes = aics_image_pixel_sizes)\n",
    "                imsave(final_name, output)\n",
    "                print(\"Saved\")\n",
    "        return np.array(output).astype('uint16')\n",
    "    return func(im,*args,**kwargs)"
   ]
  },
  {
   "cell_type": "code",
   "execution_count": 23,
   "id": "3df29a3c",
   "metadata": {},
   "outputs": [],
   "source": [
    "deskew = partial(cle.deskew_y,angle_in_degrees=deskewing_angle_in_degrees, \n",
    "                        voxel_size_x=voxel_size_x_in_microns, \n",
    "                        voxel_size_y=voxel_size_y_in_microns, \n",
    "                        voxel_size_z=voxel_size_z_in_microns)\n"
   ]
  },
  {
   "cell_type": "code",
   "execution_count": 24,
   "id": "164b8c65",
   "metadata": {},
   "outputs": [
    {
     "name": "stdout",
     "output_type": "stream",
     "text": [
      "Saving time: 0\n"
     ]
    },
    {
     "name": "stderr",
     "output_type": "stream",
     "text": [
      "C:\\Users\\Pradeep\\AppData\\Local\\Temp/ipykernel_23900/2511161897.py:19: UserWarning: D:\\deskew_save\\\\C0_T0_deskewed.ome.tif is a low contrast image\n",
      "  imsave(final_name, output)\n"
     ]
    },
    {
     "name": "stdout",
     "output_type": "stream",
     "text": [
      "Saved\n",
      "Saving time: 1\n"
     ]
    },
    {
     "name": "stderr",
     "output_type": "stream",
     "text": [
      "C:\\Users\\Pradeep\\AppData\\Local\\Temp/ipykernel_23900/2511161897.py:19: UserWarning: D:\\deskew_save\\\\C0_T1_deskewed.ome.tif is a low contrast image\n",
      "  imsave(final_name, output)\n"
     ]
    },
    {
     "name": "stdout",
     "output_type": "stream",
     "text": [
      "Saved\n",
      "Saving time: 2\n"
     ]
    },
    {
     "name": "stderr",
     "output_type": "stream",
     "text": [
      "C:\\Users\\Pradeep\\AppData\\Local\\Temp/ipykernel_23900/2511161897.py:19: UserWarning: D:\\deskew_save\\\\C0_T2_deskewed.ome.tif is a low contrast image\n",
      "  imsave(final_name, output)\n"
     ]
    },
    {
     "name": "stdout",
     "output_type": "stream",
     "text": [
      "Saved\n",
      "CPU times: total: 4.02 s\n",
      "Wall time: 8.18 s\n"
     ]
    }
   ],
   "source": [
    "%%time\n",
    "output = recursive_imageProcess(image,deskew)"
   ]
  },
  {
   "cell_type": "code",
   "execution_count": 19,
   "id": "927d4033",
   "metadata": {},
   "outputs": [
    {
     "name": "stderr",
     "output_type": "stream",
     "text": [
      "UsageError: Line magic function `%%time` not found.\n"
     ]
    }
   ],
   "source": [
    "save_path = \"D:\\\\deskew_save\\\\\"\n",
    "save_name = \"deskewed\"\n",
    "\n",
    "#create aicsimageio physical pixel size variable using PhysicalPixelSizes class to save pixel size\n",
    "aics_image_pixel_sizes = PhysicalPixelSizes(data.physical_pixel_sizes.Z,data.physical_pixel_sizes.Y,data.physical_pixel_sizes.X)\n",
    "\n",
    "\n",
    "#time_range = range(data.dims.T)\n",
    "#we will only the first few timepoints\n",
    "time_range = range(3)\n",
    "channel_range = range(data.dims.C)\n",
    "\n",
    "\n",
    "for time_point in tqdm(time_range, desc = \"Time\", position=0):    \n",
    "    for ch in tqdm(channel_range, desc = \"Channels\", position=1,leave = False): \n",
    "        image_to_deskew = data.get_image_dask_data(\"ZYX\",T=time_point,C=ch,S=0) #scene is zero for now\n",
    "        deskewed = cle.deskew_y(image_to_deskew, angle_in_degrees = deskewing_angle_in_degrees , \n",
    "                                voxel_size_x = voxel_size_x_in_microns, voxel_size_y= voxel_size_y_in_microns, voxel_size_z = voxel_size_z_in_microns)\n",
    "        final_name=save_path+os.sep+\"C\"+str(ch)+\"_T\"+str(time_point)+\"_\"+save_name+\".ome.tif\"\n",
    "        #writers.OmeTiffWriter.save(deskewed, final_name, physical_pixel_sizes = aics_image_pixel_sizes)\n",
    "        imsave(final_name, deskewed)"
   ]
  },
  {
   "cell_type": "code",
   "execution_count": null,
   "id": "4d198e8c",
   "metadata": {},
   "outputs": [],
   "source": []
  }
 ],
 "metadata": {
  "kernelspec": {
   "display_name": "Python 3 (ipykernel)",
   "language": "python",
   "name": "python3"
  },
  "language_info": {
   "codemirror_mode": {
    "name": "ipython",
    "version": 3
   },
   "file_extension": ".py",
   "mimetype": "text/x-python",
   "name": "python",
   "nbconvert_exporter": "python",
   "pygments_lexer": "ipython3",
   "version": "3.8.5"
  }
 },
 "nbformat": 4,
 "nbformat_minor": 5
}
