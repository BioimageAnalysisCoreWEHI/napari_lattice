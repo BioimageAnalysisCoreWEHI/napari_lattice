{
 "cells": [
  {
   "cell_type": "markdown",
   "metadata": {},
   "source": [
    "## PycudaDecon deconvolution\n",
    "\n",
    "Images require padding before passing them to pycudadecon. Otherwise, the shape of deconvolved image will be different than input image. We use a padding where the final dimensions are a multiple of 64. "
   ]
  },
  {
   "cell_type": "code",
   "execution_count": 1,
   "metadata": {},
   "outputs": [],
   "source": [
    "import numpy as np\n",
    "import math \n",
    "from pycudadecon import RLContext,TemporaryOTF,rl_decon\n",
    "\n",
    "\n",
    "#Arbitrary image and psf shapes to ensure images for now\n",
    "#can try different shapes to verify shape of output image\n",
    "\n",
    "psf = np.ones((30, 105, 105))\n",
    "\n",
    "image= np.ones((200,150,500))\n",
    "\n",
    "dzdata=0.3\n",
    "dxdata=0.1449922\n",
    "dzpsf=0.3\n",
    "dxpsf=0.1449922\n"
   ]
  },
  {
   "cell_type": "code",
   "execution_count": 3,
   "metadata": {},
   "outputs": [],
   "source": [
    "orig_image = np.ones((200,150,500))\n"
   ]
  },
  {
   "cell_type": "markdown",
   "metadata": {},
   "source": [
    "Without padding, if we use pycuda_decon, the deconvolved images get cropped."
   ]
  },
  {
   "cell_type": "code",
   "execution_count": 2,
   "metadata": {},
   "outputs": [
    {
     "name": "stderr",
     "output_type": "stream",
     "text": [
      "c:\\Users\\deepu\\Anaconda3\\envs\\napari_lattice\\lib\\site-packages\\pycudadecon\\otf.py:59: RuntimeWarning: divide by zero encountered in longlong_scalars\n",
      "  outnx = max_otf_size // (outnz * 4) - 2\n"
     ]
    },
    {
     "name": "stdout",
     "output_type": "stream",
     "text": [
      "Image shape is (315, 115, 992). Decon image shape is (315, 112, 980)\n"
     ]
    }
   ],
   "source": [
    "\n",
    "with TemporaryOTF(psf) as otf:\n",
    "    with RLContext(rawdata_shape=image.shape, otfpath=otf.path, dzdata=dzdata, dxdata=dxdata,dzpsf=dzpsf,dxpsf=dxpsf) as ctx:\n",
    "        decon_res = rl_decon(im=image, output_shape = ctx.out_shape,n_iters=10)\n",
    "\n",
    "print(f\"Image shape is {image.shape}. Decon image shape is {decon_res.shape}\")\n"
   ]
  },
  {
   "cell_type": "code",
   "execution_count": 6,
   "metadata": {},
   "outputs": [
    {
     "name": "stdout",
     "output_type": "stream",
     "text": [
      "PSF shape is (30, 105, 105). Padded PSF is (32, 112, 112)\n",
      "(320, 448, 768)\n",
      "(352, 560, 880)\n",
      "(384, 576, 896)\n",
      "Image shape is (320, 448, 768). Padded image is (384, 576, 896)\n"
     ]
    }
   ],
   "source": [
    "def pad_image_nearest_multiple(img:np.ndarray,nearest_multiple:int):\n",
    "    \"\"\"pad an Image to the nearest multiple of provided number\n",
    "\n",
    "    Args:\n",
    "        img (np.ndarray): \n",
    "        nearest_multiple (int): Multiple of number to be padded\n",
    "\n",
    "    Returns:\n",
    "        np.ndarray: Padded image\n",
    "    \"\"\"    \n",
    "    rounded_shape = tuple([math.ceil(dim/nearest_multiple)*nearest_multiple for dim in img.shape])\n",
    "    #get required padding\n",
    "    padding = np.array(rounded_shape) - np.array(img.shape)\n",
    "    padded_img = np.pad(img,((0,padding[0]),(0,padding[1]),(0,padding[2])),mode=\"reflect\")\n",
    "    return padded_img\n",
    "\n",
    "\n",
    "#pad PSF by dimensions that are multiple of 16\n",
    "psf_pad = pad_image_nearest_multiple(psf,16)\n",
    "\n",
    "print(f\"PSF shape is {psf.shape}. Padded PSF is {psf_pad.shape}\")\n",
    "\n",
    "#pad image y dimensions that are multiple of 64 and also pad by half of shape\n",
    "z_psf_pad,y_psf_pad,x_psf_pad = np.array(psf_pad.shape) //2\n",
    "\n",
    "orig_shape = image.shape\n",
    "image = np.pad(image,((z_psf_pad,z_psf_pad),(y_psf_pad,y_psf_pad),(x_psf_pad,x_psf_pad)),mode=\"reflect\")\n",
    "\n",
    "image = pad_image_nearest_multiple(image,64)\n",
    "\n",
    "print(f\"Image shape is {orig_shape}. Padded image is {image.shape}\")"
   ]
  },
  {
   "cell_type": "code",
   "execution_count": 7,
   "metadata": {},
   "outputs": [
    {
     "data": {
      "text/plain": [
       "(16, 56, 56)"
      ]
     },
     "execution_count": 7,
     "metadata": {},
     "output_type": "execute_result"
    }
   ],
   "source": [
    "z_psf_pad,y_psf_pad,x_psf_pad"
   ]
  },
  {
   "cell_type": "code",
   "execution_count": 4,
   "metadata": {},
   "outputs": [
    {
     "name": "stderr",
     "output_type": "stream",
     "text": [
      "c:\\Users\\deepu\\Anaconda3\\envs\\napari_lattice\\lib\\site-packages\\napari_tools_menu\\__init__.py:194: FutureWarning: Public access to Window.qt_viewer is deprecated and will be removed in\n",
      "v0.5.0. It is considered an \"implementation detail\" of the napari\n",
      "application, not part of the napari viewer model. If your use case\n",
      "requires access to qt_viewer, please open an issue to discuss.\n",
      "  self.tools_menu = ToolsMenu(self, self.qt_viewer.viewer)\n"
     ]
    },
    {
     "data": {
      "text/plain": [
       "<Image layer 'orig_image' at 0x2c4568eed90>"
      ]
     },
     "execution_count": 4,
     "metadata": {},
     "output_type": "execute_result"
    }
   ],
   "source": [
    "import napari \n",
    "viewer = napari.Viewer()\n",
    "\n",
    "viewer.add_image(image)\n",
    "viewer.add_image(orig_image)"
   ]
  },
  {
   "cell_type": "markdown",
   "metadata": {},
   "source": [
    "Run pycudadecon on images with padding"
   ]
  },
  {
   "cell_type": "code",
   "execution_count": 3,
   "metadata": {},
   "outputs": [
    {
     "name": "stdout",
     "output_type": "stream",
     "text": [
      "Image shape is (256, 320, 640). Decon image shape is (256, 320, 640)\n"
     ]
    }
   ],
   "source": [
    "with TemporaryOTF(psf_pad) as otf:\n",
    "    with RLContext(rawdata_shape=image.shape, otfpath=otf.path, dzdata=dzdata, dxdata=dxdata,dzpsf=dzpsf,dxpsf=dxpsf) as ctx:\n",
    "        decon_res = rl_decon(im=image, output_shape = ctx.out_shape,n_iters=10)\n",
    "\n",
    "print(f\"Image shape is {image.shape}. Decon image shape is {decon_res.shape}\")"
   ]
  },
  {
   "cell_type": "markdown",
   "metadata": {},
   "source": [
    "What if we use it on original psf without padding?"
   ]
  },
  {
   "cell_type": "code",
   "execution_count": 5,
   "metadata": {},
   "outputs": [
    {
     "name": "stderr",
     "output_type": "stream",
     "text": [
      "c:\\Users\\deepu\\Anaconda3\\envs\\napari_lattice\\lib\\site-packages\\pycudadecon\\otf.py:59: RuntimeWarning: divide by zero encountered in longlong_scalars\n",
      "  outnx = max_otf_size // (outnz * 4) - 2\n"
     ]
    },
    {
     "name": "stdout",
     "output_type": "stream",
     "text": [
      "Image shape is (1152, 128, 256). Decon image shape is (1152, 128, 256)\n"
     ]
    }
   ],
   "source": [
    "with TemporaryOTF(psf) as otf:\n",
    "    with RLContext(rawdata_shape=img_pad.shape, otfpath=otf.path, dzdata=dzdata, dxdata=dxdata,dzpsf=dzpsf,dxpsf=dxpsf) as ctx:\n",
    "        decon_res = rl_decon(im=img_pad, output_shape = ctx.out_shape,n_iters=10)\n",
    "\n",
    "print(f\"Image shape is {img_pad.shape}. Decon image shape is {decon_res.shape}\")"
   ]
  },
  {
   "cell_type": "markdown",
   "metadata": {},
   "source": [
    "It seems to work, however, we'll use psf with some padding as we've noticed some discrepancies occasionally"
   ]
  }
 ],
 "metadata": {
  "kernelspec": {
   "display_name": "Python 3.9.13 ('napari_lattice')",
   "language": "python",
   "name": "python3"
  },
  "language_info": {
   "codemirror_mode": {
    "name": "ipython",
    "version": 3
   },
   "file_extension": ".py",
   "mimetype": "text/x-python",
   "name": "python",
   "nbconvert_exporter": "python",
   "pygments_lexer": "ipython3",
   "version": "3.9.13"
  },
  "orig_nbformat": 4,
  "vscode": {
   "interpreter": {
    "hash": "1bca88ceff35d1c24cb5693b49134c52beacd17ba07b354dffd5545cda12a9f0"
   }
  }
 },
 "nbformat": 4,
 "nbformat_minor": 2
}
