{
 "cells": [
  {
   "cell_type": "markdown",
   "metadata": {},
   "source": [
    "#### Workbook for figuring how to check if functions are present in library when accessing workflows"
   ]
  },
  {
   "cell_type": "code",
   "execution_count": 9,
   "metadata": {},
   "outputs": [
    {
     "name": "stdout",
     "output_type": "stream",
     "text": [
      "ModuleSpec(name='skimage', loader=<_frozen_importlib_external.SourceFileLoader object at 0x000001F72230C550>, origin='c:\\\\Users\\\\Pradeep\\\\.conda\\\\envs\\\\aicsimageio_test\\\\lib\\\\site-packages\\\\skimage\\\\__init__.py', submodule_search_locations=['c:\\\\Users\\\\Pradeep\\\\.conda\\\\envs\\\\aicsimageio_test\\\\lib\\\\site-packages\\\\skimage'])\n"
     ]
    }
   ],
   "source": [
    "import importlib.util \n",
    "\n",
    "package= \"skimage.measure.regionprops_table\"\n",
    "is_present = importlib.util.find_spec(package) #find_spec will look for the package\n",
    "print(is_present)\n"
   ]
  },
  {
   "cell_type": "code",
   "execution_count": 1,
   "metadata": {},
   "outputs": [
    {
     "name": "stdout",
     "output_type": "stream",
     "text": [
      "Workflow:\n",
      "deskewing <- (<function deskew_y at 0x0000024BBA0070D0>, 'input', None, 30, 0.145, 0.145, 0.3, 1)\n",
      "median <- (<function median_sphere at 0x0000024BB8C70D30>, 'deskewing', None, 2, 2, 2)\n",
      "binarisation <- (<function greater_constant at 0x0000024BB8C641F0>, 'median', None, 1000)\n",
      "labeling <- (<function connected_components_labeling_box at 0x0000024BB8D1D1F0>, 'binarisation')\n",
      "\n"
     ]
    }
   ],
   "source": [
    "from napari_workflows import Workflow\n",
    "import pyclesperanto_prototype as cle\n",
    "image_seg_workflow = Workflow()\n",
    "from skimage.io import imread\n",
    "\n",
    "img = imread(\"../sample_data/RBC_lattice.tif\")\n",
    "\n",
    "voxel_size_x_in_microns = 0.145\n",
    "voxel_size_y_in_microns = 0.145\n",
    "voxel_size_z_in_microns = 0.3\n",
    "deskewing_angle_in_degrees = 30\n",
    "\n",
    "input_arg = \"input\"\n",
    "image_seg_workflow.set(\"deskewing\", cle.deskew_y, input_arg, angle_in_degrees = deskewing_angle_in_degrees,\n",
    "                    voxel_size_x = voxel_size_x_in_microns, voxel_size_y= voxel_size_y_in_microns,\n",
    "                    voxel_size_z = voxel_size_z_in_microns)\n",
    "\n",
    "image_seg_workflow.set(\"median\", cle.median_sphere,\"deskewing\",radius_x = 2, radius_y = 2, radius_z = 2)\n",
    "\n",
    "image_seg_workflow.set(\"binarisation\", cle.threshold,\"median\",constant =1000)\n",
    "\n",
    "image_seg_workflow.set(\"labeling\", cle.connected_components_labeling_box,\"binarisation\")\n",
    "\n",
    "print(str(image_seg_workflow))"
   ]
  },
  {
   "cell_type": "code",
   "execution_count": null,
   "metadata": {},
   "outputs": [],
   "source": [
    "#Iterate through tasks, get function and check if available.  \n",
    "#If not in environment, print error, this needs to be tested before running pipeline"
   ]
  },
  {
   "cell_type": "code",
   "execution_count": 26,
   "metadata": {},
   "outputs": [
    {
     "name": "stdout",
     "output_type": "stream",
     "text": [
      "[2, 3]\n",
      "[1, 2, 3]\n"
     ]
    }
   ],
   "source": [
    "scale = (1,2,3)\n",
    "import numpy as np\n",
    "ase = list(scale[1:3])\n",
    "print(ase)\n",
    "ase.insert(0,1)\n",
    "print(ase)\n"
   ]
  },
  {
   "cell_type": "code",
   "execution_count": 23,
   "metadata": {},
   "outputs": [
    {
     "data": {
      "text/plain": [
       "[1, 2, 3]"
      ]
     },
     "execution_count": 23,
     "metadata": {},
     "output_type": "execute_result"
    }
   ],
   "source": [
    "ase"
   ]
  },
  {
   "cell_type": "code",
   "execution_count": null,
   "metadata": {},
   "outputs": [],
   "source": []
  }
 ],
 "metadata": {
  "kernelspec": {
   "display_name": "Python 3.8.13 ('testing_env')",
   "language": "python",
   "name": "python3"
  },
  "language_info": {
   "codemirror_mode": {
    "name": "ipython",
    "version": 3
   },
   "file_extension": ".py",
   "mimetype": "text/x-python",
   "name": "python",
   "nbconvert_exporter": "python",
   "pygments_lexer": "ipython3",
   "version": "3.8.13"
  },
  "orig_nbformat": 4,
  "vscode": {
   "interpreter": {
    "hash": "b773d1dc9dcb11b0ef822ad495625a39eb2835901e874747dee5eec7edcf0869"
   }
  }
 },
 "nbformat": 4,
 "nbformat_minor": 2
}
