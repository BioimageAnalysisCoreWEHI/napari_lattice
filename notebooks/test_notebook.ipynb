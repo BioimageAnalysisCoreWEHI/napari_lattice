{
 "cells": [
  {
   "cell_type": "markdown",
   "metadata": {},
   "source": [
    "#### Testing deconvolution"
   ]
  },
  {
   "cell_type": "code",
   "execution_count": 23,
   "metadata": {},
   "outputs": [],
   "source": [
    "import RedLionfishDeconv as RL\n",
    "from skimage.io import imread ,imsave\n",
    "psf_path = \"C:\\\\Users\\\\Pradeep\\\\Downloads\\\\PSF_RFI_8bit.tif\"\n",
    "img_path = \"C:\\\\Users\\\\Pradeep\\\\Downloads\\\\gendata_psfconv_poiss_large.tif\"\n",
    "\n",
    "img = imread(img_path)\n",
    "psf = imread(psf_path)\n",
    "\n",
    "final = RL.doRLDeconvolutionFromNpArrays(data_np = img,psf_np = psf,method='gpu',useBlockAlgorithm=True)\n",
    "imsave(\"D:\\\\decon_block.tif\",final)"
   ]
  },
  {
   "cell_type": "code",
   "execution_count": 24,
   "metadata": {},
   "outputs": [
    {
     "name": "stderr",
     "output_type": "stream",
     "text": [
      "ERROR:root:Shape (60, 1026, 1544) is too large for OpenCL device shape limits [1024, 1024, 64]\n"
     ]
    }
   ],
   "source": [
    "final2 = RL.doRLDeconvolutionFromNpArrays(data_np = img,psf_np = psf,method='gpu',useBlockAlgorithm=False)\n",
    "imsave(\"D:\\\\decon_no_block.tif\",final2)"
   ]
  },
  {
   "cell_type": "code",
   "execution_count": null,
   "metadata": {},
   "outputs": [],
   "source": [
    "#Get deskewing data and try it as a workflow"
   ]
  },
  {
   "cell_type": "code",
   "execution_count": 14,
   "metadata": {},
   "outputs": [
    {
     "name": "stdout",
     "output_type": "stream",
     "text": [
      "Workflow:\n",
      "deskewing <- (<function deskew_y at 0x000001A8DFECE1F0>, 'input', None, 30, 0.145, 0.145, 0.3, 1)\n",
      "median <- (<function median_sphere at 0x000001A8DFD8E160>, 'deskewing', None, 2, 2, 2)\n",
      "binarisation <- (<function greater_constant at 0x000001A8DFD725E0>, 'median', None, 1000)\n",
      "labeling <- (<function connected_components_labeling_box at 0x000001A8DFE285E0>, 'binarisation')\n",
      "\n"
     ]
    }
   ],
   "source": [
    "from napari_workflows import Workflow\n",
    "import pyclesperanto_prototype as cle\n",
    "image_seg_workflow = Workflow()\n",
    "from skimage.io import imread\n",
    "\n",
    "img = imread(\"../sample_data/RBC_lattice.tif\")\n",
    "\n",
    "voxel_size_x_in_microns = 0.145\n",
    "voxel_size_y_in_microns = 0.145\n",
    "voxel_size_z_in_microns = 0.3\n",
    "deskewing_angle_in_degrees = 30\n",
    "\n",
    "input_arg = \"input\"\n",
    "image_seg_workflow.set(\"deskewing\", cle.deskew_y, input_arg, angle_in_degrees = deskewing_angle_in_degrees,\n",
    "                    voxel_size_x = voxel_size_x_in_microns, voxel_size_y= voxel_size_y_in_microns,\n",
    "                    voxel_size_z = voxel_size_z_in_microns)\n",
    "\n",
    "image_seg_workflow.set(\"median\", cle.median_sphere,\"deskewing\",radius_x = 2, radius_y = 2, radius_z = 2)\n",
    "\n",
    "image_seg_workflow.set(\"binarisation\", cle.threshold,\"median\",constant =1000)\n",
    "\n",
    "image_seg_workflow.set(\"labeling\", cle.connected_components_labeling_box,\"binarisation\")\n",
    "\n",
    "print(str(image_seg_workflow))"
   ]
  },
  {
   "cell_type": "code",
   "execution_count": 2,
   "metadata": {},
   "outputs": [
    {
     "ename": "ImportError",
     "evalue": "cannot import name 'Viewer' from 'napari' (unknown location)",
     "output_type": "error",
     "traceback": [
      "\u001b[1;31m---------------------------------------------------------------------------\u001b[0m",
      "\u001b[1;31mImportError\u001b[0m                               Traceback (most recent call last)",
      "\u001b[1;32md:\\OneDrive - wehi.edu.au\\WEHI_projects\\Lightsheet\\LLSZ_repo\\llsz_napari\\notebooks\\test_notebook.ipynb Cell 6'\u001b[0m in \u001b[0;36m<module>\u001b[1;34m\u001b[0m\n\u001b[1;32m----> <a href='vscode-notebook-cell:/d%3A/OneDrive%20-%20wehi.edu.au/WEHI_projects/Lightsheet/LLSZ_repo/llsz_napari/notebooks/test_notebook.ipynb#ch0000016?line=0'>1</a>\u001b[0m \u001b[39mfrom\u001b[39;00m \u001b[39mnapari_workflows\u001b[39;00m \u001b[39mimport\u001b[39;00m Workflow\n\u001b[0;32m      <a href='vscode-notebook-cell:/d%3A/OneDrive%20-%20wehi.edu.au/WEHI_projects/Lightsheet/LLSZ_repo/llsz_napari/notebooks/test_notebook.ipynb#ch0000016?line=1'>2</a>\u001b[0m \u001b[39mfrom\u001b[39;00m \u001b[39mnapari_workflows\u001b[39;00m\u001b[39m.\u001b[39;00m\u001b[39m_io_yaml_v1\u001b[39;00m \u001b[39mimport\u001b[39;00m load_workflow, save_workflow\n",
      "File \u001b[1;32mc:\\Users\\Pradeep\\.conda\\envs\\llsz\\lib\\site-packages\\napari_workflows\\__init__.py:4\u001b[0m, in \u001b[0;36m<module>\u001b[1;34m\u001b[0m\n\u001b[0;32m      <a href='file:///c%3A/Users/Pradeep/.conda/envs/llsz/lib/site-packages/napari_workflows/__init__.py?line=1'>2</a>\u001b[0m __version__ \u001b[39m=\u001b[39m \u001b[39m\"\u001b[39m\u001b[39m0.1.5\u001b[39m\u001b[39m\"\u001b[39m\n\u001b[1;32m----> <a href='file:///c%3A/Users/Pradeep/.conda/envs/llsz/lib/site-packages/napari_workflows/__init__.py?line=3'>4</a>\u001b[0m \u001b[39mfrom\u001b[39;00m \u001b[39m.\u001b[39;00m\u001b[39m_workflow\u001b[39;00m \u001b[39mimport\u001b[39;00m Workflow\n\u001b[0;32m      <a href='file:///c%3A/Users/Pradeep/.conda/envs/llsz/lib/site-packages/napari_workflows/__init__.py?line=4'>5</a>\u001b[0m \u001b[39mfrom\u001b[39;00m \u001b[39m.\u001b[39;00m\u001b[39m_workflow\u001b[39;00m \u001b[39mimport\u001b[39;00m WorkflowManager\n",
      "File \u001b[1;32mc:\\Users\\Pradeep\\.conda\\envs\\llsz\\lib\\site-packages\\napari_workflows\\_workflow.py:2\u001b[0m, in \u001b[0;36m<module>\u001b[1;34m\u001b[0m\n\u001b[0;32m      <a href='file:///c%3A/Users/Pradeep/.conda/envs/llsz/lib/site-packages/napari_workflows/_workflow.py?line=0'>1</a>\u001b[0m \u001b[39mimport\u001b[39;00m \u001b[39mnapari\u001b[39;00m\n\u001b[1;32m----> <a href='file:///c%3A/Users/Pradeep/.conda/envs/llsz/lib/site-packages/napari_workflows/_workflow.py?line=1'>2</a>\u001b[0m \u001b[39mfrom\u001b[39;00m \u001b[39mnapari\u001b[39;00m \u001b[39mimport\u001b[39;00m Viewer\n\u001b[0;32m      <a href='file:///c%3A/Users/Pradeep/.conda/envs/llsz/lib/site-packages/napari_workflows/_workflow.py?line=2'>3</a>\u001b[0m \u001b[39mimport\u001b[39;00m \u001b[39mnumpy\u001b[39;00m \u001b[39mas\u001b[39;00m \u001b[39mnp\u001b[39;00m\n\u001b[0;32m      <a href='file:///c%3A/Users/Pradeep/.conda/envs/llsz/lib/site-packages/napari_workflows/_workflow.py?line=3'>4</a>\u001b[0m \u001b[39mimport\u001b[39;00m \u001b[39minspect\u001b[39;00m\n",
      "\u001b[1;31mImportError\u001b[0m: cannot import name 'Viewer' from 'napari' (unknown location)"
     ]
    }
   ],
   "source": [
    "from napari_workflows import Workflow\n",
    "from napari_workflows._io_yaml_v1 import load_workflow, save_workflow"
   ]
  },
  {
   "cell_type": "code",
   "execution_count": 65,
   "metadata": {},
   "outputs": [
    {
     "name": "stdout",
     "output_type": "stream",
     "text": [
      "<function deskew_y at 0x000001A8DFECE1F0>\n",
      "<function median_sphere at 0x000001A8DFD8E160>\n",
      "<function greater_constant at 0x000001A8DFD725E0>\n",
      "<function connected_components_labeling_box at 0x000001A8DFE285E0>\n"
     ]
    }
   ],
   "source": [
    "for key in image_seg_workflow._tasks.keys():\n",
    "    for task in image_seg_workflow._tasks[key]:\n",
    "        if hasattr(task, '__call__'): # if function\n",
    "            print(task)\n",
    "            #validate_task_install(task)\n",
    "            #print(task.__module__)\n",
    "            "
   ]
  }
 ],
 "metadata": {
  "kernelspec": {
   "display_name": "Python 3.9.12 ('napari_lattice')",
   "language": "python",
   "name": "python3"
  },
  "language_info": {
   "codemirror_mode": {
    "name": "ipython",
    "version": 3
   },
   "file_extension": ".py",
   "mimetype": "text/x-python",
   "name": "python",
   "nbconvert_exporter": "python",
   "pygments_lexer": "ipython3",
   "version": "3.9.12"
  },
  "orig_nbformat": 4,
  "vscode": {
   "interpreter": {
    "hash": "932276240abc737164583bff777190af54899b7b9cb5335f141f8143bfeb95c0"
   }
  }
 },
 "nbformat": 4,
 "nbformat_minor": 2
}
