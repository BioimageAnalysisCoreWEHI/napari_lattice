{
 "cells": [
  {
   "cell_type": "markdown",
   "metadata": {},
   "source": [
    "## Deskewing and saving using simple for loops"
   ]
  },
  {
   "cell_type": "code",
   "execution_count": 3,
   "metadata": {},
   "outputs": [
    {
     "name": "stderr",
     "output_type": "stream",
     "text": [
      "C:\\Users\\Pradeep\\.conda\\envs\\napari-lattice\\lib\\site-packages\\skimage\\io\\manage_plugins.py:23: UserWarning: Your installed pillow version is < 8.1.2. Several security issues (CVE-2021-27921, CVE-2021-25290, CVE-2021-25291, CVE-2021-25293, and more) have been fixed in pillow 8.1.2 or higher. We recommend to upgrade this library.\n",
      "  from .collection import imread_collection_wrapper\n"
     ]
    },
    {
     "data": {
      "text/plain": [
       "<NVIDIA GeForce RTX 3080 on Platform: NVIDIA CUDA (1 refs)>"
      ]
     },
     "execution_count": 3,
     "metadata": {},
     "output_type": "execute_result"
    }
   ],
   "source": [
    "import dask\n",
    "import dask.array as da\n",
    "from pyclesperanto_prototype import imshow\n",
    "\n",
    "import pyclesperanto_prototype as cle\n",
    "\n",
    "from aicsimageio import AICSImage, writers\n",
    "from aicsimageio.types import PhysicalPixelSizes\n",
    "\n",
    "from functools import partial\n",
    "import numpy as np\n",
    "import os \n",
    "\n",
    "from tqdm import tqdm\n",
    "\n",
    "from skimage.io import imsave\n",
    "\n",
    "cle.get_device()"
   ]
  },
  {
   "cell_type": "code",
   "execution_count": 5,
   "metadata": {},
   "outputs": [],
   "source": [
    "data_path = 'C:\\\\RAPA_treated-01_resaved_c02_t_100.czi'\n",
    "data = AICSImage(data_path)\n",
    "\n",
    "voxel_size_x_in_microns = data.physical_pixel_sizes.X\n",
    "voxel_size_y_in_microns = data.physical_pixel_sizes.Y\n",
    "voxel_size_z_in_microns = data.physical_pixel_sizes.Z\n",
    "\n",
    "#eventually get angle from metadata\n",
    "deskewing_angle_in_degrees = 30"
   ]
  },
  {
   "cell_type": "markdown",
   "metadata": {},
   "source": [
    "Simple for loop to save the deskewed images as individual tiffs using scikit image imsave"
   ]
  },
  {
   "cell_type": "code",
   "execution_count": 6,
   "metadata": {},
   "outputs": [
    {
     "name": "stderr",
     "output_type": "stream",
     "text": [
      "Time: 100%|██████████| 3/3 [00:13<00:00,  4.61s/it]\n"
     ]
    }
   ],
   "source": [
    "save_path = \"D:\\\\deskew_save\\\\\"\n",
    "save_name = \"deskewed\"\n",
    "\n",
    "#create aicsimageio physical pixel size variable using PhysicalPixelSizes class to save pixel size\n",
    "aics_image_pixel_sizes = PhysicalPixelSizes(data.physical_pixel_sizes.Z,data.physical_pixel_sizes.Y,data.physical_pixel_sizes.X)\n",
    "\n",
    "\n",
    "#time_range = range(data.dims.T)\n",
    "#we will only the first few timepoints\n",
    "time_range = range(3)\n",
    "channel_range = range(data.dims.C)\n",
    "\n",
    "\n",
    "for time_point in tqdm(time_range, desc = \"Time\", position=0):\n",
    "        \n",
    "    for ch in tqdm(channel_range, desc = \"Channels\", position=1,leave = False): \n",
    "        image_to_deskew = data.get_image_dask_data(\"ZYX\",T=time_point,C=ch,S=0) #scene is zero for now\n",
    "        deskewed = cle.deskew_y(image_to_deskew, angle_in_degrees = deskewing_angle_in_degrees , \n",
    "                                voxel_size_x = voxel_size_x_in_microns, voxel_size_y= voxel_size_y_in_microns, voxel_size_z = voxel_size_z_in_microns)\n",
    "        final_name=save_path+os.sep+\"C\"+str(ch)+\"_T\"+str(time_point)+\"_\"+save_name+\".ome.tif\"\n",
    "        imsave(final_name, deskewed)"
   ]
  },
  {
   "cell_type": "markdown",
   "metadata": {},
   "source": [
    "Using Ometiffwriter gives me this error:"
   ]
  },
  {
   "cell_type": "code",
   "execution_count": 7,
   "metadata": {},
   "outputs": [
    {
     "name": "stderr",
     "output_type": "stream",
     "text": [
      "Time:   0%|          | 0/3 [00:01<?, ?it/s]\n"
     ]
    },
    {
     "ename": "AttributeError",
     "evalue": "'OCLArray' object has no attribute 'itemsize'",
     "output_type": "error",
     "traceback": [
      "\u001b[1;31m---------------------------------------------------------------------------\u001b[0m",
      "\u001b[1;31mAttributeError\u001b[0m                            Traceback (most recent call last)",
      "\u001b[1;32md:\\OneDrive - wehi.edu.au\\WEHI_projects\\Lightsheet\\LLSZ_repo\\llsz_napari\\notebooks\\Deskew_Save_simple.ipynb Cell 6'\u001b[0m in \u001b[0;36m<module>\u001b[1;34m\u001b[0m\n\u001b[0;32m     <a href='vscode-notebook-cell:/d%3A/OneDrive%20-%20wehi.edu.au/WEHI_projects/Lightsheet/LLSZ_repo/llsz_napari/notebooks/Deskew_Save_simple.ipynb#ch0000003?line=17'>18</a>\u001b[0m deskewed \u001b[39m=\u001b[39m cle\u001b[39m.\u001b[39mdeskew_y(image_to_deskew, angle_in_degrees \u001b[39m=\u001b[39m deskewing_angle_in_degrees , \n\u001b[0;32m     <a href='vscode-notebook-cell:/d%3A/OneDrive%20-%20wehi.edu.au/WEHI_projects/Lightsheet/LLSZ_repo/llsz_napari/notebooks/Deskew_Save_simple.ipynb#ch0000003?line=18'>19</a>\u001b[0m                         voxel_size_x \u001b[39m=\u001b[39m voxel_size_x_in_microns, voxel_size_y\u001b[39m=\u001b[39m voxel_size_y_in_microns, voxel_size_z \u001b[39m=\u001b[39m voxel_size_z_in_microns)\n\u001b[0;32m     <a href='vscode-notebook-cell:/d%3A/OneDrive%20-%20wehi.edu.au/WEHI_projects/Lightsheet/LLSZ_repo/llsz_napari/notebooks/Deskew_Save_simple.ipynb#ch0000003?line=19'>20</a>\u001b[0m final_name\u001b[39m=\u001b[39msave_path\u001b[39m+\u001b[39mos\u001b[39m.\u001b[39msep\u001b[39m+\u001b[39m\u001b[39m\"\u001b[39m\u001b[39mC\u001b[39m\u001b[39m\"\u001b[39m\u001b[39m+\u001b[39m\u001b[39mstr\u001b[39m(ch)\u001b[39m+\u001b[39m\u001b[39m\"\u001b[39m\u001b[39m_T\u001b[39m\u001b[39m\"\u001b[39m\u001b[39m+\u001b[39m\u001b[39mstr\u001b[39m(time_point)\u001b[39m+\u001b[39m\u001b[39m\"\u001b[39m\u001b[39m_\u001b[39m\u001b[39m\"\u001b[39m\u001b[39m+\u001b[39msave_name\u001b[39m+\u001b[39m\u001b[39m\"\u001b[39m\u001b[39m.ome.tif\u001b[39m\u001b[39m\"\u001b[39m\n\u001b[1;32m---> <a href='vscode-notebook-cell:/d%3A/OneDrive%20-%20wehi.edu.au/WEHI_projects/Lightsheet/LLSZ_repo/llsz_napari/notebooks/Deskew_Save_simple.ipynb#ch0000003?line=20'>21</a>\u001b[0m writers\u001b[39m.\u001b[39;49mOmeTiffWriter\u001b[39m.\u001b[39;49msave(deskewed, final_name, physical_pixel_sizes \u001b[39m=\u001b[39;49m aics_image_pixel_sizes)\n",
      "File \u001b[1;32m~\\.conda\\envs\\napari-lattice\\lib\\site-packages\\aicsimageio\\writers\\ome_tiff_writer.py:272\u001b[0m, in \u001b[0;36mOmeTiffWriter.save\u001b[1;34m(data, uri, dim_order, ome_xml, channel_names, image_name, physical_pixel_sizes, channel_colors, **kwargs)\u001b[0m\n\u001b[0;32m    <a href='file:///~/.conda/envs/napari-lattice/lib/site-packages/aicsimageio/writers/ome_tiff_writer.py?line=267'>268</a>\u001b[0m \u001b[39m# Save image to tiff!\u001b[39;00m\n\u001b[0;32m    <a href='file:///~/.conda/envs/napari-lattice/lib/site-packages/aicsimageio/writers/ome_tiff_writer.py?line=268'>269</a>\u001b[0m \u001b[39mwith\u001b[39;00m fs\u001b[39m.\u001b[39mopen(path, \u001b[39m\"\u001b[39m\u001b[39mwb\u001b[39m\u001b[39m\"\u001b[39m) \u001b[39mas\u001b[39;00m open_resource:\n\u001b[0;32m    <a href='file:///~/.conda/envs/napari-lattice/lib/site-packages/aicsimageio/writers/ome_tiff_writer.py?line=269'>270</a>\u001b[0m     tif \u001b[39m=\u001b[39m tifffile\u001b[39m.\u001b[39mTiffWriter(\n\u001b[0;32m    <a href='file:///~/.conda/envs/napari-lattice/lib/site-packages/aicsimageio/writers/ome_tiff_writer.py?line=270'>271</a>\u001b[0m         open_resource,\n\u001b[1;32m--> <a href='file:///~/.conda/envs/napari-lattice/lib/site-packages/aicsimageio/writers/ome_tiff_writer.py?line=271'>272</a>\u001b[0m         bigtiff\u001b[39m=\u001b[39mOmeTiffWriter\u001b[39m.\u001b[39;49m_size_of_ndarray(data\u001b[39m=\u001b[39;49mdata) \u001b[39m>\u001b[39m BIGTIFF_BYTE_LIMIT,\n\u001b[0;32m    <a href='file:///~/.conda/envs/napari-lattice/lib/site-packages/aicsimageio/writers/ome_tiff_writer.py?line=272'>273</a>\u001b[0m     )\n\u001b[0;32m    <a href='file:///~/.conda/envs/napari-lattice/lib/site-packages/aicsimageio/writers/ome_tiff_writer.py?line=274'>275</a>\u001b[0m     \u001b[39m# now the heavy lifting. assemble the raw data and write it\u001b[39;00m\n\u001b[0;32m    <a href='file:///~/.conda/envs/napari-lattice/lib/site-packages/aicsimageio/writers/ome_tiff_writer.py?line=275'>276</a>\u001b[0m     \u001b[39mfor\u001b[39;00m scene_index \u001b[39min\u001b[39;00m \u001b[39mrange\u001b[39m(num_images):\n",
      "File \u001b[1;32m~\\.conda\\envs\\napari-lattice\\lib\\site-packages\\aicsimageio\\writers\\ome_tiff_writer.py:423\u001b[0m, in \u001b[0;36mOmeTiffWriter._size_of_ndarray\u001b[1;34m(data)\u001b[0m\n\u001b[0;32m    <a href='file:///~/.conda/envs/napari-lattice/lib/site-packages/aicsimageio/writers/ome_tiff_writer.py?line=420'>421</a>\u001b[0m size \u001b[39m=\u001b[39m \u001b[39m0\u001b[39m\n\u001b[0;32m    <a href='file:///~/.conda/envs/napari-lattice/lib/site-packages/aicsimageio/writers/ome_tiff_writer.py?line=421'>422</a>\u001b[0m \u001b[39mfor\u001b[39;00m i \u001b[39min\u001b[39;00m \u001b[39mrange\u001b[39m(\u001b[39mlen\u001b[39m(data)):\n\u001b[1;32m--> <a href='file:///~/.conda/envs/napari-lattice/lib/site-packages/aicsimageio/writers/ome_tiff_writer.py?line=422'>423</a>\u001b[0m     size \u001b[39m+\u001b[39m\u001b[39m=\u001b[39m data[i]\u001b[39m.\u001b[39msize \u001b[39m*\u001b[39m data[i]\u001b[39m.\u001b[39;49mitemsize\n\u001b[0;32m    <a href='file:///~/.conda/envs/napari-lattice/lib/site-packages/aicsimageio/writers/ome_tiff_writer.py?line=423'>424</a>\u001b[0m \u001b[39mreturn\u001b[39;00m size\n",
      "\u001b[1;31mAttributeError\u001b[0m: 'OCLArray' object has no attribute 'itemsize'"
     ]
    }
   ],
   "source": [
    "save_path = \"D:\\\\deskew_save\\\\\"\n",
    "save_name = \"deskewed\"\n",
    "\n",
    "#create aicsimageio physical pixel size variable using PhysicalPixelSizes class to save pixel size\n",
    "aics_image_pixel_sizes = PhysicalPixelSizes(data.physical_pixel_sizes.Z,data.physical_pixel_sizes.Y,data.physical_pixel_sizes.X)\n",
    "\n",
    "\n",
    "#time_range = range(data.dims.T)\n",
    "#we will only the first few timepoints\n",
    "time_range = range(3)\n",
    "channel_range = range(data.dims.C)\n",
    "\n",
    "\n",
    "for time_point in tqdm(time_range, desc = \"Time\", position=0):\n",
    "        \n",
    "    for ch in tqdm(channel_range, desc = \"Channels\", position=1,leave = False): \n",
    "        image_to_deskew = data.get_image_dask_data(\"ZYX\",T=time_point,C=ch,S=0) #scene is zero for now\n",
    "        deskewed = cle.deskew_y(image_to_deskew, angle_in_degrees = deskewing_angle_in_degrees , \n",
    "                                voxel_size_x = voxel_size_x_in_microns, voxel_size_y= voxel_size_y_in_microns, voxel_size_z = voxel_size_z_in_microns)\n",
    "        final_name=save_path+os.sep+\"C\"+str(ch)+\"_T\"+str(time_point)+\"_\"+save_name+\".ome.tif\"\n",
    "        writers.OmeTiffWriter.save(deskewed, final_name, physical_pixel_sizes = aics_image_pixel_sizes)"
   ]
  },
  {
   "cell_type": "code",
   "execution_count": null,
   "metadata": {},
   "outputs": [],
   "source": []
  }
 ],
 "metadata": {
  "interpreter": {
   "hash": "10b99887b74cc4cb4bd2264f3862ab915c02278d8edd73c34b702f5c5ffd1029"
  },
  "kernelspec": {
   "display_name": "Python 3.8.5 ('napari-lattice')",
   "language": "python",
   "name": "python3"
  },
  "language_info": {
   "codemirror_mode": {
    "name": "ipython",
    "version": 3
   },
   "file_extension": ".py",
   "mimetype": "text/x-python",
   "name": "python",
   "nbconvert_exporter": "python",
   "pygments_lexer": "ipython3",
   "version": "3.8.5"
  },
  "orig_nbformat": 4
 },
 "nbformat": 4,
 "nbformat_minor": 2
}
