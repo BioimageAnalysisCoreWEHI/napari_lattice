{
 "cells": [
  {
   "cell_type": "markdown",
   "metadata": {},
   "source": [
    "## Using workflows in napari-lattice\n",
    "\n",
    "Demo to use workflows in functions for end to end image analysis.\n",
    "\n",
    "This notebook shows how to save a simple workflow"
   ]
  },
  {
   "cell_type": "code",
   "execution_count": 2,
   "metadata": {},
   "outputs": [
    {
     "data": {
      "text/plain": [
       "<Intel(R) Iris(R) Xe Graphics on Platform: Intel(R) OpenCL Graphics (1 refs)>"
      ]
     },
     "execution_count": 2,
     "metadata": {},
     "output_type": "execute_result"
    }
   ],
   "source": [
    "import os\n",
    "import pyclesperanto_prototype as cle\n",
    "from napari_workflows import Workflow\n",
    "\n",
    "cle.get_device()\n"
   ]
  },
  {
   "cell_type": "code",
   "execution_count": 3,
   "metadata": {},
   "outputs": [
    {
     "name": "stdout",
     "output_type": "stream",
     "text": [
      "Downloading file\n",
      "Downloaded at : ./sample_data/RBC_tiny.czi\n"
     ]
    }
   ],
   "source": [
    "#download sample data from https://zenodo.org/records/14903188\n",
    "img_path = \"./sample_data/RBC_tiny.czi\"\n",
    "\n",
    "#make dir if not exists\n",
    "if not os.path.exists(\"./sample_data\"):\n",
    "    os.makedirs(\"./sample_data\")\n",
    "\n",
    "import urllib.request\n",
    "\n",
    "url = \"https://zenodo.org/records/14903188/files/RBC_tiny.czi?download=1\"\n",
    "if not os.path.exists(img_path):\n",
    "    print(\"Downloading file\")\n",
    "    urllib.request.urlretrieve(url, img_path)\n",
    "    print(f\"Downloaded at : {img_path}\")\n",
    "else:\n",
    "    print(f\"File already exists at : {img_path}\")"
   ]
  },
  {
   "cell_type": "code",
   "execution_count": 4,
   "metadata": {},
   "outputs": [],
   "source": [
    "#absolute path for saving\n",
    "save_path = \"C:/Users/rajasekhar.p/nap/napari_lattice/notebooks/sample_data\"\n",
    "\n",
    "#make dir if not exists\n",
    "if not os.path.exists(save_path):\n",
    "    os.makedirs(save_path)\n"
   ]
  },
  {
   "cell_type": "markdown",
   "metadata": {},
   "source": [
    "To design end to end image analysis workflows, we can use napari-workflows \n",
    "\n",
    "https://github.com/haesleinhuepf/napari-workflows\n",
    "\n",
    "Lets apply a gaussian blur filter using pyclesperanto library"
   ]
  },
  {
   "cell_type": "code",
   "execution_count": 13,
   "metadata": {},
   "outputs": [
    {
     "name": "stdout",
     "output_type": "stream",
     "text": [
      "Workflow:\n",
      "gaussian <- (<function gaussian_blur at 0x000001D37F6E3AC0>, 'deskewed_image', None, 5, 5, 2)\n",
      "\n"
     ]
    }
   ],
   "source": [
    "#import gaussian filter from pyclesperanto\n",
    "#We initialise a workflow\n",
    "gaussian_workflow = Workflow()\n",
    "\n",
    "#For napari-lattice, the input image should always be of the name \"deskewed_image\"\n",
    "\n",
    "input_arg = \"deskewed_image\"\n",
    "#define a simple gaussian filter\n",
    "task_name = \"gaussian\"\n",
    "gaussian_blur_sigma_x = 5\n",
    "gaussian_blur_sigma_y = 5\n",
    "gaussian_blur_sigma_z = 2\n",
    "\n",
    "gaussian_workflow.set(task_name, cle.gaussian_blur, \n",
    "                      input_arg, sigma_x = gaussian_blur_sigma_x,\n",
    "                      sigma_y = gaussian_blur_sigma_y,\n",
    "                      sigma_z = gaussian_blur_sigma_z)\n",
    "\n",
    "#Printing a workflow will show you the arguments\n",
    "print(gaussian_workflow)"
   ]
  },
  {
   "cell_type": "code",
   "execution_count": null,
   "metadata": {},
   "outputs": [
    {
     "name": "stderr",
     "output_type": "stream",
     "text": [
      "[INFO:2025-08-28 11:41:57,583] Processing File ./sample_data/RBC_tiny.czi\n"
     ]
    },
    {
     "name": "stdout",
     "output_type": "stream",
     "text": [
      "input_image=<xarray.DataArray 'transpose-1921c499e620816830b32ee3034745d3' (T: 1, C: 1,\n",
      "                                                                Z: 834, Y: 118,\n",
      "                                                                X: 209)> Size: 41MB\n",
      "dask.array<transpose, shape=(1, 1, 834, 118, 209), dtype=uint16, chunksize=(1, 1, 834, 118, 209), chunktype=numpy.ndarray>\n",
      "Coordinates:\n",
      "  * C        (C) <U17 68B 'LatticeLightsheet'\n",
      "  * Z        (Z) float64 7kB 0.0 0.3 0.6 0.9 1.2 ... 249.0 249.3 249.6 249.9\n",
      "  * Y        (Y) float64 944B 0.0 0.145 0.29 0.435 ... 16.53 16.67 16.82 16.96\n",
      "  * X        (X) float64 2kB 0.0 0.145 0.29 0.435 ... 29.72 29.87 30.01 30.16\n",
      "Dimensions without coordinates: T\n",
      "Attributes:\n",
      "    unprocessed:  <Element 'ImageDocument' at 0x000001D332A48F40> skew=<DeskewDirection.Y: 2> angle=30.0 physical_pixel_sizes=DefinedPixelSizes(X=0.14499219272808386, Y=0.14499219272808386, Z=0.3) derived=DerivedDeskewFields(deskew_vol_shape=(59, 1828, 209), deskew_affine_transform=<pyclesperanto_prototype._tier8._AffineTransform3D.AffineTransform3D object at 0x000001D3330298D0>, deskew_affine_transform_zyx=array([[ 1.11022302e-16, -5.00000000e-01,  0.00000000e+00,\n",
      "         5.90000000e+01],\n",
      "       [ 2.06907692e+00,  8.66025404e-01,  0.00000000e+00,\n",
      "         0.00000000e+00],\n",
      "       [ 0.00000000e+00,  0.00000000e+00,  1.00000000e+00,\n",
      "         0.00000000e+00],\n",
      "       [ 0.00000000e+00,  0.00000000e+00,  0.00000000e+00,\n",
      "         1.00000000e+00]])) save_dir=WindowsPath('C:/Users/rajasekhar.p/nap/napari_lattice/notebooks/sample_data') save_suffix='_deskewed' save_name='RBC_tiny_deskewed' save_type=<SaveFileType.h5: 'h5'> time_range=range(0, 1) channel_range=range(0, 1) deconvolution=None crop=None workflow=<napari_workflows._workflow.Workflow object at 0x000001D32285B070> progress_bar=True\n"
     ]
    },
    {
     "name": "stderr",
     "output_type": "stream",
     "text": [
      "[INFO:2025-08-28 11:42:00,863] build program: kernel 'affine_transform_deskew_y_3d' was part of a lengthy source build resulting from a binary cache miss (1.36 s)\n",
      "[INFO:2025-08-28 11:42:01,567] build program: kernel 'gaussian_blur_separable_3d' was part of a lengthy source build resulting from a binary cache miss (0.57 s)\n"
     ]
    }
   ],
   "source": [
    "from lls_core import LatticeData\n",
    "\n",
    "params = LatticeData(\n",
    "  input_image=img_path,\n",
    "  save_dir=save_path,\n",
    "  workflow=gaussian_workflow,\n",
    ")\n",
    "\n",
    "print(params)"
   ]
  },
  {
   "cell_type": "code",
   "execution_count": 7,
   "metadata": {},
   "outputs": [
    {
     "data": {
      "text/plain": [
       "<napari_workflows._workflow.Workflow at 0x1d32285b070>"
      ]
     },
     "execution_count": 7,
     "metadata": {},
     "output_type": "execute_result"
    }
   ],
   "source": [
    "# when running isave, if params.workflow has a workflow, then it will run the analysis workflow\n",
    "params.workflow"
   ]
  },
  {
   "cell_type": "code",
   "execution_count": 8,
   "metadata": {},
   "outputs": [
    {
     "name": "stderr",
     "output_type": "stream",
     "text": [
      "Timepoints:   0%|          | 0/1 [00:00<?, ?it/s][INFO:2025-08-28 11:41:59,144] Processing File <xarray.DataArray 'transpose-1921c499e620816830b32ee3034745d3' (Z: 834, Y: 118,\n",
      "                                                                X: 209)> Size: 41MB\n",
      "dask.array<getitem, shape=(834, 118, 209), dtype=uint16, chunksize=(834, 118, 209), chunktype=numpy.ndarray>\n",
      "Coordinates:\n",
      "    C        <U17 68B 'LatticeLightsheet'\n",
      "  * Z        (Z) float64 7kB 0.0 0.3 0.6 0.9 1.2 ... 249.0 249.3 249.6 249.9\n",
      "  * Y        (Y) float64 944B 0.0 0.145 0.29 0.435 ... 16.53 16.67 16.82 16.96\n",
      "  * X        (X) float64 2kB 0.0 0.145 0.29 0.435 ... 29.72 29.87 30.01 30.16\n",
      "Attributes:\n",
      "    unprocessed:  <Element 'ImageDocument' at 0x000001D332A48F40>\n"
     ]
    },
    {
     "name": "stdout",
     "output_type": "stream",
     "text": [
      "INFO: blockdim levels (1) < subsamp levels (3): First-level block size (4, 256, 256) will be used for all levels\n"
     ]
    },
    {
     "name": "stderr",
     "output_type": "stream",
     "text": [
      "Timepoints: 100%|██████████| 1/1 [00:05<00:00,  5.77s/it]\n"
     ]
    }
   ],
   "source": [
    "params.save()"
   ]
  },
  {
   "cell_type": "markdown",
   "metadata": {},
   "source": [
    "You can save the workflow for use in napari or programatically later on"
   ]
  },
  {
   "cell_type": "code",
   "execution_count": 14,
   "metadata": {},
   "outputs": [],
   "source": [
    "from napari_workflows import _io_yaml_v1 as io_yaml\n",
    "\n",
    "io_yaml.save_workflow(\"sample_data/gaussian_workflow.yaml\", gaussian_workflow)"
   ]
  },
  {
   "cell_type": "markdown",
   "metadata": {},
   "source": [
    "This should save a deskewed image with gaussian blur applied"
   ]
  }
 ],
 "metadata": {
  "kernelspec": {
   "display_name": "napari_lattice",
   "language": "python",
   "name": "python3"
  },
  "language_info": {
   "codemirror_mode": {
    "name": "ipython",
    "version": 3
   },
   "file_extension": ".py",
   "mimetype": "text/x-python",
   "name": "python",
   "nbconvert_exporter": "python",
   "pygments_lexer": "ipython3",
   "version": "3.10.0"
  },
  "orig_nbformat": 4
 },
 "nbformat": 4,
 "nbformat_minor": 2
}
