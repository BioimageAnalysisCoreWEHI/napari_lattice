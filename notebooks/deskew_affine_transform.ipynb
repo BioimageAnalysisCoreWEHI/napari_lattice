{
 "cells": [
  {
   "cell_type": "markdown",
   "metadata": {},
   "source": [
    "### Accessing the affine matrix for deskewing"
   ]
  },
  {
   "cell_type": "code",
   "execution_count": 3,
   "metadata": {},
   "outputs": [],
   "source": [
    "from skimage.io import imread\n",
    "import pyclesperanto_prototype as cle\n",
    "import numpy as np"
   ]
  },
  {
   "cell_type": "code",
   "execution_count": 4,
   "metadata": {},
   "outputs": [
    {
     "name": "stdout",
     "output_type": "stream",
     "text": [
      "Shape of original image (150, 118, 209)\n"
     ]
    }
   ],
   "source": [
    "#Read lattice file\n",
    "rbc = imread(\"../sample_data/RBC_lattice.tif\")\n",
    "\n",
    "voxel_size_x_in_microns = 0.1449922\n",
    "voxel_size_y_in_microns = 0.1449922\n",
    "voxel_size_z_in_microns = 0.3\n",
    "\n",
    "deskewing_angle_in_degrees = 30\n",
    "\n",
    "print(\"Shape of original image\", rbc.shape )"
   ]
  },
  {
   "cell_type": "code",
   "execution_count": 21,
   "metadata": {},
   "outputs": [
    {
     "data": {
      "text/plain": [
       "array([[ 1.       ,  0.       ,  0.       ,  0.       ],\n",
       "       [ 0.       ,  0.8660254,  1.       ,  0.       ],\n",
       "       [ 0.       , -0.5      ,  0.       ,  0.       ],\n",
       "       [ 0.       ,  0.       ,  0.       ,  1.       ]])"
      ]
     },
     "execution_count": 21,
     "metadata": {},
     "output_type": "execute_result"
    }
   ],
   "source": [
    "from napari_lattice.llsz_core import _deskew_y_vol_transform\n",
    "\n",
    "deskew_transform = _deskew_y_vol_transform(\n",
    "    original_volume = rbc,\n",
    "    angle_in_degrees= 30,\n",
    "    voxel_size_x = voxel_size_x_in_microns,\n",
    "    voxel_size_y = voxel_size_y_in_microns,\n",
    "    voxel_size_z = voxel_size_y_in_microns\n",
    ")\n",
    "\n",
    "deskew_transform._matrix"
   ]
  },
  {
   "cell_type": "code",
   "execution_count": 22,
   "metadata": {},
   "outputs": [
    {
     "data": {
      "text/plain": [
       "array([[ 0.       , -0.5      ,  0.       ,  0.       ],\n",
       "       [ 0.       ,  0.8660254,  1.       ,  0.       ],\n",
       "       [ 1.       ,  0.       ,  0.       ,  0.       ]])"
      ]
     },
     "execution_count": 22,
     "metadata": {},
     "output_type": "execute_result"
    }
   ],
   "source": [
    "#reorder the axes\n",
    "#TEST THIS\n",
    "z_ax = deskew_transform._matrix[0]\n",
    "y_ax = deskew_transform._matrix[1]\n",
    "x_ax = deskew_transform._matrix[2]\n",
    "\n",
    "deskew_transform_xyz = np.vstack((x_ax,y_ax,z_ax))\n",
    "deskew_transform_xyz\n",
    "\n"
   ]
  },
  {
   "cell_type": "markdown",
   "metadata": {},
   "source": [
    "Keep in mind that this transform is for images with axes in the order zyx which is conventional in Python. \n"
   ]
  },
  {
   "cell_type": "code",
   "execution_count": null,
   "metadata": {},
   "outputs": [],
   "source": []
  },
  {
   "cell_type": "code",
   "execution_count": 5,
   "metadata": {},
   "outputs": [
    {
     "name": "stdout",
     "output_type": "stream",
     "text": [
      "Shape of deskewed image (59, 413, 209)\n"
     ]
    }
   ],
   "source": [
    "#Perform deskewing on rbc image  \n",
    "deskewed = cle.deskew_y(rbc, \n",
    "                        angle_in_degrees=deskewing_angle_in_degrees, \n",
    "                        voxel_size_x=voxel_size_x_in_microns, \n",
    "                        voxel_size_y=voxel_size_y_in_microns, \n",
    "                        voxel_size_z=voxel_size_z_in_microns)\n",
    "\n",
    "print(\"Shape of deskewed image\",deskewed.shape)"
   ]
  }
 ],
 "metadata": {
  "kernelspec": {
   "display_name": "Python 3.7.3 ('base')",
   "language": "python",
   "name": "python3"
  },
  "language_info": {
   "codemirror_mode": {
    "name": "ipython",
    "version": 3
   },
   "file_extension": ".py",
   "mimetype": "text/x-python",
   "name": "python",
   "nbconvert_exporter": "python",
   "pygments_lexer": "ipython3",
   "version": "3.7.3"
  },
  "vscode": {
   "interpreter": {
    "hash": "7523616423d58fd2b8556c23c92618e4fe9a975f790e744c260b6656f0d17e66"
   }
  }
 },
 "nbformat": 4,
 "nbformat_minor": 4
}
