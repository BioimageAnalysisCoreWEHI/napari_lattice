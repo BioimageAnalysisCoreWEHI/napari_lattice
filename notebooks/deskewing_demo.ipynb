{
 "cells": [
  {
   "cell_type": "markdown",
   "metadata": {},
   "source": [
    "Demo for deskewing and using pyclesperanto and its affinetranform3d class"
   ]
  },
  {
   "cell_type": "code",
   "execution_count": 1,
   "metadata": {},
   "outputs": [],
   "source": [
    "import napari\n",
    "from aicsimageio import AICSImage\n",
    "import pyclesperanto_prototype as cle\n",
    "import numpy as np\n",
    "import math\n",
    "\n",
    "#decimal places when printing floats is set to 3\n",
    "np.set_printoptions(3)"
   ]
  },
  {
   "cell_type": "code",
   "execution_count": 2,
   "metadata": {},
   "outputs": [
    {
     "name": "stdout",
     "output_type": "stream",
     "text": [
      "Shape (834, 118, 209)\n"
     ]
    }
   ],
   "source": [
    "img_path = \"..\\sample_data\\RBC_tiny.czi\"\n",
    "rbc_aics = AICSImage(img_path)\n",
    "\n",
    "voxel_size_x = rbc_aics.physical_pixel_sizes.X\n",
    "voxel_size_y = rbc_aics.physical_pixel_sizes.Y\n",
    "voxel_size_z = rbc_aics.physical_pixel_sizes.Z\n",
    "\n",
    "\n",
    "rbc = rbc_aics.dask_data[0,0,...]\n",
    "\n",
    "print(\"Shape\",rbc.shape)\n",
    "\n"
   ]
  },
  {
   "cell_type": "code",
   "execution_count": 3,
   "metadata": {},
   "outputs": [
    {
     "name": "stdout",
     "output_type": "stream",
     "text": [
      "Max X projection\n"
     ]
    },
    {
     "data": {
      "image/png": "[encoded data removed]",
      "text/plain": [
       "<Figure size 432x288 with 1 Axes>"
      ]
     },
     "metadata": {
      "needs_background": "light"
     },
     "output_type": "display_data"
    }
   ],
   "source": [
    "print(\"Max X projection\")\n",
    "cle.imshow(cle.maximum_x_projection(rbc))"
   ]
  },
  {
   "cell_type": "markdown",
   "metadata": {},
   "source": [
    "Deskewing is implemented as a series of transformations in pyclesperanto. \n",
    "\n",
    "cle.AffineTransform3D is a class to setup and work with affine transform matrices"
   ]
  },
  {
   "cell_type": "code",
   "execution_count": 17,
   "metadata": {},
   "outputs": [
    {
     "data": {
      "text/plain": [
       "array([[1., 0., 0., 0.],\n",
       "       [0., 1., 0., 0.],\n",
       "       [0., 0., 1., 0.],\n",
       "       [0., 0., 0., 1.]])"
      ]
     },
     "execution_count": 17,
     "metadata": {},
     "output_type": "execute_result"
    }
   ],
   "source": [
    "#initialise a transform\n",
    "shear_transform =cle.AffineTransform3D()\n",
    "#To access the matrix you call the ._matrix method\n",
    "shear_transform._matrix"
   ]
  },
  {
   "cell_type": "markdown",
   "metadata": {},
   "source": [
    "The deskew_y function calls the function here:\n",
    "https://github.com/clEsperanto/pyclesperanto_prototype/blob/master/pyclesperanto_prototype/_tier8/_deskew_y.py\n",
    "\n",
    "which in turn uses the transform defined here:\n",
    "\n",
    "https://github.com/clEsperanto/pyclesperanto_prototype/blob/50a1f3ae6387963019c6997c69f239fb81adc4dc/pyclesperanto_prototype/_tier8/_AffineTransform3D.py#L301\n",
    "\n",
    "* Shear in XZ plane along Y axis around 90-deskew_angle\n",
    "* Coverslip rotation \n",
    "* Scale the image\n",
    "* Rotate it 90 degrees around X so that the Z plane is prox to distal\n",
    "\n",
    "Biggest point to keep in mind is the transforms in Clesperanto are all for images in the XYZ order. You pass the images as a ZYX array to clesperanto. AS it usees OpenCL, images are processed in the XYZ format, hence affine transforms are in the XYZ format. \n",
    "\n",
    "However, gputools and other libraries in python use affine transforms in ZYX format. This is the biggest difference to keep in mind."
   ]
  },
  {
   "cell_type": "code",
   "execution_count": 18,
   "metadata": {},
   "outputs": [
    {
     "name": "stdout",
     "output_type": "stream",
     "text": [
      "Before shearing\n",
      "[[1. 0. 0. 0.]\n",
      " [0. 1. 0. 0.]\n",
      " [0. 0. 1. 0.]\n",
      " [0. 0. 0. 1.]]\n"
     ]
    }
   ],
   "source": [
    "print(\"Before shearing\")\n",
    "print(shear_transform._matrix)"
   ]
  },
  {
   "cell_type": "code",
   "execution_count": 19,
   "metadata": {},
   "outputs": [
    {
     "name": "stdout",
     "output_type": "stream",
     "text": [
      "After shearing in X plane\n",
      "[[1.    0.    0.    0.   ]\n",
      " [0.    1.    1.792 0.   ]\n",
      " [0.    0.    1.    0.   ]\n",
      " [0.    0.    0.    1.   ]]\n",
      "Note that the matrix is different from above as we applied shearing\n"
     ]
    }
   ],
   "source": [
    "#To apply a transform, you call the associated methods in the AffineTransform3D class\n",
    "#Shear in X plane:\n",
    "deskewing_angle = 30\n",
    "#Current shearing doesn't take into account pixel sizes; change when fixed in clesperanto\n",
    "#shear_transform.shear_in_x_plane(angle_y_in_degrees = 90 - deskewing_angle)\n",
    "#Shearing with pixel size taken into account; Thanks Lachie!\n",
    "shear_factor = math.sin((90 - deskewing_angle) * math.pi / 180.0) * (voxel_size_z/voxel_size_y)\n",
    "shear_transform._matrix[1, 2] = shear_factor\n",
    "\n",
    "print(\"After shearing in X plane\")\n",
    "print(shear_transform._matrix)\n",
    "\n",
    "print(\"Note that the matrix is different from above as we applied shearing\")"
   ]
  },
  {
   "cell_type": "markdown",
   "metadata": {},
   "source": [
    "Once you've defined a transformation, to apply it, you use:\n",
    "`affine_transform` method"
   ]
  },
  {
   "cell_type": "code",
   "execution_count": 20,
   "metadata": {},
   "outputs": [
    {
     "name": "stdout",
     "output_type": "stream",
     "text": [
      "(834, 1612, 209)\n",
      "After shearing\n"
     ]
    },
    {
     "data": {
      "image/png": "[encoded data removed]",
      "text/plain": [
       "<Figure size 432x288 with 1 Axes>"
      ]
     },
     "metadata": {
      "needs_background": "light"
     },
     "output_type": "display_data"
    }
   ],
   "source": [
    "#Auto size is the speial method that determines if the image is out of bounds and if so, moves it back in bounds\n",
    "shear_transformed = cle.affine_transform(source= rbc,transform = shear_transform,auto_size=True)\n",
    "print(shear_transformed.shape)\n",
    "print(\"After shearing\")\n",
    "cle.imshow(cle.maximum_x_projection(shear_transformed))"
   ]
  },
  {
   "cell_type": "code",
   "execution_count": 22,
   "metadata": {},
   "outputs": [
    {
     "name": "stdout",
     "output_type": "stream",
     "text": [
      "(83, 1813, 209)\n",
      "After shearing and rotating\n"
     ]
    },
    {
     "data": {
      "image/png": "[encoded data removed]",
      "text/plain": [
       "<Figure size 432x288 with 1 Axes>"
      ]
     },
     "metadata": {
      "needs_background": "light"
     },
     "output_type": "display_data"
    }
   ],
   "source": [
    "shear_transform.rotate(angle_in_degrees = 0 - deskewing_angle, axis=0)\n",
    "#Auto size is the special method that determines if the image is out of bounds and if so, moves it back in bounds\n",
    "shear_transformed = cle.affine_transform(source= rbc,transform = shear_transform,auto_size=True)\n",
    "print(shear_transformed.shape)\n",
    "print(\"After shearing and rotating\")\n",
    "cle.imshow(cle.maximum_x_projection(shear_transformed))\n"
   ]
  },
  {
   "cell_type": "markdown",
   "metadata": {},
   "source": [
    "Implementation for deskewing below. "
   ]
  },
  {
   "cell_type": "code",
   "execution_count": 23,
   "metadata": {},
   "outputs": [
    {
     "name": "stdout",
     "output_type": "stream",
     "text": [
      "Affine transformation for deskewing\n",
      "[[ 1.000e+00  0.000e+00  0.000e+00  0.000e+00]\n",
      " [ 0.000e+00  8.660e-01  2.069e+00  0.000e+00]\n",
      " [ 0.000e+00 -5.000e-01  1.110e-16  0.000e+00]\n",
      " [ 0.000e+00  0.000e+00  0.000e+00  1.000e+00]]\n"
     ]
    }
   ],
   "source": [
    "#Defining Deskewing\n",
    "deskewing_angle = 30\n",
    "scale_factor = 1 #Scale factor is used in clesperanto if we want to scale the images in case they don't fit in memory\n",
    "\n",
    "#initialise a transform\n",
    "deskew_transform =cle.AffineTransform3D()\n",
    "#Shear\n",
    "shear_factor = math.sin((90 - deskewing_angle) * math.pi / 180.0) * (voxel_size_z/voxel_size_y)\n",
    "deskew_transform._matrix[1, 2] = shear_factor\n",
    "#Scale\n",
    "new_dz = math.sin(deskewing_angle * math.pi / 180.0) * voxel_size_z\n",
    "scale_factor_z = (new_dz / voxel_size_y) * scale_factor\n",
    "deskew_transform.scale(scale_x=scale_factor, scale_y=scale_factor, scale_z=scale_factor_z)\n",
    "#Rotate deskewing angle\n",
    "deskew_transform.rotate(angle_in_degrees = 0 - deskewing_angle, axis=0)\n",
    "\n",
    "print(\"Affine transformation for deskewing\")\n",
    "print(deskew_transform._matrix)\n"
   ]
  },
  {
   "cell_type": "markdown",
   "metadata": {},
   "source": [
    "Once you've defined a transformation, to apply it, you use:\n",
    "`affine_transform` method"
   ]
  },
  {
   "cell_type": "code",
   "execution_count": 24,
   "metadata": {},
   "outputs": [
    {
     "name": "stdout",
     "output_type": "stream",
     "text": [
      "(59, 1827, 209)\n"
     ]
    }
   ],
   "source": [
    "#Auto size is the special method that determines if the image is out of bounds and if so, moves it back in\n",
    "deskewed = cle.affine_transform(source= rbc,transform = deskew_transform,auto_size=True)\n",
    "print(deskewed.shape)\n"
   ]
  },
  {
   "cell_type": "code",
   "execution_count": 25,
   "metadata": {},
   "outputs": [
    {
     "data": {
      "image/png": "[encoded data removed]",
      "text/plain": [
       "<Figure size 432x288 with 1 Axes>"
      ]
     },
     "metadata": {
      "needs_background": "light"
     },
     "output_type": "display_data"
    }
   ],
   "source": [
    "cle.imshow(cle.maximum_x_projection(deskewed))"
   ]
  },
  {
   "cell_type": "code",
   "execution_count": 12,
   "metadata": {},
   "outputs": [
    {
     "name": "stderr",
     "output_type": "stream",
     "text": [
      "C:\\Users\\Pradeep\\.conda\\envs\\llsz\\lib\\site-packages\\napari_tools_menu\\__init__.py:165: FutureWarning: Public access to Window.qt_viewer is deprecated and will be removed in\n",
      "v0.5.0. It is considered an \"implementation detail\" of the napari\n",
      "application, not part of the napari viewer model. If your use case\n",
      "requires access to qt_viewer, please open an issue to discuss.\n",
      "  self.tools_menu = ToolsMenu(self, self.qt_viewer.viewer)\n"
     ]
    },
    {
     "data": {
      "text/plain": [
       "<Image layer 'deskewed' at 0x2c6f9827160>"
      ]
     },
     "execution_count": 12,
     "metadata": {},
     "output_type": "execute_result"
    }
   ],
   "source": [
    "import napari \n",
    "viewer = napari.Viewer()\n",
    "viewer.add_image(rbc)\n",
    "viewer.add_image(deskewed)"
   ]
  }
 ],
 "metadata": {
  "interpreter": {
   "hash": "b125774ed52bce20197a107bfe21f034626e1d18060420984cdd8b54cad74bd2"
  },
  "kernelspec": {
   "display_name": "Python 3.9.7 ('llsz_napari')",
   "language": "python",
   "name": "python3"
  },
  "language_info": {
   "codemirror_mode": {
    "name": "ipython",
    "version": 3
   },
   "file_extension": ".py",
   "mimetype": "text/x-python",
   "name": "python",
   "nbconvert_exporter": "python",
   "pygments_lexer": "ipython3",
   "version": "3.9.7"
  },
  "orig_nbformat": 4
 },
 "nbformat": 4,
 "nbformat_minor": 2
}
